{
 "cells": [
  {
   "cell_type": "code",
   "execution_count": 27,
   "id": "d226f82d",
   "metadata": {},
   "outputs": [],
   "source": [
    "import pandas as pd\n",
    "from sympy import symbols, Rational, init_printing, Eq, latex\n",
    "from sympy import symbols, Rational, Integer, Mul, Add, Eq, latex\n",
    "\n",
    "init_printing()\n",
    "data = [\n",
    "    [1, 1, 0,  1],\n",
    "    [0, 0, 1, -1],\n",
    "    [0, 1, 0,  1],\n",
    "    [1, 0, 1, -1],\n",
    "    [2, 1, 0, -1],\n",
    "    [1, 1, 1,  1]\n",
    "]\n",
    "df = pd.DataFrame(data, columns=[\"G1\", \"G2\", \"G3\", \"Y\"])"
   ]
  },
  {
   "cell_type": "code",
   "execution_count": 28,
   "id": "02bb3852",
   "metadata": {},
   "outputs": [
    {
     "data": {
      "text/html": [
       "<div>\n",
       "<style scoped>\n",
       "    .dataframe tbody tr th:only-of-type {\n",
       "        vertical-align: middle;\n",
       "    }\n",
       "\n",
       "    .dataframe tbody tr th {\n",
       "        vertical-align: top;\n",
       "    }\n",
       "\n",
       "    .dataframe thead th {\n",
       "        text-align: right;\n",
       "    }\n",
       "</style>\n",
       "<table border=\"1\" class=\"dataframe\">\n",
       "  <thead>\n",
       "    <tr style=\"text-align: right;\">\n",
       "      <th></th>\n",
       "      <th>G1</th>\n",
       "      <th>G2</th>\n",
       "      <th>G3</th>\n",
       "      <th>Y</th>\n",
       "    </tr>\n",
       "  </thead>\n",
       "  <tbody>\n",
       "    <tr>\n",
       "      <th>0</th>\n",
       "      <td>1</td>\n",
       "      <td>1</td>\n",
       "      <td>0</td>\n",
       "      <td>1</td>\n",
       "    </tr>\n",
       "    <tr>\n",
       "      <th>1</th>\n",
       "      <td>0</td>\n",
       "      <td>0</td>\n",
       "      <td>1</td>\n",
       "      <td>-1</td>\n",
       "    </tr>\n",
       "    <tr>\n",
       "      <th>2</th>\n",
       "      <td>0</td>\n",
       "      <td>1</td>\n",
       "      <td>0</td>\n",
       "      <td>1</td>\n",
       "    </tr>\n",
       "    <tr>\n",
       "      <th>3</th>\n",
       "      <td>1</td>\n",
       "      <td>0</td>\n",
       "      <td>1</td>\n",
       "      <td>-1</td>\n",
       "    </tr>\n",
       "    <tr>\n",
       "      <th>4</th>\n",
       "      <td>2</td>\n",
       "      <td>1</td>\n",
       "      <td>0</td>\n",
       "      <td>-1</td>\n",
       "    </tr>\n",
       "    <tr>\n",
       "      <th>5</th>\n",
       "      <td>1</td>\n",
       "      <td>1</td>\n",
       "      <td>1</td>\n",
       "      <td>1</td>\n",
       "    </tr>\n",
       "  </tbody>\n",
       "</table>\n",
       "</div>"
      ],
      "text/plain": [
       "   G1  G2  G3  Y\n",
       "0   1   1   0  1\n",
       "1   0   0   1 -1\n",
       "2   0   1   0  1\n",
       "3   1   0   1 -1\n",
       "4   2   1   0 -1\n",
       "5   1   1   1  1"
      ]
     },
     "execution_count": 28,
     "metadata": {},
     "output_type": "execute_result"
    }
   ],
   "source": [
    "df"
   ]
  },
  {
   "cell_type": "code",
   "execution_count": 55,
   "id": "899d3332",
   "metadata": {},
   "outputs": [
    {
     "name": "stdout",
     "output_type": "stream",
     "text": [
      "Result: 0.08333333333333331 with sign is 1 >= 0 => SICK\n",
      "Result: 0.5 with sign is 1 >= 0 => SICK\n",
      "Result: 0.3333333333333333 with sign is 1 >= 0 => SICK\n",
      "Result: 0.25 with sign is 1 >= 0 => SICK\n",
      "Result: -0.16666666666666669 with sign is -1 < 0 => HEALTHY\n",
      "Result: 0.5833333333333333 with sign is 1 >= 0 => SICK\n"
     ]
    }
   ],
   "source": [
    "def SIGN(v: int) -> int:\n",
    "    if v > 0:\n",
    "        return 1\n",
    "    elif v < 0:\n",
    "        return -1\n",
    "    return 0\n",
    "# G1s, G2s, G3s = symbols(\"G1 G2 G3\")\n",
    "\n",
    "def classifier(G1: int, G2: int, G3: int) -> int:\n",
    "    res = (1/2)*G3 + (1/3)*G2 - (1/4)*G1\n",
    "    if res >= 0:\n",
    "        print(f\"Result: {res} with sign is {SIGN(res)} >= 0 => SICK\")\n",
    "        return 1\n",
    "    elif res < 0:\n",
    "        print(f\"Result: {res} with sign is {SIGN(res)} < 0 => HEALTHY\")\n",
    "        return -1\n",
    "df['classifier_value'] = df.apply(lambda row: (1/2)*row['G3'] + (1/3)*row['G2'] - (1/4)*row['G1'], axis=1)\n",
    "df['classifier'] = df.apply(lambda row: classifier(row['G1'], row['G2'], row['G3']), axis=1)"
   ]
  },
  {
   "cell_type": "code",
   "execution_count": 56,
   "id": "bd5b3811",
   "metadata": {},
   "outputs": [
    {
     "data": {
      "text/html": [
       "<div>\n",
       "<style scoped>\n",
       "    .dataframe tbody tr th:only-of-type {\n",
       "        vertical-align: middle;\n",
       "    }\n",
       "\n",
       "    .dataframe tbody tr th {\n",
       "        vertical-align: top;\n",
       "    }\n",
       "\n",
       "    .dataframe thead th {\n",
       "        text-align: right;\n",
       "    }\n",
       "</style>\n",
       "<table border=\"1\" class=\"dataframe\">\n",
       "  <thead>\n",
       "    <tr style=\"text-align: right;\">\n",
       "      <th></th>\n",
       "      <th>G1</th>\n",
       "      <th>G2</th>\n",
       "      <th>G3</th>\n",
       "      <th>Y</th>\n",
       "      <th>classifier</th>\n",
       "      <th>classifier_value</th>\n",
       "    </tr>\n",
       "  </thead>\n",
       "  <tbody>\n",
       "    <tr>\n",
       "      <th>0</th>\n",
       "      <td>1</td>\n",
       "      <td>1</td>\n",
       "      <td>0</td>\n",
       "      <td>1</td>\n",
       "      <td>1</td>\n",
       "      <td>0.083333</td>\n",
       "    </tr>\n",
       "    <tr>\n",
       "      <th>1</th>\n",
       "      <td>0</td>\n",
       "      <td>0</td>\n",
       "      <td>1</td>\n",
       "      <td>-1</td>\n",
       "      <td>1</td>\n",
       "      <td>0.500000</td>\n",
       "    </tr>\n",
       "    <tr>\n",
       "      <th>2</th>\n",
       "      <td>0</td>\n",
       "      <td>1</td>\n",
       "      <td>0</td>\n",
       "      <td>1</td>\n",
       "      <td>1</td>\n",
       "      <td>0.333333</td>\n",
       "    </tr>\n",
       "    <tr>\n",
       "      <th>3</th>\n",
       "      <td>1</td>\n",
       "      <td>0</td>\n",
       "      <td>1</td>\n",
       "      <td>-1</td>\n",
       "      <td>1</td>\n",
       "      <td>0.250000</td>\n",
       "    </tr>\n",
       "    <tr>\n",
       "      <th>4</th>\n",
       "      <td>2</td>\n",
       "      <td>1</td>\n",
       "      <td>0</td>\n",
       "      <td>-1</td>\n",
       "      <td>-1</td>\n",
       "      <td>-0.166667</td>\n",
       "    </tr>\n",
       "    <tr>\n",
       "      <th>5</th>\n",
       "      <td>1</td>\n",
       "      <td>1</td>\n",
       "      <td>1</td>\n",
       "      <td>1</td>\n",
       "      <td>1</td>\n",
       "      <td>0.583333</td>\n",
       "    </tr>\n",
       "  </tbody>\n",
       "</table>\n",
       "</div>"
      ],
      "text/plain": [
       "   G1  G2  G3  Y  classifier  classifier_value\n",
       "0   1   1   0  1           1          0.083333\n",
       "1   0   0   1 -1           1          0.500000\n",
       "2   0   1   0  1           1          0.333333\n",
       "3   1   0   1 -1           1          0.250000\n",
       "4   2   1   0 -1          -1         -0.166667\n",
       "5   1   1   1  1           1          0.583333"
      ]
     },
     "execution_count": 56,
     "metadata": {},
     "output_type": "execute_result"
    }
   ],
   "source": [
    "df"
   ]
  },
  {
   "cell_type": "code",
   "execution_count": 37,
   "id": "b96bb939",
   "metadata": {},
   "outputs": [
    {
     "data": {
      "text/html": [
       "<div>\n",
       "<style scoped>\n",
       "    .dataframe tbody tr th:only-of-type {\n",
       "        vertical-align: middle;\n",
       "    }\n",
       "\n",
       "    .dataframe tbody tr th {\n",
       "        vertical-align: top;\n",
       "    }\n",
       "\n",
       "    .dataframe thead th {\n",
       "        text-align: right;\n",
       "    }\n",
       "</style>\n",
       "<table border=\"1\" class=\"dataframe\">\n",
       "  <thead>\n",
       "    <tr style=\"text-align: right;\">\n",
       "      <th>Predicted</th>\n",
       "      <th>-1</th>\n",
       "      <th>1</th>\n",
       "      <th>All</th>\n",
       "    </tr>\n",
       "    <tr>\n",
       "      <th>Actual</th>\n",
       "      <th></th>\n",
       "      <th></th>\n",
       "      <th></th>\n",
       "    </tr>\n",
       "  </thead>\n",
       "  <tbody>\n",
       "    <tr>\n",
       "      <th>-1</th>\n",
       "      <td>1</td>\n",
       "      <td>2</td>\n",
       "      <td>3</td>\n",
       "    </tr>\n",
       "    <tr>\n",
       "      <th>1</th>\n",
       "      <td>0</td>\n",
       "      <td>3</td>\n",
       "      <td>3</td>\n",
       "    </tr>\n",
       "    <tr>\n",
       "      <th>All</th>\n",
       "      <td>1</td>\n",
       "      <td>5</td>\n",
       "      <td>6</td>\n",
       "    </tr>\n",
       "  </tbody>\n",
       "</table>\n",
       "</div>"
      ],
      "text/plain": [
       "Predicted  -1  1  All\n",
       "Actual               \n",
       "-1          1  2    3\n",
       "1           0  3    3\n",
       "All         1  5    6"
      ]
     },
     "execution_count": 37,
     "metadata": {},
     "output_type": "execute_result"
    }
   ],
   "source": [
    "# create a confusion matrix\n",
    "confusion_matrix = pd.crosstab(df['Y'], df['classifier'], rownames=['Actual'], colnames=['Predicted'], margins=True)\n",
    "confusion_matrix"
   ]
  },
  {
   "cell_type": "code",
   "execution_count": 39,
   "id": "f6e99bc4",
   "metadata": {},
   "outputs": [
    {
     "data": {
      "image/png": "[encoded data removed]",
      "text/latex": [
       "$\\displaystyle \\left( 0.666666666666667, \\  0.6, \\  1.0, \\  0.75, \\  0.666666666666667\\right)$"
      ],
      "text/plain": [
       "(0.6666666666666666, 0.6, 1.0, 0.7499999999999999, 0.6666666666666666)"
      ]
     },
     "execution_count": 39,
     "metadata": {},
     "output_type": "execute_result"
    }
   ],
   "source": [
    "# calculate accuracy, precision, recall, f1-score , FPR\n",
    "TP = confusion_matrix.loc[1, 1]\n",
    "TN = confusion_matrix.loc[-1, -1]\n",
    "FP = confusion_matrix.loc[-1, 1]\n",
    "FN = confusion_matrix.loc[1, -1]\n",
    "\n",
    "\n",
    "accuracy = (TP + TN) / (TP + TN + FP + FN)\n",
    "precision = TP / (TP + FP) if (TP + FP) > 0 else 0\n",
    "recall = TP / (TP + FN) if (TP + FN) > 0 else 0\n",
    "f1_score = 2 * (precision * recall) / (precision + recall) if (precision + recall) > 0 else 0\n",
    "FPR = FP / (FP + TN) if (FP + TN) > 0 else 0\n",
    "accuracy, precision, recall, f1_score, FPR"
   ]
  },
  {
   "cell_type": "code",
   "execution_count": null,
   "id": "dac279d7",
   "metadata": {},
   "outputs": [
    {
     "name": "stderr",
     "output_type": "stream",
     "text": [
      "/opt/anaconda3/envs/py310/lib/python3.10/site-packages/sklearn/base.py:439: UserWarning: X does not have valid feature names, but GaussianNB was fitted with feature names\n",
      "  warnings.warn(\n"
     ]
    }
   ],
   "source": [
    "# apply the naive bayes classifier on the same dataset\n",
    "from sklearn.naive_bayes import GaussianNB\n",
    "from sklearn.metrics import confusion_matrix as sk_confusion_matrix, accuracy_score, precision_score, recall_score, f1_score\n",
    "X = df[['G1', 'G2', 'G3']]\n",
    "y = df['Y']\n",
    "model = GaussianNB()\n",
    "model.fit(X, y)\n",
    "y_pred = model.predict([[1,0,1]])"
   ]
  },
  {
   "cell_type": "code",
   "execution_count": 43,
   "id": "b295d872",
   "metadata": {},
   "outputs": [
    {
     "data": {
      "image/png": "[encoded data removed]",
      "text/latex": [
       "$\\displaystyle 1.0$"
      ],
      "text/plain": [
       "1.0"
      ]
     },
     "execution_count": 43,
     "metadata": {},
     "output_type": "execute_result"
    }
   ],
   "source": [
    "# calculate the information for Y \n",
    "from math import log2\n",
    "def entropy(probabilities):\n",
    "    return -sum(p * log2(p) for p in probabilities if p > 0)\n",
    "p_Y = df['Y'].value_counts(normalize=True)\n",
    "H_Y = entropy(p_Y)\n",
    "H_Y"
   ]
  },
  {
   "cell_type": "code",
   "execution_count": 46,
   "id": "f5a45c60",
   "metadata": {},
   "outputs": [
    {
     "data": {
      "image/png": "[encoded data removed]",
      "text/latex": [
       "$\\displaystyle 0.459147917027245$"
      ],
      "text/plain": [
       "0.4591479170272448"
      ]
     },
     "execution_count": 46,
     "metadata": {},
     "output_type": "execute_result"
    }
   ],
   "source": [
    "# calculate the information gain for G2\n",
    "p_G2 = df['G2'].value_counts(normalize=True)\n",
    "H_Y_given_G2 = 0\n",
    "for g2_value, p_g2 in p_G2.items():\n",
    "    subset = df[df['G2'] == g2_value]\n",
    "    p_Y_given_g2 = subset['Y'].value_counts(normalize=True)\n",
    "    H_Y_given_g2 = entropy(p_Y_given_g2)\n",
    "    H_Y_given_G2 += p_g2 * H_Y_given_g2\n",
    "IG_G2 = H_Y - H_Y_given_G2\n",
    "IG_G2"
   ]
  },
  {
   "cell_type": "code",
   "execution_count": 47,
   "id": "99fc5b0d",
   "metadata": {},
   "outputs": [
    {
     "data": {
      "image/png": "[encoded data removed]",
      "text/latex": [
       "$\\displaystyle 0.5$"
      ],
      "text/plain": [
       "0.5"
      ]
     },
     "execution_count": 47,
     "metadata": {},
     "output_type": "execute_result"
    }
   ],
   "source": [
    "# calculate the gain ratio for G2\n",
    "H_G2 = entropy(p_G2)\n",
    "GR_G2 = IG_G2 / H_G2 if H_G2 > 0 else 0\n",
    "GR_G2"
   ]
  },
  {
   "cell_type": "code",
   "execution_count": 48,
   "id": "1b7da748",
   "metadata": {},
   "outputs": [
    {
     "data": {
      "image/png": "[encoded data removed]",
      "text/latex": [
       "$\\displaystyle 0.459147917027245$"
      ],
      "text/plain": [
       "0.4591479170272448"
      ]
     },
     "execution_count": 48,
     "metadata": {},
     "output_type": "execute_result"
    }
   ],
   "source": [
    "IG_G2"
   ]
  },
  {
   "cell_type": "code",
   "execution_count": 51,
   "id": "7a855765",
   "metadata": {},
   "outputs": [
    {
     "data": {
      "image/png": "[encoded data removed]",
      "text/latex": [
       "$\\displaystyle 0.91829583405449$"
      ],
      "text/plain": [
       "0.9182958340544896"
      ]
     },
     "execution_count": 51,
     "metadata": {},
     "output_type": "execute_result"
    }
   ],
   "source": [
    "H_G2"
   ]
  },
  {
   "cell_type": "code",
   "execution_count": 57,
   "id": "01cbd0ed",
   "metadata": {},
   "outputs": [
    {
     "data": {
      "image/png": "[encoded data removed]",
      "text/plain": [
       "<Figure size 640x480 with 1 Axes>"
      ]
     },
     "metadata": {},
     "output_type": "display_data"
    },
    {
     "data": {
      "image/png": "[encoded data removed]",
      "text/latex": [
       "$\\displaystyle 0.666666666666667$"
      ],
      "text/plain": [
       "0.6666666666666667"
      ]
     },
     "execution_count": 57,
     "metadata": {},
     "output_type": "execute_result"
    }
   ],
   "source": [
    "# create an ROC curve\n",
    "import matplotlib.pyplot as plt\n",
    "# set grid style\n",
    "plt.style.use('ggplot')\n",
    "import numpy as np\n",
    "thresholds = np.linspace(-5, 5, 100)\n",
    "tpr = []\n",
    "fpr = []\n",
    "for thresh in thresholds:\n",
    "    y_pred_thresh = [1 if ( (1/2)*row['G3'] + (1/3)*row['G2'] - (1/4)*row['G1'] ) >= thresh else -1 for index, row in df.iterrows()]\n",
    "    cm = sk_confusion_matrix(df['Y'], y_pred_thresh, labels=[1, -1])\n",
    "    TP = cm[0, 0]\n",
    "    TN = cm[1, 1]\n",
    "    FP = cm[1, 0]\n",
    "    FN = cm[0, 1]\n",
    "    tpr.append(TP / (TP + FN) if (TP + FN) > 0 else 0)\n",
    "    fpr.append(FP / (FP + TN) if (FP + TN) > 0 else 0)\n",
    "plt.plot(fpr, tpr, marker='.')\n",
    "plt.xlabel('False Positive Rate')\n",
    "plt.ylabel('True Positive Rate')\n",
    "plt.title('ROC Curve')\n",
    "plt.show()\n",
    "\n",
    "# calculate AUC\n",
    "from sklearn.metrics import roc_auc_score\n",
    "y_scores = [( (1/2)*row['G3'] + (1/3)*row['G2'] - (1/4)*row['G1'] ) for index, row in df.iterrows()]\n",
    "auc = roc_auc_score(df['Y'], y_scores)\n",
    "auc"
   ]
  },
  {
   "cell_type": "code",
   "execution_count": null,
   "id": "83baa5be",
   "metadata": {},
   "outputs": [],
   "source": []
  }
 ],
 "metadata": {
  "kernelspec": {
   "display_name": "py310",
   "language": "python",
   "name": "python3"
  },
  "language_info": {
   "codemirror_mode": {
    "name": "ipython",
    "version": 3
   },
   "file_extension": ".py",
   "mimetype": "text/x-python",
   "name": "python",
   "nbconvert_exporter": "python",
   "pygments_lexer": "ipython3",
   "version": "3.10.16"
  }
 },
 "nbformat": 4,
 "nbformat_minor": 5
}
