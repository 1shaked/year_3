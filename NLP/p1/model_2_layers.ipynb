{
 "cells": [
  {
   "cell_type": "code",
   "execution_count": 1,
   "metadata": {},
   "outputs": [],
   "source": [
    "import numpy as np\n",
    "import torch\n",
    "import torch.nn as nn\n",
    "from collections import Counter\n",
    "from itertools import chain\n",
    "import torch.optim as optim\n",
    "import os\n",
    "import random\n",
    "random.seed(42)"
   ]
  },
  {
   "cell_type": "code",
   "execution_count": 2,
   "metadata": {},
   "outputs": [],
   "source": [
    "# Step 1: Load GloVe Embeddings\n",
    "def load_glove_embeddings(file_path, embedding_dim):\n",
    "    \"\"\"\n",
    "    Load GloVe embeddings from the file into a dictionary.\n",
    "    \"\"\"\n",
    "    embedding_dict = {}\n",
    "    with open(file_path, 'r', encoding=\"utf-8\") as f:\n",
    "        for line in f:\n",
    "            values = line.split()\n",
    "            word = values[0]  # The word\n",
    "            vector = np.array(values[1:], dtype=\"float32\")  # The embedding vector\n",
    "            embedding_dict[word] = vector\n",
    "    print(f\"Loaded {len(embedding_dict)} word vectors.\")\n",
    "    return embedding_dict\n"
   ]
  },
  {
   "cell_type": "code",
   "execution_count": 3,
   "metadata": {},
   "outputs": [],
   "source": [
    "# Tokenize comments\n",
    "def tokenize_comments(comments, vocab):\n",
    "    tokenized_comments = []\n",
    "    for comment in comments:\n",
    "        tokens = comment.split()  # Simple whitespace tokenizer\n",
    "        token_indices = [vocab.get(token, vocab[\"<UNK>\"]) for token in tokens]\n",
    "        tokenized_comments.append(token_indices)\n",
    "    return tokenized_comments\n",
    "\n",
    "# Pad sequences to a fixed length\n",
    "def pad_sequences(sequences, max_len, pad_value):\n",
    "    padded_sequences = []\n",
    "    for seq in sequences:\n",
    "        if len(seq) < max_len:\n",
    "            seq = seq + [pad_value] * (max_len - len(seq))\n",
    "        else:\n",
    "            seq = seq[:max_len]\n",
    "        padded_sequences.append(seq)\n",
    "    return padded_sequences"
   ]
  },
  {
   "cell_type": "code",
   "execution_count": 4,
   "metadata": {},
   "outputs": [],
   "source": [
    "# Step 3: Create the Embedding Matrix\n",
    "def create_embedding_matrix(vocab, glove_embeddings, embedding_dim):\n",
    "    \"\"\"\n",
    "    Create an embedding matrix where each row corresponds to a token in the vocabulary.\n",
    "    \"\"\"\n",
    "    vocab_size = len(vocab)\n",
    "    embedding_matrix = np.zeros((vocab_size, embedding_dim))  # Initialize matrix with zeros\n",
    "\n",
    "    for word, idx in vocab.items():\n",
    "        if word in glove_embeddings:\n",
    "            embedding_matrix[idx] = glove_embeddings[word]\n",
    "        else:\n",
    "            # Initialize randomly for missing words\n",
    "            embedding_matrix[idx] = np.random.uniform(-0.01, 0.01, embedding_dim)\n",
    "\n",
    "    return embedding_matrix"
   ]
  },
  {
   "cell_type": "code",
   "execution_count": 5,
   "metadata": {},
   "outputs": [],
   "source": [
    "# Path to GloVe file and embedding dimensions\n",
    "glove_file_path = \"glove.6B.100d.txt\"\n",
    "embedding_dim = 100"
   ]
  },
  {
   "cell_type": "code",
   "execution_count": null,
   "metadata": {},
   "outputs": [],
   "source": []
  },
  {
   "cell_type": "code",
   "execution_count": 6,
   "metadata": {},
   "outputs": [
    {
     "name": "stdout",
     "output_type": "stream",
     "text": [
      "Loaded 400001 word vectors.\n"
     ]
    }
   ],
   "source": [
    "# Load GloVe embeddings\n",
    "glove_embeddings = load_glove_embeddings(glove_file_path, embedding_dim)\n"
   ]
  },
  {
   "cell_type": "code",
   "execution_count": 7,
   "metadata": {},
   "outputs": [],
   "source": [
    "# Step 2: Build Vocabulary\n",
    "# Example tokenized dataset (replace with your dataset tokens)\n",
    "vocab_file = 'imdb.vocab'\n",
    "with open(vocab_file, 'r') as f:\n",
    "    vocab_words = f.read().splitlines()\n",
    "\n",
    "tokenized_sentences = vocab_words\n",
    "tokenized_sentences.append('<UNK>')  # Add <UNK> token for unknown words\n",
    "tokenized_sentences.append('<PAD>')  # Add <PAD> token to pad sequences\n",
    "# Create vocabulary\n",
    "vocab_size = len(vocab_words)\n",
    "# tokens = list(chain(*tokenized_sentences))\n",
    "vocab_counter = Counter(tokenized_sentences)\n"
   ]
  },
  {
   "cell_type": "code",
   "execution_count": 8,
   "metadata": {},
   "outputs": [
    {
     "name": "stdout",
     "output_type": "stream",
     "text": [
      "Vocabulary size: 89529\n"
     ]
    }
   ],
   "source": [
    "# Assign an index to each word in the vocabulary\n",
    "vocab = {word: idx for idx, (word, _) in enumerate(vocab_counter.most_common())}\n",
    "print(f\"Vocabulary size: {len(vocab)}\")\n"
   ]
  },
  {
   "cell_type": "code",
   "execution_count": 9,
   "metadata": {},
   "outputs": [
    {
     "name": "stdout",
     "output_type": "stream",
     "text": [
      "Embedding matrix shape: (89529, 100)\n"
     ]
    }
   ],
   "source": [
    "# Create embedding matrix\n",
    "embedding_matrix = create_embedding_matrix(vocab, glove_embeddings, embedding_dim)\n",
    "print(f\"Embedding matrix shape: {embedding_matrix.shape}\")"
   ]
  },
  {
   "cell_type": "code",
   "execution_count": 10,
   "metadata": {},
   "outputs": [
    {
     "data": {
      "text/plain": [
       "tensor([[-0.0382, -0.2449,  0.7281,  ..., -0.1459,  0.8278,  0.2706],\n",
       "        [-0.0720,  0.2313,  0.0237,  ..., -0.7189,  0.8689,  0.1954],\n",
       "        [-0.2709,  0.0440, -0.0203,  ..., -0.4923,  0.6369,  0.2364],\n",
       "        ...,\n",
       "        [ 0.0094, -0.0090,  0.0041,  ...,  0.0084,  0.0062, -0.0027],\n",
       "        [-0.0064,  0.0066,  0.0024,  ..., -0.0091, -0.0033, -0.0092],\n",
       "        [ 0.0093,  0.0039, -0.0020,  ..., -0.0076,  0.0030, -0.0046]])"
      ]
     },
     "execution_count": 10,
     "metadata": {},
     "output_type": "execute_result"
    }
   ],
   "source": [
    "# Step 4: Load Embedding Matrix into PyTorch Embedding Layer\n",
    "embedding_tensor = torch.tensor(embedding_matrix, dtype=torch.float32)\n",
    "\n",
    "# Define the embedding layer\n",
    "embedding_layer = nn.Embedding(len(vocab), embedding_dim)\n",
    "embedding_layer.weight.data.copy_(embedding_tensor)  # Load pre-trained weights"
   ]
  },
  {
   "cell_type": "code",
   "execution_count": 11,
   "metadata": {},
   "outputs": [
    {
     "name": "stdout",
     "output_type": "stream",
     "text": [
      "Embedding layer is ready.\n"
     ]
    }
   ],
   "source": [
    "# Optionally freeze the embedding layer\n",
    "embedding_layer.weight.requires_grad = False\n",
    "print(\"Embedding layer is ready.\")\n",
    "\n",
    "# Step 5: Test the Embedding Layer\n",
    "example_sentence = [\"this\", \"movie\", \"is\", \"great\"]  # Example input sentence\n",
    "token_indices = [vocab.get(token, vocab[\"<UNK>\"]) for token in example_sentence]\n"
   ]
  },
  {
   "cell_type": "code",
   "execution_count": 12,
   "metadata": {},
   "outputs": [
    {
     "name": "stdout",
     "output_type": "stream",
     "text": [
      "Input indices: [9, 15, 5, 83]\n",
      "Output embeddings shape: torch.Size([1, 4, 100])\n"
     ]
    }
   ],
   "source": [
    "# Convert token indices to a PyTorch tensor\n",
    "input_tensor = torch.tensor(token_indices).unsqueeze(0)  # Add batch dimension\n",
    "\n",
    "# Pass through the embedding layer\n",
    "output_embeddings = embedding_layer(input_tensor)\n",
    "print(f\"Input indices: {token_indices}\")\n",
    "print(f\"Output embeddings shape: {output_embeddings.shape}\")\n"
   ]
  },
  {
   "cell_type": "code",
   "execution_count": 13,
   "metadata": {},
   "outputs": [
    {
     "name": "stdout",
     "output_type": "stream",
     "text": [
      "Output embeddings for the example sentence:\n",
      "torch.Size([1, 4, 100])\n"
     ]
    }
   ],
   "source": [
    "\n",
    "\n",
    "# Output embedding for visualization\n",
    "print(\"Output embeddings for the example sentence:\")\n",
    "print(output_embeddings.shape)\n"
   ]
  },
  {
   "cell_type": "code",
   "execution_count": 14,
   "metadata": {},
   "outputs": [],
   "source": []
  },
  {
   "cell_type": "code",
   "execution_count": 14,
   "metadata": {},
   "outputs": [],
   "source": [
    "class SentimentLSTM(nn.Module):\n",
    "    def __init__(self, vocab_size, embedding_dim, hidden_dim, output_dim, num_layers=2, embedding_matrix=None, freeze_embeddings=True):\n",
    "        super(SentimentLSTM, self).__init__()\n",
    "\n",
    "        # Step 1. Embedding Layer\n",
    "        self.embedding = nn.Embedding(vocab_size, embedding_dim)\n",
    "        if embedding_matrix is not None:\n",
    "            self.embedding.weight.data.copy_(torch.tensor(embedding_matrix, dtype=torch.float32))\n",
    "            self.embedding.weight.requires_grad = not freeze_embeddings\n",
    "        \n",
    "        # Step 2. LSTM Layer with Multiple Layers\n",
    "        self.lstm = nn.LSTM(embedding_dim, hidden_dim, num_layers=num_layers, batch_first=True, dropout=0.2)\n",
    "        \n",
    "        # Step 3. Fully Connected Layers (Stacked for Depth)\n",
    "        self.fc1 = nn.Linear(hidden_dim, 100)\n",
    "        self.fc2 = nn.Linear(100, output_dim)\n",
    "        \n",
    "        # Step 4. Activation Functions\n",
    "        self.relu = nn.ReLU()\n",
    "        self.sigmoid = nn.Sigmoid()\n",
    "    \n",
    "    def forward(self, x):\n",
    "        # Pass input through embedding layer\n",
    "        embedded = self.embedding(x)\n",
    "        \n",
    "        # Pass embeddings through the LSTM layer\n",
    "        lstm_out, (hidden, cell) = self.lstm(embedded)\n",
    "        \n",
    "        # Take the output from the last hidden state\n",
    "        hidden_state = hidden[-1]\n",
    "        \n",
    "        # Pass through fully connected layers\n",
    "        fc1_out = self.relu(self.fc1(hidden_state))\n",
    "        final_output = self.sigmoid(self.fc2(fc1_out))\n",
    "        \n",
    "        return final_output\n"
   ]
  },
  {
   "cell_type": "code",
   "execution_count": 15,
   "metadata": {},
   "outputs": [],
   "source": [
    "class SentimentGRU(nn.Module):\n",
    "    def __init__(self, vocab_size, embedding_dim, hidden_dim, output_dim, num_layers=2, embedding_matrix=None, freeze_embeddings=True):\n",
    "        super(SentimentGRU, self).__init__()\n",
    "        \n",
    "        # Step 1. Embedding Layer\n",
    "        self.embedding = nn.Embedding(vocab_size, embedding_dim)\n",
    "        if embedding_matrix is not None:\n",
    "            self.embedding.weight.data.copy_(torch.tensor(embedding_matrix, dtype=torch.float32))\n",
    "            self.embedding.weight.requires_grad = not freeze_embeddings\n",
    "        \n",
    "        # Step 2. GRU Layer with Multiple Layers\n",
    "        self.gru = nn.GRU(embedding_dim, hidden_dim, num_layers=num_layers, batch_first=True)\n",
    "        \n",
    "        # Step 3. Fully Connected Layers (Stacked for Depth)\n",
    "        self.fc1 = nn.Linear(hidden_dim, hidden_dim // 2)\n",
    "        self.fc2 = nn.Linear(hidden_dim // 2, output_dim)\n",
    "        \n",
    "        # Step 4. Activation Functions\n",
    "        self.relu = nn.ReLU()\n",
    "        self.sigmoid = nn.Sigmoid()\n",
    "    \n",
    "    def forward(self, x):\n",
    "        # Pass input through embedding layer\n",
    "        embedded = self.embedding(x)\n",
    "        \n",
    "        # Pass embeddings through the GRU layer\n",
    "        gru_out, hidden = self.gru(embedded)\n",
    "        \n",
    "        # Take the output from the last hidden state\n",
    "        hidden_state = hidden[-1]\n",
    "        \n",
    "        # Pass through fully connected layers\n",
    "        fc1_out = self.relu(self.fc1(hidden_state))\n",
    "        final_output = self.sigmoid(self.fc2(fc1_out))\n",
    "        \n",
    "        return final_output\n"
   ]
  },
  {
   "cell_type": "code",
   "execution_count": 16,
   "metadata": {},
   "outputs": [],
   "source": [
    "vocab_size = len(vocab)\n",
    "embedding_dim = 100  # Same as GloVe\n",
    "hidden_dim = 128\n",
    "output_dim = 1\n",
    "learning_rate = 0.001\n",
    "num_epochs = 28 # Number of epochs\n",
    "NUM_LAYERS = 2\n",
    "# Initialize the LSTM model\n",
    "model = SentimentLSTM(vocab_size, embedding_dim, hidden_dim, output_dim,NUM_LAYERS ,embedding_matrix, freeze_embeddings=True, )\n",
    "model_gru = SentimentGRU(vocab_size, embedding_dim, hidden_dim, output_dim, NUM_LAYERS, embedding_matrix, freeze_embeddings=True)\n",
    "# Move the model to the appropriate device (GPU if available)\n",
    "device = torch.device(\"cuda\" if torch.cuda.is_available() else \"cpu\")\n",
    "model = model.to(device)\n"
   ]
  },
  {
   "cell_type": "code",
   "execution_count": 17,
   "metadata": {},
   "outputs": [],
   "source": [
    "\n",
    "# Loss function and optimizer\n",
    "criterion = nn.BCELoss()  # Binary Cross Entropy Loss for binary classification\n",
    "criterion_gru = nn.BCELoss()\n",
    "optimizer = optim.Adam(model.parameters(), lr=learning_rate)\n",
    "optimizer_gru = optim.Adam(model_gru.parameters(), lr=learning_rate)"
   ]
  },
  {
   "cell_type": "code",
   "execution_count": 18,
   "metadata": {},
   "outputs": [],
   "source": [
    "batched_comments = []\n",
    "pos = os.listdir('train/pos')\n",
    "neg = os.listdir('train/neg')\n",
    "pos = list(filter(lambda x: '._' not in x, pos))\n",
    "neg = list(filter(lambda x: '._' not in x, neg))\n"
   ]
  },
  {
   "cell_type": "code",
   "execution_count": 19,
   "metadata": {},
   "outputs": [],
   "source": [
    "# Read the comments from files\n",
    "pos_comments = [open(f'train/pos/{f}', 'r').read() for f in pos]\n",
    "neg_comments = [open(f'train/neg/{f}', 'r').read() for f in neg]\n",
    "\n",
    "# Label the comments\n",
    "pos_labels = [1] * len(pos_comments)\n",
    "neg_labels = [0] * len(neg_comments)\n",
    "\n",
    "# Combine and shuffle the comments and labels\n",
    "comments = pos_comments + neg_comments\n",
    "labels = pos_labels + neg_labels"
   ]
  },
  {
   "cell_type": "code",
   "execution_count": 20,
   "metadata": {},
   "outputs": [],
   "source": [
    "combined = list(zip(comments, labels))\n",
    "random.shuffle(combined)\n",
    "comments, labels = zip(*combined)"
   ]
  },
  {
   "cell_type": "code",
   "execution_count": 21,
   "metadata": {},
   "outputs": [
    {
     "data": {
      "text/plain": [
       "750"
      ]
     },
     "execution_count": 21,
     "metadata": {},
     "output_type": "execute_result"
    }
   ],
   "source": [
    "# Create batches of size 50\n",
    "batch_size = 50\n",
    "batched_comments = [(comments[i:i + batch_size], labels[i:i + batch_size]) for i in range(0, len(comments), batch_size)]\n",
    "len(batched_comments)"
   ]
  },
  {
   "cell_type": "code",
   "execution_count": 22,
   "metadata": {},
   "outputs": [],
   "source": [
    "train_size = 0.8\n",
    "test_size = 0.2\n",
    "train_len = train_size * len(batched_comments)\n",
    "test_len = len(batched_comments) - train_len\n",
    "train_comments = batched_comments[:int(train_len)]\n",
    "val_comments = labels[:int(train_len)]\n",
    "\n",
    "test_comments = batched_comments[int(train_len):]\n",
    "test_labels = labels[int(train_len):]"
   ]
  },
  {
   "cell_type": "code",
   "execution_count": 23,
   "metadata": {},
   "outputs": [],
   "source": [
    "losses = []\n",
    "losses_gru = []\n",
    "accuracies = []\n",
    "accuracies_gru = []"
   ]
  },
  {
   "cell_type": "code",
   "execution_count": 24,
   "metadata": {},
   "outputs": [
    {
     "name": "stdout",
     "output_type": "stream",
     "text": [
      "Epoch 1/28, Loss: 0.6918, Accuracy: 0.5091\n",
      "Epoch 1/28, Loss: 0.6893, Accuracy: 0.5235\n",
      "Epoch 2/28, Loss: 0.6933, Accuracy: 0.5001\n",
      "Epoch 2/28, Loss: 0.6918, Accuracy: 0.5125\n",
      "Epoch 3/28, Loss: 0.6930, Accuracy: 0.5029\n",
      "Epoch 3/28, Loss: 0.6932, Accuracy: 0.5032\n",
      "Epoch 4/28, Loss: 0.6930, Accuracy: 0.5079\n",
      "Epoch 4/28, Loss: 0.6932, Accuracy: 0.4971\n",
      "Epoch 5/28, Loss: 0.6931, Accuracy: 0.4981\n",
      "Epoch 5/28, Loss: 0.6932, Accuracy: 0.4969\n",
      "Epoch 6/28, Loss: 0.6779, Accuracy: 0.5529\n",
      "Epoch 6/28, Loss: 0.6932, Accuracy: 0.4961\n",
      "Epoch 7/28, Loss: 0.4889, Accuracy: 0.7712\n",
      "Epoch 7/28, Loss: 0.6932, Accuracy: 0.4964\n",
      "Epoch 8/28, Loss: 0.4279, Accuracy: 0.8053\n",
      "Epoch 8/28, Loss: 0.6932, Accuracy: 0.4964\n",
      "Epoch 9/28, Loss: 0.4022, Accuracy: 0.8191\n",
      "Epoch 9/28, Loss: 0.6932, Accuracy: 0.4964\n",
      "Epoch 10/28, Loss: 0.3809, Accuracy: 0.8310\n",
      "Epoch 10/28, Loss: 0.6932, Accuracy: 0.4960\n",
      "Epoch 11/28, Loss: 0.3603, Accuracy: 0.8428\n",
      "Epoch 11/28, Loss: 0.6932, Accuracy: 0.4964\n",
      "Epoch 12/28, Loss: 0.3439, Accuracy: 0.8512\n",
      "Epoch 12/28, Loss: 0.6932, Accuracy: 0.4964\n",
      "Epoch 13/28, Loss: 0.3272, Accuracy: 0.8602\n",
      "Epoch 13/28, Loss: 0.6932, Accuracy: 0.4964\n",
      "Epoch 14/28, Loss: 0.3110, Accuracy: 0.8689\n",
      "Epoch 14/28, Loss: 0.6932, Accuracy: 0.4964\n",
      "Epoch 15/28, Loss: 0.2968, Accuracy: 0.8743\n",
      "Epoch 15/28, Loss: 0.6932, Accuracy: 0.4964\n",
      "Epoch 16/28, Loss: 0.2840, Accuracy: 0.8806\n",
      "Epoch 16/28, Loss: 0.6932, Accuracy: 0.4964\n",
      "Epoch 17/28, Loss: 0.2672, Accuracy: 0.8897\n",
      "Epoch 17/28, Loss: 0.6932, Accuracy: 0.4964\n",
      "Epoch 18/28, Loss: 0.2511, Accuracy: 0.8975\n",
      "Epoch 18/28, Loss: 0.6932, Accuracy: 0.4964\n",
      "Epoch 19/28, Loss: 0.2313, Accuracy: 0.9073\n",
      "Epoch 19/28, Loss: 0.6932, Accuracy: 0.4964\n",
      "Epoch 20/28, Loss: 0.2224, Accuracy: 0.9112\n",
      "Epoch 20/28, Loss: 0.6932, Accuracy: 0.4964\n",
      "Epoch 21/28, Loss: 0.2095, Accuracy: 0.9173\n",
      "Epoch 21/28, Loss: 0.6932, Accuracy: 0.4964\n",
      "Epoch 22/28, Loss: 0.2041, Accuracy: 0.9199\n",
      "Epoch 22/28, Loss: 0.6932, Accuracy: 0.4964\n",
      "Epoch 23/28, Loss: 0.1853, Accuracy: 0.9295\n",
      "Epoch 23/28, Loss: 0.6932, Accuracy: 0.4964\n",
      "Epoch 24/28, Loss: 0.1723, Accuracy: 0.9352\n",
      "Epoch 24/28, Loss: 0.6932, Accuracy: 0.4964\n",
      "Epoch 25/28, Loss: 0.1606, Accuracy: 0.9404\n",
      "Epoch 25/28, Loss: 0.6932, Accuracy: 0.4964\n",
      "Epoch 26/28, Loss: 0.1470, Accuracy: 0.9464\n",
      "Epoch 26/28, Loss: 0.6932, Accuracy: 0.4964\n",
      "Epoch 27/28, Loss: 0.1369, Accuracy: 0.9504\n",
      "Epoch 27/28, Loss: 0.6932, Accuracy: 0.4964\n",
      "Epoch 28/28, Loss: 0.1322, Accuracy: 0.9516\n",
      "Epoch 28/28, Loss: 0.6932, Accuracy: 0.4964\n"
     ]
    }
   ],
   "source": [
    "# Training Loop\n",
    "for epoch in range(num_epochs):\n",
    "    model.train()  # Set model to training mode\n",
    "    epoch_loss = 0\n",
    "    epoch_loss_gru = 0\n",
    "    correct_predictions = 0\n",
    "    correct_predictions_gru = 0\n",
    "    total_predictions = 0\n",
    "    total_predictions_gru = 0\n",
    "\n",
    "    # Loop through batches\n",
    "    for comments, labels in train_comments:  # Assuming train_comments is a list of (comments, labels) batches\n",
    "        # Move data to device\n",
    "        comments_padded = pad_sequences(tokenize_comments(comments, vocab), max_len=200, pad_value=vocab[\"<PAD>\"])\n",
    "        \n",
    "        comments = torch.tensor(comments_padded, dtype=torch.long).to(device)  # Shape: [batch_size, sequence_length]\n",
    "        labels = torch.tensor(labels, dtype=torch.float32).to(device)  # Shape: [batch_size]\n",
    "\n",
    "        # Forward pass\n",
    "        predictions = model(comments).squeeze(1)  # Shape: [batch_size]\n",
    "        predictions_gru = model_gru(comments).squeeze(1)\n",
    "\n",
    "        # Compute loss\n",
    "        loss = criterion(predictions, labels)\n",
    "        loss_gru = criterion_gru(predictions_gru, labels)\n",
    "        # Backward pass\n",
    "        optimizer.zero_grad()  # Reset gradients\n",
    "        optimizer_gru.zero_grad()\n",
    "        loss.backward()  # Backpropagation\n",
    "        loss_gru.backward()\n",
    "        optimizer.step()  # Update model weights\n",
    "        optimizer_gru.step() # Update model weights\n",
    "\n",
    "        # Accumulate loss and accuracy\n",
    "        epoch_loss += loss.item()\n",
    "        epoch_loss_gru += loss_gru.item()\n",
    "        preds = (predictions >= 0.5).float()  # Convert probabilities to binary labels\n",
    "        correct_predictions += (preds == labels).sum().item()\n",
    "        total_predictions += labels.size(0)\n",
    "        preds_gru = (predictions_gru >= 0.5).float()\n",
    "        correct_predictions_gru += (preds_gru == labels).sum().item()\n",
    "        total_predictions_gru += labels.size(0)\n",
    "\n",
    "\n",
    "    # Print epoch summary\n",
    "    accuracy = correct_predictions / total_predictions\n",
    "    accuracy_gru = correct_predictions_gru / total_predictions_gru\n",
    "    losses.append(epoch_loss / len(train_comments))\n",
    "    losses_gru.append(epoch_loss_gru / len(train_comments))\n",
    "    accuracies.append(accuracy)\n",
    "    accuracies_gru.append(accuracy_gru)\n",
    "    print(f\"Epoch {epoch+1}/{num_epochs}, Loss: {epoch_loss / len(train_comments):.4f}, Accuracy: {accuracy:.4f}\")\n",
    "    print(f\"Epoch {epoch+1}/{num_epochs}, Loss: {epoch_loss_gru / len(train_comments):.4f}, Accuracy: {accuracy_gru:.4f}\")"
   ]
  },
  {
   "cell_type": "code",
   "execution_count": 25,
   "metadata": {},
   "outputs": [
    {
     "name": "stdout",
     "output_type": "stream",
     "text": [
      "Test Loss: 23.3621, Test Accuracy: 0.8211\n",
      "Test Loss: 25.9931, Test Accuracy: 0.4992\n"
     ]
    },
    {
     "data": {
      "text/plain": [
       "(25.993108212947845, 0.4992)"
      ]
     },
     "execution_count": 25,
     "metadata": {},
     "output_type": "execute_result"
    }
   ],
   "source": [
    "def test_model(model, test_comments, test_labels, batch_size=32):\n",
    "    model.eval()  # Set model to evaluation mode\n",
    "    \n",
    "    total_loss = 0\n",
    "    correct_predictions = 0\n",
    "    total_predictions = 0\n",
    "\n",
    "    with torch.no_grad():  # Disable gradient calculations\n",
    "        for comment_obj in test_comments:\n",
    "            # Extract batch\n",
    "            comments_batch = comment_obj[0]\n",
    "            labels_batch = comment_obj[1]\n",
    "            comments_padded = pad_sequences(tokenize_comments(comments_batch, vocab), max_len=200, pad_value=vocab[\"<PAD>\"])\n",
    "\n",
    "            # Convert to tensors and move to device\n",
    "            comments = torch.tensor(comments_padded, dtype=torch.long).to(device)\n",
    "            labels = torch.tensor(labels_batch, dtype=torch.float32).to(device)\n",
    "\n",
    "            # Forward pass\n",
    "            predictions = model(comments).squeeze(1)\n",
    "\n",
    "            # Compute loss\n",
    "            loss = criterion(predictions, labels)\n",
    "            total_loss += loss.item()\n",
    "\n",
    "            # Accuracy calculations\n",
    "            preds = (predictions >= 0.5).float()\n",
    "            correct_predictions += (preds == labels).sum().item()\n",
    "            total_predictions += labels.size(0)\n",
    "\n",
    "    # Compute metrics\n",
    "    average_loss = total_loss / (len(test_comments) // batch_size)\n",
    "    accuracy = correct_predictions / total_predictions\n",
    "\n",
    "    print(f\"Test Loss: {average_loss:.4f}, Test Accuracy: {accuracy:.4f}\")\n",
    "    return average_loss, accuracy\n",
    "\n",
    "# Call the test function\n",
    "test_model(model, test_comments, test_labels)\n",
    "test_model(model_gru, test_comments, test_labels)"
   ]
  },
  {
   "cell_type": "code",
   "execution_count": 26,
   "metadata": {},
   "outputs": [],
   "source": [
    "import matplotlib.pyplot as plt"
   ]
  },
  {
   "cell_type": "code",
   "execution_count": 27,
   "metadata": {},
   "outputs": [
    {
     "data": {
      "image/png": "[encoded data removed]",
      "text/plain": [
       "<Figure size 800x600 with 1 Axes>"
      ]
     },
     "metadata": {},
     "output_type": "display_data"
    }
   ],
   "source": [
    "# Plot Accuracy vs. Epochs\n",
    "plt.figure(figsize=(8, 6))\n",
    "plt.plot(range(1, len(accuracies) + 1), accuracies, marker='o', linestyle='-', color='b')\n",
    "plt.title('Training Accuracy Over Epochs (LSTM)')\n",
    "plt.xlabel('Epoch')\n",
    "plt.ylabel('Accuracy')\n",
    "plt.grid()\n",
    "plt.show()"
   ]
  },
  {
   "cell_type": "code",
   "execution_count": 28,
   "metadata": {},
   "outputs": [
    {
     "data": {
      "image/png": "[encoded data removed]",
      "text/plain": [
       "<Figure size 800x600 with 1 Axes>"
      ]
     },
     "metadata": {},
     "output_type": "display_data"
    }
   ],
   "source": [
    "# Plot Accuracy vs. Epochs\n",
    "plt.figure(figsize=(8, 6))\n",
    "plt.plot(range(1, len(accuracies_gru) + 1), accuracies_gru, marker='o', linestyle='-', color='b')\n",
    "plt.title('Training Accuracy Over Epochs (GRU)')\n",
    "plt.xlabel('Epoch')\n",
    "plt.ylabel('Accuracy')\n",
    "plt.grid()\n",
    "plt.show()"
   ]
  },
  {
   "cell_type": "code",
   "execution_count": 29,
   "metadata": {},
   "outputs": [
    {
     "data": {
      "image/png": "[encoded data removed]",
      "text/plain": [
       "<Figure size 800x600 with 1 Axes>"
      ]
     },
     "metadata": {},
     "output_type": "display_data"
    }
   ],
   "source": [
    "# Plot Accuracy vs. Epochs\n",
    "plt.figure(figsize=(8, 6))\n",
    "plt.plot(range(1, len(losses) + 1), losses, marker='o', linestyle='-', color='b')\n",
    "plt.title('Training losses Over Epochs (LSTM)')\n",
    "plt.xlabel('Epoch')\n",
    "plt.ylabel('Accuracy')\n",
    "plt.grid()\n",
    "plt.show()"
   ]
  },
  {
   "cell_type": "code",
   "execution_count": 30,
   "metadata": {},
   "outputs": [
    {
     "data": {
      "image/png": "[encoded data removed]",
      "text/plain": [
       "<Figure size 800x600 with 1 Axes>"
      ]
     },
     "metadata": {},
     "output_type": "display_data"
    }
   ],
   "source": [
    "# Plot Accuracy vs. Epochs\n",
    "plt.figure(figsize=(8, 6))\n",
    "plt.plot(range(1, len(losses_gru) + 1), losses_gru, marker='o', linestyle='-', color='b')\n",
    "plt.title('Training losses Over Epochs (GRU)')\n",
    "plt.xlabel('Epoch')\n",
    "plt.ylabel('Accuracy')\n",
    "plt.grid()\n",
    "plt.show()"
   ]
  },
  {
   "cell_type": "code",
   "execution_count": null,
   "metadata": {},
   "outputs": [],
   "source": []
  },
  {
   "cell_type": "code",
   "execution_count": 31,
   "metadata": {},
   "outputs": [],
   "source": [
    "\n",
    "comments_padded = pad_sequences(tokenize_comments(test_comments[0][0], vocab), max_len=200, pad_value=vocab[\"<PAD>\"])\n"
   ]
  },
  {
   "cell_type": "code",
   "execution_count": 32,
   "metadata": {},
   "outputs": [],
   "source": [
    "torch.save(model.state_dict(), \"model_parameters_2_LAYERS.pth\")\n",
    "torch.save(model_gru.state_dict(), \"model_parameters_gru_2_LAYERS.pth\")\n"
   ]
  },
  {
   "cell_type": "code",
   "execution_count": null,
   "metadata": {},
   "outputs": [],
   "source": []
  }
 ],
 "metadata": {
  "kernelspec": {
   "display_name": "py310",
   "language": "python",
   "name": "python3"
  },
  "language_info": {
   "codemirror_mode": {
    "name": "ipython",
    "version": 3
   },
   "file_extension": ".py",
   "mimetype": "text/x-python",
   "name": "python",
   "nbconvert_exporter": "python",
   "pygments_lexer": "ipython3",
   "version": "3.10.0"
  }
 },
 "nbformat": 4,
 "nbformat_minor": 2
}
