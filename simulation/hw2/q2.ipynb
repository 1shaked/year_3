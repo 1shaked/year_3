{
 "cells": [
  {
   "cell_type": "code",
   "execution_count": 18,
   "metadata": {},
   "outputs": [],
   "source": [
    "import random\n",
    "import math\n",
    "import statistics\n",
    "import scipy\n",
    "import numpy as np\n",
    "import scipy.stats as st"
   ]
  },
  {
   "cell_type": "markdown",
   "metadata": {},
   "source": [
    "## סעיף ב"
   ]
  },
  {
   "cell_type": "code",
   "execution_count": 2,
   "metadata": {},
   "outputs": [
    {
     "name": "stdout",
     "output_type": "stream",
     "text": [
      "0.707\n"
     ]
    }
   ],
   "source": [
    "run_number = 1_000\n",
    "total = 0\n",
    "for _ in range(run_number):\n",
    "    x = random.uniform(1, 2)\n",
    "    y = random.uniform(0, 1)\n",
    "    if (y < 1/x):\n",
    "        total += 1\n",
    "\n",
    "        \n",
    "print(total/run_number)"
   ]
  },
  {
   "cell_type": "markdown",
   "metadata": {},
   "source": [
    "## סעיף ג"
   ]
  },
  {
   "cell_type": "code",
   "execution_count": 26,
   "metadata": {},
   "outputs": [
    {
     "name": "stdout",
     "output_type": "stream",
     "text": [
      "23089.037422705896\n"
     ]
    }
   ],
   "source": [
    "k = 1_000\n",
    "alpha = 0.1\n",
    "l = 0.005\n",
    "res = []\n",
    "for _ in range(k):\n",
    "    x = random.uniform(1, 2)\n",
    "    y = random.uniform(0, 1)\n",
    "    if (y < 1/x):\n",
    "        res.append(1)\n",
    "    else:\n",
    "        res.append(0)\n",
    "\n",
    "# get the s value\n",
    "statistics.stdev(res) \n",
    "\n",
    "min_N = st.norm.ppf(1-alpha/2)**2 * statistics.stdev(res)**2 / l**2\n",
    "print(min_N)\n"
   ]
  },
  {
   "cell_type": "code",
   "execution_count": 27,
   "metadata": {},
   "outputs": [
    {
     "name": "stdout",
     "output_type": "stream",
     "text": [
      "0.6893696985002746 0.699343541570755\n"
     ]
    }
   ],
   "source": [
    "res = []\n",
    "for _ in range(round(min_N)):\n",
    "    x = random.uniform(1, 2)\n",
    "    y = random.uniform(0, 1)\n",
    "    if (y < 1/x):\n",
    "        total += 1\n",
    "        res.append(1)\n",
    "    else:\n",
    "        res.append(0)\n",
    "\n",
    "sigma = statistics.stdev(res)\n",
    "avg = np.mean(res)\n",
    "\n",
    "x_lower = avg - st.norm.ppf(1-alpha/2) * sigma / math.sqrt(min_N)\n",
    "x_upper = avg + st.norm.ppf(1-alpha/2) * sigma / math.sqrt(min_N)\n",
    "\n",
    "print(x_lower, x_upper)"
   ]
  },
  {
   "cell_type": "code",
   "execution_count": 28,
   "metadata": {},
   "outputs": [
    {
     "name": "stdout",
     "output_type": "stream",
     "text": [
      "OK\n"
     ]
    }
   ],
   "source": [
    "if (x_upper - x_lower) < 2*l:\n",
    "    print(\"OK\")\n",
    "else:\n",
    "    print(\"WOW we are so bad we don't even have a good confidence interval\")"
   ]
  },
  {
   "cell_type": "code",
   "execution_count": null,
   "metadata": {},
   "outputs": [],
   "source": []
  }
 ],
 "metadata": {
  "kernelspec": {
   "display_name": "base",
   "language": "python",
   "name": "python3"
  },
  "language_info": {
   "codemirror_mode": {
    "name": "ipython",
    "version": 3
   },
   "file_extension": ".py",
   "mimetype": "text/x-python",
   "name": "python",
   "nbconvert_exporter": "python",
   "pygments_lexer": "ipython3",
   "version": "3.8.8"
  }
 },
 "nbformat": 4,
 "nbformat_minor": 2
}
