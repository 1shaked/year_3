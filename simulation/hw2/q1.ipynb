{
 "cells": [
  {
   "cell_type": "code",
   "execution_count": 2,
   "metadata": {},
   "outputs": [],
   "source": [
    "import random"
   ]
  },
  {
   "cell_type": "code",
   "execution_count": 8,
   "metadata": {},
   "outputs": [],
   "source": [
    "def coin_flip_avg(run_number):\n",
    "    total = 0\n",
    "    for i in range(run_number):\n",
    "        count = 0\n",
    "        while True:\n",
    "            flip = random.randint(0, 1)\n",
    "            count += 1\n",
    "            if flip == 1:\n",
    "                break;\n",
    "        total += count\n",
    "    return total/run_number"
   ]
  },
  {
   "cell_type": "code",
   "execution_count": 13,
   "metadata": {},
   "outputs": [
    {
     "name": "stdout",
     "output_type": "stream",
     "text": [
      "The average number of flips to get a head is 2.069 with 1000 runs\n",
      "The average number of flips to get a head is 1.9867 with 10000 runs\n",
      "The average number of flips to get a head is 1.99322 with 100000 runs\n",
      "The average number of flips to get a head is 2.003888 with 1000000 runs\n"
     ]
    }
   ],
   "source": [
    "running_interval = [1_000 , 10_000, 100_000, 1_000_000]\n",
    "for run in running_interval:\n",
    "    print(f'The average number of flips to get a head is {coin_flip_avg(run)} with {run} runs')"
   ]
  },
  {
   "cell_type": "code",
   "execution_count": null,
   "metadata": {},
   "outputs": [],
   "source": []
  },
  {
   "cell_type": "code",
   "execution_count": null,
   "metadata": {},
   "outputs": [],
   "source": []
  }
 ],
 "metadata": {
  "kernelspec": {
   "display_name": "Python 3",
   "language": "python",
   "name": "python3"
  },
  "language_info": {
   "codemirror_mode": {
    "name": "ipython",
    "version": 3
   },
   "file_extension": ".py",
   "mimetype": "text/x-python",
   "name": "python",
   "nbconvert_exporter": "python",
   "pygments_lexer": "ipython3",
   "version": "3.9.6"
  }
 },
 "nbformat": 4,
 "nbformat_minor": 2
}
