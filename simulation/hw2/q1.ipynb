{
 "cells": [
  {
   "cell_type": "code",
   "execution_count": 2,
   "metadata": {},
   "outputs": [],
   "source": [
    "import random"
   ]
  },
  {
   "cell_type": "code",
   "execution_count": null,
   "metadata": {},
   "outputs": [],
   "source": [
    "class Simulation:\n",
    "    \"\"\"\n",
    "    Simulation class for coin flip and string vowel counting experiments.\n",
    "    \"\"\"\n",
    "\n",
    "    def coin_flip_avg(self, run_number: int) -> float:\n",
    "        \"\"\"\n",
    "        Simulate flipping a coin until a head appears, repeated run_number times.\n",
    "        Returns the average number of flips needed.\n",
    "        \"\"\"\n",
    "        total = 0\n",
    "        for _ in range(run_number):\n",
    "            count = 0\n",
    "            while True:\n",
    "                flip = random.randint(0, 1)\n",
    "                count += 1\n",
    "                if flip == 1:\n",
    "                    break\n",
    "            total += count\n",
    "        return total / run_number\n",
    "\n",
    "    def count_vowels(self, string: str) -> int:\n",
    "        \"\"\"\n",
    "        Count the number of vowels in a given string.\n",
    "        \"\"\"\n",
    "        string = string.lower()\n",
    "        vowels = 'aeiou'\n",
    "        count = 0\n",
    "        for char in string:\n",
    "            if char in vowels:\n",
    "                count += 1\n",
    "        return count"
   ]
  },
  {
   "cell_type": "code",
   "execution_count": null,
   "metadata": {},
   "outputs": [
    {
     "name": "stdout",
     "output_type": "stream",
     "text": [
      "The average number of flips to get a head is 2.069 with 1000 runs\n",
      "The average number of flips to get a head is 1.9867 with 10000 runs\n",
      "The average number of flips to get a head is 1.99322 with 100000 runs\n",
      "The average number of flips to get a head is 2.003888 with 1000000 runs\n"
     ]
    }
   ],
   "source": [
    "simulation = Simulation()\n",
    "running_interval = [1_000, 10_000, 100_000, 1_000_000]\n",
    "for run in running_interval:\n",
    "    print(f'The average number of flips to get a head is {simulation.coin_flip_avg(run)} with {run} runs')"
   ]
  },
  {
   "cell_type": "code",
   "execution_count": null,
   "metadata": {},
   "outputs": [],
   "source": []
  },
  {
   "cell_type": "code",
   "execution_count": null,
   "metadata": {},
   "outputs": [],
   "source": []
  },
  {
   "cell_type": "code",
   "execution_count": null,
   "metadata": {},
   "outputs": [
    {
     "data": {
      "text/plain": [
       "3"
      ]
     },
     "execution_count": 2,
     "metadata": {},
     "output_type": "execute_result"
    }
   ],
   "source": [
    "# example usage\n",
    "simulation = Simulation()\n",
    "simulation.count_vowels(\"Hello World\")  # Output: 3"
   ]
  },
  {
   "cell_type": "code",
   "execution_count": null,
   "metadata": {},
   "outputs": [],
   "source": [
    "# ...existing code..."
   ]
  }
 ],
 "metadata": {
  "kernelspec": {
   "display_name": "ml",
   "language": "python",
   "name": "python3"
  },
  "language_info": {
   "codemirror_mode": {
    "name": "ipython",
    "version": 3
   },
   "file_extension": ".py",
   "mimetype": "text/x-python",
   "name": "python",
   "nbconvert_exporter": "python",
   "pygments_lexer": "ipython3",
   "version": "3.10.11"
  }
 },
 "nbformat": 4,
 "nbformat_minor": 2
}
