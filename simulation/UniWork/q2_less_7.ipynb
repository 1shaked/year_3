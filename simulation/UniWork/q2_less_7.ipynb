{
 "cells": [
  {
   "cell_type": "code",
   "execution_count": 2,
   "id": "d189c26b",
   "metadata": {},
   "outputs": [],
   "source": [
    "import random\n",
    "import numpy as np"
   ]
  },
  {
   "cell_type": "code",
   "execution_count": 5,
   "id": "823047dd",
   "metadata": {},
   "outputs": [],
   "source": [
    "def lambda_from_time(time):\n",
    "    if time <= 2:\n",
    "        return 1/16\n",
    "    elif time <= 8:\n",
    "        return 1/8\n",
    "\n",
    "    return 1/12"
   ]
  },
  {
   "cell_type": "code",
   "execution_count": 9,
   "id": "05bf6f1b",
   "metadata": {},
   "outputs": [],
   "source": [
    "def arrivals_sim():\n",
    "    time = 0\n",
    "    count = 0\n",
    "    while time <= 10:\n",
    "        # get a random variable from exponential distribution\n",
    "        lambda_ = lambda_from_time(time)\n",
    "        rand = np.random.exponential(lambda_)\n",
    "        if rand + time > 10:\n",
    "            break\n",
    "        count += 1\n",
    "        time += rand\n",
    "    return count"
   ]
  },
  {
   "cell_type": "code",
   "execution_count": 14,
   "id": "64e25544",
   "metadata": {},
   "outputs": [
    {
     "name": "stdout",
     "output_type": "stream",
     "text": [
      "Average number of arrivals in 10 seconds: 104.0419\n"
     ]
    }
   ],
   "source": [
    "total = 0\n",
    "n = 100_000\n",
    "for i in range(n):\n",
    "    total += arrivals_sim()\n",
    "\n",
    "print(f\"Average number of arrivals in 10 seconds: {total/n:.4f}\") "
   ]
  },
  {
   "cell_type": "code",
   "execution_count": null,
   "id": "2877db85",
   "metadata": {},
   "outputs": [],
   "source": []
  },
  {
   "cell_type": "code",
   "execution_count": null,
   "id": "3be1de22",
   "metadata": {},
   "outputs": [],
   "source": []
  },
  {
   "cell_type": "code",
   "execution_count": null,
   "id": "7fbd32d4",
   "metadata": {},
   "outputs": [],
   "source": []
  }
 ],
 "metadata": {
  "kernelspec": {
   "display_name": "py310",
   "language": "python",
   "name": "python3"
  },
  "language_info": {
   "codemirror_mode": {
    "name": "ipython",
    "version": 3
   },
   "file_extension": ".py",
   "mimetype": "text/x-python",
   "name": "python",
   "nbconvert_exporter": "python",
   "pygments_lexer": "ipython3",
   "version": "3.10.16"
  }
 },
 "nbformat": 4,
 "nbformat_minor": 5
}
