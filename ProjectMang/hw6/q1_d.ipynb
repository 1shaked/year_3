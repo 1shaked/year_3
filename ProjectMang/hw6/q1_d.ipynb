{
 "cells": [
  {
   "cell_type": "code",
   "execution_count": 7,
   "metadata": {},
   "outputs": [
    {
     "name": "stdout",
     "output_type": "stream",
     "text": [
      "Solution:\n",
      "t1 = 0.0\n",
      "t2 = 5.0\n",
      "t3 = 7.0\n",
      "t4 = 9.0\n",
      "t5 = 10.0\n",
      "t6 = 11.0\n",
      "t7 = 14.0\n",
      "Optimal objective value = 38.0\n"
     ]
    }
   ],
   "source": [
    "from ortools.linear_solver import pywraplp\n",
    "\n",
    "# Create the solver\n",
    "solver = pywraplp.Solver.CreateSolver('GLOP')\n",
    "if not solver:\n",
    "    raise Exception(\"Solver not available.\")\n",
    "\n",
    "# Define variables\n",
    "t = [solver.NumVar(0, solver.infinity(), f't{i}') for i in range(1, 8)]\n",
    "\n",
    "# Fix t1 = 0\n",
    "t[0].SetBounds(0, 0)\n",
    "\n",
    "# Objective function\n",
    "objective = solver.Sum(t[0:4]) + (t[6] - t[5]) + t[6]\n",
    "solver.Minimize(objective)\n",
    "\n",
    "# Add constraints\n",
    "solver.Add(t[1] - t[0] >= 5)   # t2 - t1 >= 5\n",
    "solver.Add(t[2] - t[1] >= 2)   # t3 - t2 >= 2\n",
    "solver.Add(t[3] - t[1] >= 4)   # t4 - t2 >= 4\n",
    "solver.Add(t[3] - t[2] >= 0)   # t4 - t3 >= 0\n",
    "solver.Add(t[4] - t[2] >= 3)   # t5 - t3 >= 3\n",
    "solver.Add(t[5] - t[1] >= 0)   # t6 - t2 >= 0\n",
    "solver.Add(t[6] - t[3] >= 5)   # t7 - t4 >= 5\n",
    "solver.Add(t[6] - t[4] >= 2)   # t7 - t5 >= 2\n",
    "solver.Add(t[6] - t[5] >= 3)   # t7 - t6 >= 3\n",
    "\n",
    "# Solve the problem\n",
    "status = solver.Solve()\n",
    "\n",
    "# Output results\n",
    "if status == pywraplp.Solver.OPTIMAL:\n",
    "    print(\"Solution:\")\n",
    "    for i in range(7):\n",
    "        print(f\"t{i + 1} = {t[i].solution_value()}\")\n",
    "    print(f\"Optimal objective value = {solver.Objective().Value()}\")\n",
    "else:\n",
    "    print(\"The problem does not have an optimal solution.\")\n"
   ]
  },
  {
   "cell_type": "code",
   "execution_count": null,
   "metadata": {},
   "outputs": [],
   "source": []
  },
  {
   "cell_type": "code",
   "execution_count": null,
   "metadata": {},
   "outputs": [],
   "source": []
  },
  {
   "cell_type": "code",
   "execution_count": null,
   "metadata": {},
   "outputs": [],
   "source": []
  }
 ],
 "metadata": {
  "kernelspec": {
   "display_name": "py310",
   "language": "python",
   "name": "python3"
  },
  "language_info": {
   "codemirror_mode": {
    "name": "ipython",
    "version": 3
   },
   "file_extension": ".py",
   "mimetype": "text/x-python",
   "name": "python",
   "nbconvert_exporter": "python",
   "pygments_lexer": "ipython3",
   "version": "3.10.0"
  }
 },
 "nbformat": 4,
 "nbformat_minor": 2
}
