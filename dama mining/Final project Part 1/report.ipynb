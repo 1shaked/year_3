{
 "cells": [
  {
   "cell_type": "code",
   "execution_count": 1,
   "id": "ff144d54",
   "metadata": {},
   "outputs": [],
   "source": [
    "import pandas as pd"
   ]
  },
  {
   "cell_type": "markdown",
   "id": "43179a7a",
   "metadata": {},
   "source": [
    "### Question about the data\n",
    "- What is the company about, where does the data come from?\n",
    "- Is the Id and the customer_id the same?\n",
    "- in the columns [days_since_last_login, avg_time_spent, points_in_wallet, avg_frequency_login_days] have negative values, is that correct?\n",
    "- What is security_no,preferred_offer_types, avg_transaction_value, offer_application_preference \n",
    "- when we say medium_of_operation does it mean which platform the customer is using?\n",
    "- What does the Error mean in avg_frequency_login_days and what does the column mean?"
   ]
  },
  {
   "cell_type": "markdown",
   "id": "9af783fa",
   "metadata": {},
   "source": [
    "#### Displaying the top 5 rows of the data"
   ]
  },
  {
   "cell_type": "code",
   "execution_count": 19,
   "id": "897ee2cf",
   "metadata": {},
   "outputs": [
    {
     "data": {
      "text/html": [
       "<div>\n",
       "<style scoped>\n",
       "    .dataframe tbody tr th:only-of-type {\n",
       "        vertical-align: middle;\n",
       "    }\n",
       "\n",
       "    .dataframe tbody tr th {\n",
       "        vertical-align: top;\n",
       "    }\n",
       "\n",
       "    .dataframe thead th {\n",
       "        text-align: right;\n",
       "    }\n",
       "</style>\n",
       "<table border=\"1\" class=\"dataframe\">\n",
       "  <thead>\n",
       "    <tr style=\"text-align: right;\">\n",
       "      <th></th>\n",
       "      <th>ID</th>\n",
       "      <th>customer_id</th>\n",
       "      <th>Name</th>\n",
       "      <th>age</th>\n",
       "      <th>gender</th>\n",
       "      <th>security_no</th>\n",
       "      <th>region_category</th>\n",
       "      <th>membership_category</th>\n",
       "      <th>joining_date</th>\n",
       "      <th>joined_through_referral</th>\n",
       "      <th>...</th>\n",
       "      <th>avg_time_spent</th>\n",
       "      <th>avg_transaction_value</th>\n",
       "      <th>avg_frequency_login_days</th>\n",
       "      <th>points_in_wallet</th>\n",
       "      <th>used_special_discount</th>\n",
       "      <th>offer_application_preference</th>\n",
       "      <th>past_complaint</th>\n",
       "      <th>complaint_status</th>\n",
       "      <th>feedback</th>\n",
       "      <th>churn</th>\n",
       "    </tr>\n",
       "  </thead>\n",
       "  <tbody>\n",
       "    <tr>\n",
       "      <th>0</th>\n",
       "      <td>1644</td>\n",
       "      <td>fffe43004900440033003200390032003400</td>\n",
       "      <td>Dusty Dunneback</td>\n",
       "      <td>30</td>\n",
       "      <td>F</td>\n",
       "      <td>URPJZ5B</td>\n",
       "      <td>Village</td>\n",
       "      <td>No Membership</td>\n",
       "      <td>09/08/2017</td>\n",
       "      <td>Yes</td>\n",
       "      <td>...</td>\n",
       "      <td>118.390000</td>\n",
       "      <td>10579.56</td>\n",
       "      <td>24</td>\n",
       "      <td>610.360000</td>\n",
       "      <td>Yes</td>\n",
       "      <td>No</td>\n",
       "      <td>No</td>\n",
       "      <td>Not Applicable</td>\n",
       "      <td>Poor Product Quality</td>\n",
       "      <td>1</td>\n",
       "    </tr>\n",
       "    <tr>\n",
       "      <th>1</th>\n",
       "      <td>8516</td>\n",
       "      <td>fffe43004900440036003200310038003600</td>\n",
       "      <td>Dorine Vanduyn</td>\n",
       "      <td>55</td>\n",
       "      <td>M</td>\n",
       "      <td>O0IWUYW</td>\n",
       "      <td>Village</td>\n",
       "      <td>Silver Membership</td>\n",
       "      <td>09/02/2016</td>\n",
       "      <td>No</td>\n",
       "      <td>...</td>\n",
       "      <td>179.420000</td>\n",
       "      <td>22963.05</td>\n",
       "      <td>27</td>\n",
       "      <td>694.650000</td>\n",
       "      <td>Yes</td>\n",
       "      <td>No</td>\n",
       "      <td>No</td>\n",
       "      <td>Not Applicable</td>\n",
       "      <td>Poor Product Quality</td>\n",
       "      <td>0</td>\n",
       "    </tr>\n",
       "    <tr>\n",
       "      <th>2</th>\n",
       "      <td>15564</td>\n",
       "      <td>fffe430049004400350032003200</td>\n",
       "      <td>Christene Pulver</td>\n",
       "      <td>47</td>\n",
       "      <td>M</td>\n",
       "      <td>2R0EFA2</td>\n",
       "      <td>City</td>\n",
       "      <td>Basic Membership</td>\n",
       "      <td>11/06/2017</td>\n",
       "      <td>Yes</td>\n",
       "      <td>...</td>\n",
       "      <td>42.230000</td>\n",
       "      <td>32604.41</td>\n",
       "      <td>Error</td>\n",
       "      <td>520.620000</td>\n",
       "      <td>Yes</td>\n",
       "      <td>No</td>\n",
       "      <td>No</td>\n",
       "      <td>Not Applicable</td>\n",
       "      <td>Poor Product Quality</td>\n",
       "      <td>1</td>\n",
       "    </tr>\n",
       "    <tr>\n",
       "      <th>3</th>\n",
       "      <td>22211</td>\n",
       "      <td>fffe43004900440032003200380034003600</td>\n",
       "      <td>Brendan Enciso</td>\n",
       "      <td>18</td>\n",
       "      <td>M</td>\n",
       "      <td>XF0YGUT</td>\n",
       "      <td>Town</td>\n",
       "      <td>Gold Membership</td>\n",
       "      <td>09/02/2016</td>\n",
       "      <td>No</td>\n",
       "      <td>...</td>\n",
       "      <td>-1035.833706</td>\n",
       "      <td>48913.61</td>\n",
       "      <td>27</td>\n",
       "      <td>1150.093442</td>\n",
       "      <td>Yes</td>\n",
       "      <td>No</td>\n",
       "      <td>No</td>\n",
       "      <td>Not Applicable</td>\n",
       "      <td>Too many ads</td>\n",
       "      <td>0</td>\n",
       "    </tr>\n",
       "    <tr>\n",
       "      <th>4</th>\n",
       "      <td>32088</td>\n",
       "      <td>fffe43004900440035003600320032003100</td>\n",
       "      <td>Lizette Lemons</td>\n",
       "      <td>28</td>\n",
       "      <td>F</td>\n",
       "      <td>V5YZC2N</td>\n",
       "      <td>City</td>\n",
       "      <td>No Membership</td>\n",
       "      <td>16/07/2017</td>\n",
       "      <td>Yes</td>\n",
       "      <td>...</td>\n",
       "      <td>449.770000</td>\n",
       "      <td>20010.02</td>\n",
       "      <td>14</td>\n",
       "      <td>653.040000</td>\n",
       "      <td>Yes</td>\n",
       "      <td>Yes</td>\n",
       "      <td>Yes</td>\n",
       "      <td>No Information Available</td>\n",
       "      <td>No reason specified</td>\n",
       "      <td>0</td>\n",
       "    </tr>\n",
       "  </tbody>\n",
       "</table>\n",
       "<p>5 rows × 25 columns</p>\n",
       "</div>"
      ],
      "text/plain": [
       "      ID                           customer_id              Name  age gender  \\\n",
       "0   1644  fffe43004900440033003200390032003400   Dusty Dunneback   30      F   \n",
       "1   8516  fffe43004900440036003200310038003600    Dorine Vanduyn   55      M   \n",
       "2  15564          fffe430049004400350032003200  Christene Pulver   47      M   \n",
       "3  22211  fffe43004900440032003200380034003600    Brendan Enciso   18      M   \n",
       "4  32088  fffe43004900440035003600320032003100    Lizette Lemons   28      F   \n",
       "\n",
       "  security_no region_category membership_category joining_date  \\\n",
       "0     URPJZ5B         Village       No Membership   09/08/2017   \n",
       "1     O0IWUYW         Village   Silver Membership   09/02/2016   \n",
       "2     2R0EFA2            City    Basic Membership   11/06/2017   \n",
       "3     XF0YGUT            Town     Gold Membership   09/02/2016   \n",
       "4     V5YZC2N            City       No Membership   16/07/2017   \n",
       "\n",
       "  joined_through_referral  ... avg_time_spent avg_transaction_value  \\\n",
       "0                     Yes  ...     118.390000              10579.56   \n",
       "1                      No  ...     179.420000              22963.05   \n",
       "2                     Yes  ...      42.230000              32604.41   \n",
       "3                      No  ...   -1035.833706              48913.61   \n",
       "4                     Yes  ...     449.770000              20010.02   \n",
       "\n",
       "  avg_frequency_login_days points_in_wallet  used_special_discount  \\\n",
       "0                       24       610.360000                    Yes   \n",
       "1                       27       694.650000                    Yes   \n",
       "2                    Error       520.620000                    Yes   \n",
       "3                       27      1150.093442                    Yes   \n",
       "4                       14       653.040000                    Yes   \n",
       "\n",
       "   offer_application_preference  past_complaint          complaint_status  \\\n",
       "0                            No              No            Not Applicable   \n",
       "1                            No              No            Not Applicable   \n",
       "2                            No              No            Not Applicable   \n",
       "3                            No              No            Not Applicable   \n",
       "4                           Yes             Yes  No Information Available   \n",
       "\n",
       "               feedback churn  \n",
       "0  Poor Product Quality     1  \n",
       "1  Poor Product Quality     0  \n",
       "2  Poor Product Quality     1  \n",
       "3          Too many ads     0  \n",
       "4   No reason specified     0  \n",
       "\n",
       "[5 rows x 25 columns]"
      ]
     },
     "execution_count": 19,
     "metadata": {},
     "output_type": "execute_result"
    }
   ],
   "source": [
    "df = pd.read_csv('churn_dataset_train.csv')\n",
    "df.head()"
   ]
  },
  {
   "cell_type": "code",
   "execution_count": null,
   "id": "3d634f24",
   "metadata": {},
   "outputs": [],
   "source": []
  },
  {
   "cell_type": "markdown",
   "id": "9b765616",
   "metadata": {},
   "source": [
    "#### Showing the data types of the columns and the number of non null values"
   ]
  },
  {
   "cell_type": "code",
   "execution_count": 16,
   "id": "91b73b2c",
   "metadata": {},
   "outputs": [
    {
     "name": "stdout",
     "output_type": "stream",
     "text": [
      "<class 'pandas.core.frame.DataFrame'>\n",
      "RangeIndex: 24784 entries, 0 to 24783\n",
      "Data columns (total 25 columns):\n",
      " #   Column                        Non-Null Count  Dtype  \n",
      "---  ------                        --------------  -----  \n",
      " 0   ID                            24784 non-null  int64  \n",
      " 1   customer_id                   24784 non-null  object \n",
      " 2   Name                          24784 non-null  object \n",
      " 3   age                           24784 non-null  int64  \n",
      " 4   gender                        24784 non-null  object \n",
      " 5   security_no                   24784 non-null  object \n",
      " 6   region_category               21087 non-null  object \n",
      " 7   membership_category           24784 non-null  object \n",
      " 8   joining_date                  24784 non-null  object \n",
      " 9   joined_through_referral       21158 non-null  object \n",
      " 10  referral_id                   12787 non-null  object \n",
      " 11  preferred_offer_types         24576 non-null  object \n",
      " 12  medium_of_operation           21156 non-null  object \n",
      " 13  internet_option               24784 non-null  object \n",
      " 14  days_since_last_login         24784 non-null  int64  \n",
      " 15  avg_time_spent                24784 non-null  float64\n",
      " 16  avg_transaction_value         24784 non-null  float64\n",
      " 17  avg_frequency_login_days      24784 non-null  object \n",
      " 18  points_in_wallet              22497 non-null  float64\n",
      " 19  used_special_discount         24784 non-null  object \n",
      " 20  offer_application_preference  24784 non-null  object \n",
      " 21  past_complaint                24784 non-null  object \n",
      " 22  complaint_status              24784 non-null  object \n",
      " 23  feedback                      24784 non-null  object \n",
      " 24  churn                         24784 non-null  int64  \n",
      "dtypes: float64(3), int64(4), object(18)\n",
      "memory usage: 4.7+ MB\n"
     ]
    }
   ],
   "source": [
    "df.info()"
   ]
  },
  {
   "cell_type": "markdown",
   "id": "fcf41315",
   "metadata": {},
   "source": [
    "* For the number columns, we see the distribution of the data, mean std, min, max, 25%, 50%, 75%\n",
    "* It also show the count of the non null values"
   ]
  },
  {
   "cell_type": "code",
   "execution_count": 13,
   "id": "2a585a68",
   "metadata": {},
   "outputs": [
    {
     "data": {
      "text/html": [
       "<div>\n",
       "<style scoped>\n",
       "    .dataframe tbody tr th:only-of-type {\n",
       "        vertical-align: middle;\n",
       "    }\n",
       "\n",
       "    .dataframe tbody tr th {\n",
       "        vertical-align: top;\n",
       "    }\n",
       "\n",
       "    .dataframe thead th {\n",
       "        text-align: right;\n",
       "    }\n",
       "</style>\n",
       "<table border=\"1\" class=\"dataframe\">\n",
       "  <thead>\n",
       "    <tr style=\"text-align: right;\">\n",
       "      <th></th>\n",
       "      <th>ID</th>\n",
       "      <th>age</th>\n",
       "      <th>days_since_last_login</th>\n",
       "      <th>avg_time_spent</th>\n",
       "      <th>avg_transaction_value</th>\n",
       "      <th>points_in_wallet</th>\n",
       "      <th>churn</th>\n",
       "    </tr>\n",
       "  </thead>\n",
       "  <tbody>\n",
       "    <tr>\n",
       "      <th>count</th>\n",
       "      <td>24784.000000</td>\n",
       "      <td>24784.000000</td>\n",
       "      <td>24784.000000</td>\n",
       "      <td>24784.000000</td>\n",
       "      <td>24784.000000</td>\n",
       "      <td>22497.000000</td>\n",
       "      <td>24784.000000</td>\n",
       "    </tr>\n",
       "    <tr>\n",
       "      <th>mean</th>\n",
       "      <td>18467.497014</td>\n",
       "      <td>36.986967</td>\n",
       "      <td>-42.462314</td>\n",
       "      <td>241.974449</td>\n",
       "      <td>29307.237880</td>\n",
       "      <td>686.287574</td>\n",
       "      <td>0.265655</td>\n",
       "    </tr>\n",
       "    <tr>\n",
       "      <th>std</th>\n",
       "      <td>10660.308320</td>\n",
       "      <td>15.860701</td>\n",
       "      <td>229.834676</td>\n",
       "      <td>395.333687</td>\n",
       "      <td>19436.878248</td>\n",
       "      <td>193.175055</td>\n",
       "      <td>0.441690</td>\n",
       "    </tr>\n",
       "    <tr>\n",
       "      <th>min</th>\n",
       "      <td>0.000000</td>\n",
       "      <td>10.000000</td>\n",
       "      <td>-999.000000</td>\n",
       "      <td>-2281.236526</td>\n",
       "      <td>800.460000</td>\n",
       "      <td>-549.357498</td>\n",
       "      <td>0.000000</td>\n",
       "    </tr>\n",
       "    <tr>\n",
       "      <th>25%</th>\n",
       "      <td>9262.750000</td>\n",
       "      <td>23.000000</td>\n",
       "      <td>8.000000</td>\n",
       "      <td>60.165000</td>\n",
       "      <td>14194.192500</td>\n",
       "      <td>616.410000</td>\n",
       "      <td>0.000000</td>\n",
       "    </tr>\n",
       "    <tr>\n",
       "      <th>50%</th>\n",
       "      <td>18495.500000</td>\n",
       "      <td>37.000000</td>\n",
       "      <td>12.000000</td>\n",
       "      <td>161.390000</td>\n",
       "      <td>27612.555000</td>\n",
       "      <td>696.920000</td>\n",
       "      <td>0.000000</td>\n",
       "    </tr>\n",
       "    <tr>\n",
       "      <th>75%</th>\n",
       "      <td>27676.250000</td>\n",
       "      <td>51.000000</td>\n",
       "      <td>16.000000</td>\n",
       "      <td>354.725000</td>\n",
       "      <td>40862.025000</td>\n",
       "      <td>763.090000</td>\n",
       "      <td>1.000000</td>\n",
       "    </tr>\n",
       "    <tr>\n",
       "      <th>max</th>\n",
       "      <td>36989.000000</td>\n",
       "      <td>64.000000</td>\n",
       "      <td>26.000000</td>\n",
       "      <td>3040.410000</td>\n",
       "      <td>99914.050000</td>\n",
       "      <td>1816.933696</td>\n",
       "      <td>1.000000</td>\n",
       "    </tr>\n",
       "  </tbody>\n",
       "</table>\n",
       "</div>"
      ],
      "text/plain": [
       "                 ID           age  days_since_last_login  avg_time_spent  \\\n",
       "count  24784.000000  24784.000000           24784.000000    24784.000000   \n",
       "mean   18467.497014     36.986967             -42.462314      241.974449   \n",
       "std    10660.308320     15.860701             229.834676      395.333687   \n",
       "min        0.000000     10.000000            -999.000000    -2281.236526   \n",
       "25%     9262.750000     23.000000               8.000000       60.165000   \n",
       "50%    18495.500000     37.000000              12.000000      161.390000   \n",
       "75%    27676.250000     51.000000              16.000000      354.725000   \n",
       "max    36989.000000     64.000000              26.000000     3040.410000   \n",
       "\n",
       "       avg_transaction_value  points_in_wallet         churn  \n",
       "count           24784.000000      22497.000000  24784.000000  \n",
       "mean            29307.237880        686.287574      0.265655  \n",
       "std             19436.878248        193.175055      0.441690  \n",
       "min               800.460000       -549.357498      0.000000  \n",
       "25%             14194.192500        616.410000      0.000000  \n",
       "50%             27612.555000        696.920000      0.000000  \n",
       "75%             40862.025000        763.090000      1.000000  \n",
       "max             99914.050000       1816.933696      1.000000  "
      ]
     },
     "execution_count": 13,
     "metadata": {},
     "output_type": "execute_result"
    }
   ],
   "source": [
    "df.describe()\n"
   ]
  },
  {
   "cell_type": "markdown",
   "id": "6657b514",
   "metadata": {},
   "source": [
    "* For the feedback columns, we see the number of unique values, the top value and the frequency of that value"
   ]
  },
  {
   "cell_type": "code",
   "execution_count": 7,
   "id": "f55bd584",
   "metadata": {},
   "outputs": [
    {
     "data": {
      "text/plain": [
       "feedback\n",
       "Poor Product Quality        4309\n",
       "Too many ads                4238\n",
       "Poor Customer Service       4210\n",
       "Poor Website                4206\n",
       "No reason specified         4128\n",
       "User Friendly Website        940\n",
       "Reasonable Price             937\n",
       "Products always in Stock     934\n",
       "Quality Customer Care        882\n",
       "Name: count, dtype: int64"
      ]
     },
     "execution_count": 7,
     "metadata": {},
     "output_type": "execute_result"
    }
   ],
   "source": [
    "df.feedback.value_counts()"
   ]
  },
  {
   "cell_type": "markdown",
   "id": "70c40183",
   "metadata": {},
   "source": [
    "* For the columns which have missing values show the number of missing values"
   ]
  },
  {
   "cell_type": "code",
   "execution_count": 21,
   "id": "731a1ffc",
   "metadata": {},
   "outputs": [
    {
     "data": {
      "text/plain": [
       "region_category             3697\n",
       "joined_through_referral     3626\n",
       "referral_id                11997\n",
       "preferred_offer_types        208\n",
       "medium_of_operation         3628\n",
       "points_in_wallet            2287\n",
       "dtype: int64"
      ]
     },
     "execution_count": 21,
     "metadata": {},
     "output_type": "execute_result"
    }
   ],
   "source": [
    "df.isnull().sum()[df.isnull().sum() > 0]"
   ]
  },
  {
   "cell_type": "code",
   "execution_count": 31,
   "id": "23a1bba0",
   "metadata": {},
   "outputs": [
    {
     "data": {
      "text/plain": [
       "0         No\n",
       "1         No\n",
       "2         No\n",
       "3         No\n",
       "4        Yes\n",
       "        ... \n",
       "24779     No\n",
       "24780     No\n",
       "24781    Yes\n",
       "24782    Yes\n",
       "24783    Yes\n",
       "Name: offer_application_preference, Length: 24784, dtype: object"
      ]
     },
     "execution_count": 31,
     "metadata": {},
     "output_type": "execute_result"
    }
   ],
   "source": [
    "df.offer_application_preference"
   ]
  },
  {
   "cell_type": "code",
   "execution_count": 23,
   "id": "a42bbda0",
   "metadata": {},
   "outputs": [
    {
     "data": {
      "text/plain": [
       "Index(['ID', 'customer_id', 'Name', 'age', 'gender', 'security_no',\n",
       "       'region_category', 'membership_category', 'joining_date',\n",
       "       'joined_through_referral', 'referral_id', 'preferred_offer_types',\n",
       "       'medium_of_operation', 'internet_option', 'days_since_last_login',\n",
       "       'avg_time_spent', 'avg_transaction_value', 'avg_frequency_login_days',\n",
       "       'points_in_wallet', 'used_special_discount',\n",
       "       'offer_application_preference', 'past_complaint', 'complaint_status',\n",
       "       'feedback', 'churn'],\n",
       "      dtype='object')"
      ]
     },
     "execution_count": 23,
     "metadata": {},
     "output_type": "execute_result"
    }
   ],
   "source": [
    "df.columns"
   ]
  },
  {
   "cell_type": "code",
   "execution_count": null,
   "id": "ce7f3b8a",
   "metadata": {},
   "outputs": [],
   "source": []
  }
 ],
 "metadata": {
  "kernelspec": {
   "display_name": "py310",
   "language": "python",
   "name": "python3"
  },
  "language_info": {
   "codemirror_mode": {
    "name": "ipython",
    "version": 3
   },
   "file_extension": ".py",
   "mimetype": "text/x-python",
   "name": "python",
   "nbconvert_exporter": "python",
   "pygments_lexer": "ipython3",
   "version": "3.10.16"
  }
 },
 "nbformat": 4,
 "nbformat_minor": 5
}
