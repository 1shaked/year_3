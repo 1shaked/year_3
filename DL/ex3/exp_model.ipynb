{
 "cells": [
  {
   "cell_type": "code",
   "execution_count": 1,
   "metadata": {},
   "outputs": [
    {
     "name": "stderr",
     "output_type": "stream",
     "text": [
      "/opt/anaconda3/envs/Stats/lib/python3.8/site-packages/tqdm/auto.py:21: TqdmWarning: IProgress not found. Please update jupyter and ipywidgets. See https://ipywidgets.readthedocs.io/en/stable/user_install.html\n",
      "  from .autonotebook import tqdm as notebook_tqdm\n"
     ]
    },
    {
     "name": "stdout",
     "output_type": "stream",
     "text": [
      "Using device: mps\n"
     ]
    }
   ],
   "source": [
    "import torch\n",
    "import torch.nn as nn\n",
    "import torch.optim as optim\n",
    "from torch.utils.data import DataLoader, random_split\n",
    "from torchvision import datasets, transforms\n",
    "import matplotlib.pyplot as plt\n",
    "from utils_func import train_model, LogisticRegression, save_model ,FullyConnected, CNN, MobileNetV2FeatureExtractor, MobileNetV2FineTuned\n",
    "import os\n",
    "# Set device (use MPS for Mac M1, fallback to CUDA or CPU)\n",
    "device = torch.device(\"mps\") if torch.backends.mps.is_available() else (\n",
    "    torch.device(\"cuda\") if torch.cuda.is_available() else torch.device(\"cpu\")\n",
    ")\n",
    "print(f\"Using device: {device}\")\n",
    "\n",
    "import os\n",
    "os.environ[\"TORCH_HOME\"] = \"./cache\"\n"
   ]
  },
  {
   "cell_type": "code",
   "execution_count": 2,
   "metadata": {},
   "outputs": [],
   "source": [
    "input_size = 3 * 64 * 64  # Correct input size = 12288\n",
    "num_classes = 10\n",
    "num_epochs = 100"
   ]
  },
  {
   "cell_type": "code",
   "execution_count": 3,
   "metadata": {},
   "outputs": [],
   "source": [
    "# model = LogisticRegression(input_size=input_size, num_classes=10)\n",
    "# model.to(device)\n",
    "# al_loss, val_acc, optimizer, train_losses, val_losses, train_accuracies, val_accuracies  = train_model(model, num_epochs=10, device=device)\n",
    "# # model, optimizer, epoch, loss, file_path\n",
    "# # plot the loss and accuracy\n",
    "# plt.figure()\n",
    "# plt.plot(train_losses, label='train loss')\n",
    "# plt.plot(val_losses, label='validation loss')\n",
    "# plt.legend()\n",
    "# plt.show()\n",
    "# # save_model(model,optimizer , num_epochs, val_loss, \"./models/logistic_regression.pth\", val_acc)"
   ]
  },
  {
   "cell_type": "code",
   "execution_count": null,
   "metadata": {},
   "outputs": [],
   "source": []
  },
  {
   "cell_type": "code",
   "execution_count": 4,
   "metadata": {},
   "outputs": [],
   "source": [
    "\n",
    "\n",
    "\n",
    "# model = FullyConnected(input_size, 128 , 256 , num_classes)\n",
    "# model.to(device)\n",
    "# val_loss , val_acc, optimizer  = train_model(model, num_epochs=num_epochs, device=device)\n",
    "# # model, optimizer, epoch, loss, file_path\n",
    "# save_model(model,optimizer , num_epochs, val_loss, \"./models/fully_connected.pth\", val_acc)\n",
    "\n"
   ]
  },
  {
   "cell_type": "code",
   "execution_count": 5,
   "metadata": {},
   "outputs": [],
   "source": [
    "# model = CNN(num_classes)\n",
    "# model.to(device)\n",
    "# val_loss , val_acc, optimizer  = train_model(model, num_epochs=num_epochs, device=device)\n",
    "# # model, optimizer, epoch, loss, file_path\n",
    "# save_model(model,optimizer , num_epochs, val_loss, \"./models/CNN.pth\", val_acc)"
   ]
  },
  {
   "cell_type": "code",
   "execution_count": 6,
   "metadata": {},
   "outputs": [],
   "source": [
    "# model = MobileNetV2FeatureExtractor(num_classes)\n",
    "# model.to(device)\n",
    "# val_loss , val_acc, optimizer  = train_model(model, num_epochs=num_epochs, device=device)\n",
    "# # model, optimizer, epoch, loss, file_path\n",
    "# save_model(model,optimizer , num_epochs, val_loss, \"./models/MobileNetV2FeatureExtractor.pth\", val_acc)"
   ]
  },
  {
   "cell_type": "code",
   "execution_count": 7,
   "metadata": {},
   "outputs": [],
   "source": [
    "\n",
    "# model = MobileNetV2FineTuned(num_classes)\n",
    "# model.to(device)\n",
    "# val_loss , val_acc, optimizer  = train_model(model, num_epochs=num_epochs, device=device)\n",
    "# # model, optimizer, epoch, loss, file_path\n",
    "# save_model(model,optimizer , num_epochs, val_loss, \"./models/MobileNetV2FineTuned.pth\", val_acc)\n",
    "\n"
   ]
  },
  {
   "cell_type": "code",
   "execution_count": 8,
   "metadata": {},
   "outputs": [],
   "source": [
    "\n",
    "def train_with_variations(classToTrain, num_epochs, device , name_file, *args):\n",
    "    learning_rates = [0.001, 0.01]\n",
    "    weight_decay = [0, 0.0001]\n",
    "    for lr in learning_rates:\n",
    "        for wd in weight_decay:\n",
    "            file_name = f\"./models/{name_file}_lr_{lr}_wd_{wd}.pth\"\n",
    "            if os.path.exists(file_name):\n",
    "                continue\n",
    "            model = classToTrain(*args)\n",
    "            model.to(device)\n",
    "            val_loss , val_acc, optimizer, train_losses, val_losses, train_accuracies, val_accuracies  = train_model(model, num_epochs=num_epochs, device=device, learning_rate=lr, batch_size=64, weight_decay=wd)\n",
    "            # model, optimizer, epoch, loss, file_path\n",
    "            save_model(model,optimizer , file_name\n",
    "                       ,acc=val_acc, train_losses=train_losses,val_losses=val_losses, train_accuracies=train_accuracies, val_accuracies=val_accuracies\n",
    "                       ,epochs=num_epochs, loss=val_loss, lr=lr, wd=wd)\n"
   ]
  },
  {
   "cell_type": "code",
   "execution_count": null,
   "metadata": {},
   "outputs": [
    {
     "name": "stdout",
     "output_type": "stream",
     "text": [
      "Files already downloaded and verified\n",
      "Files already downloaded and verified\n",
      "Epoch 1: Train Loss=146.5575, Train Accuracy=0.2080\n",
      "Epoch 1: Val Loss=29.9626, Val Accuracy=0.3240\n"
     ]
    }
   ],
   "source": [
    "train_with_variations(LogisticRegression, num_epochs, device, \"logistic_regression\" , input_size, num_classes)\n",
    "train_with_variations(FullyConnected, num_epochs, device, \"fully_connected\", input_size, 128, 256, num_classes)\n",
    "train_with_variations(CNN, num_epochs, device, \"CNN\" , num_classes)\n",
    "train_with_variations(MobileNetV2FeatureExtractor, num_epochs, device, \"MobileNetV2FeatureExtractor\", num_classes)\n",
    "train_with_variations(MobileNetV2FineTuned, num_epochs, device, \"MobileNetV2FineTuned\", num_classes)"
   ]
  },
  {
   "cell_type": "code",
   "execution_count": 5,
   "metadata": {},
   "outputs": [
    {
     "ename": "NameError",
     "evalue": "name 'model' is not defined",
     "output_type": "error",
     "traceback": [
      "\u001b[0;31m---------------------------------------------------------------------------\u001b[0m",
      "\u001b[0;31mNameError\u001b[0m                                 Traceback (most recent call last)",
      "\u001b[0;32m/var/folders/27/h86gj_fd3xg23kmxw_95c6kc0000gn/T/ipykernel_6835/3002205441.py\u001b[0m in \u001b[0;36m<cell line: 1>\u001b[0;34m()\u001b[0m\n\u001b[0;32m----> 1\u001b[0;31m \u001b[0msave_model\u001b[0m\u001b[0;34m(\u001b[0m\u001b[0mmodel\u001b[0m\u001b[0;34m,\u001b[0m\u001b[0moptimizer\u001b[0m \u001b[0;34m,\u001b[0m \u001b[0mnum_epochs\u001b[0m\u001b[0;34m,\u001b[0m \u001b[0mval_loss\u001b[0m\u001b[0;34m,\u001b[0m \u001b[0;34mf\"./models/{name_file}_lr_{lr}_wd_{wd}.pth\"\u001b[0m\u001b[0;34m,\u001b[0m \u001b[0mval_acc\u001b[0m\u001b[0;34m)\u001b[0m\u001b[0;34m\u001b[0m\u001b[0;34m\u001b[0m\u001b[0m\n\u001b[0m",
      "\u001b[0;31mNameError\u001b[0m: name 'model' is not defined"
     ]
    }
   ],
   "source": []
  },
  {
   "cell_type": "code",
   "execution_count": null,
   "metadata": {},
   "outputs": [],
   "source": []
  }
 ],
 "metadata": {
  "kernelspec": {
   "display_name": "Stats",
   "language": "python",
   "name": "python3"
  },
  "language_info": {
   "codemirror_mode": {
    "name": "ipython",
    "version": 3
   },
   "file_extension": ".py",
   "mimetype": "text/x-python",
   "name": "python",
   "nbconvert_exporter": "python",
   "pygments_lexer": "ipython3",
   "version": "3.8.15"
  }
 },
 "nbformat": 4,
 "nbformat_minor": 2
}
