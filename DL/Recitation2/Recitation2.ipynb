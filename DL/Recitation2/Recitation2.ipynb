{
 "cells": [
  {
   "cell_type": "markdown",
   "metadata": {},
   "source": [
    "# Task"
   ]
  },
  {
   "cell_type": "markdown",
   "metadata": {},
   "source": [
    "Today we will see a code implemented using Numpy for distinguishing between the digit 8 and the digit 3 from the MNIST dataset (http://yann.lecun.com/exdb/mnist/) using logistic regression. This recitation will be a showcase for the standard deep learning pipeline. We will also see some useful tricks that make NN work better and converge faster."
   ]
  },
  {
   "cell_type": "markdown",
   "metadata": {},
   "source": [
    "# Read Data"
   ]
  },
  {
   "cell_type": "code",
   "execution_count": 1,
   "metadata": {},
   "outputs": [],
   "source": [
    "import numpy as np # linear algebra\n",
    "import pandas as pd # data processing, CSV file I/O (e.g. pd.read_csv)\n",
    "import matplotlib.pyplot as plt  # for plotting\n",
    "# import torch\n",
    "# import torchvision\n",
    "import torchvision.datasets as datasets\n",
    "import os\n",
    "os.environ[\"KMP_DUPLICATE_LIB_OK\"] = \"TRUE\"\n",
    "\n",
    "\n",
    "\n",
    "np.random.seed(42)  # fixing seed. Important for reproducibility!"
   ]
  },
  {
   "cell_type": "code",
   "execution_count": 2,
   "metadata": {},
   "outputs": [],
   "source": [
    "def plot_image(X, title, ax):\n",
    "    ax.imshow(X, cmap='gray')\n",
    "    ax.axis('off') # hide the axes ticks\n",
    "    ax.set_title(title, color= 'black', fontsize=25)"
   ]
  },
  {
   "cell_type": "code",
   "execution_count": 3,
   "metadata": {},
   "outputs": [],
   "source": [
    "# read train and test files\n",
    "train_data = mnist_trainset = datasets.MNIST(root='./data', train=True, download=True, transform=None)\n",
    "test_data = mnist_trainset = datasets.MNIST(root='./data', train=False, download=True, transform=None)\n"
   ]
  },
  {
   "cell_type": "code",
   "execution_count": 4,
   "metadata": {},
   "outputs": [
    {
     "name": "stdout",
     "output_type": "stream",
     "text": [
      "train data shape:  torch.Size([60000, 28, 28])  test data shape:  torch.Size([10000, 28, 28]) \n",
      "\n"
     ]
    }
   ],
   "source": [
    "#let's see the first few rows\n",
    "print(\"train data shape: \", train_data.data.shape, \" test data shape: \", test_data.data.shape, \"\\n\")"
   ]
  },
  {
   "cell_type": "code",
   "execution_count": 5,
   "metadata": {},
   "outputs": [],
   "source": [
    "# separate labels from data for convenience\n",
    "y = train_data.targets.numpy()\n",
    "X = train_data.data.numpy()"
   ]
  },
  {
   "cell_type": "code",
   "execution_count": null,
   "metadata": {},
   "outputs": [],
   "source": []
  },
  {
   "cell_type": "code",
   "execution_count": 6,
   "metadata": {},
   "outputs": [
    {
     "data": {
      "image/png": "[encoded data removed]",
      "text/plain": [
       "<Figure size 1200x500 with 10 Axes>"
      ]
     },
     "metadata": {},
     "output_type": "display_data"
    }
   ],
   "source": [
    "\n",
    "# create plot template\n",
    "fig, axes = plt.subplots(2,5, figsize=(12,5))\n",
    "axes = axes.flatten()\n",
    "\n",
    "# pick random 10 images and plot them\n",
    "idx = np.random.randint(0,60000,size=10)\n",
    "for i in range(10):\n",
    "    img = X[idx[i],:].reshape(28,28)  # image\n",
    "    title = str(int(y[idx[i]]))  # class label\n",
    "    plot_image(img, title, axes[i])\n",
    "plt.show()\n",
    "\n",
    "# note that min values are 0 (black pixel), max values are 255 (white pixel), values in between are greys"
   ]
  },
  {
   "cell_type": "markdown",
   "metadata": {},
   "source": [
    "# Data Processing"
   ]
  },
  {
   "cell_type": "markdown",
   "metadata": {},
   "source": [
    "## Take images of '3' and '8'"
   ]
  },
  {
   "cell_type": "code",
   "execution_count": 7,
   "metadata": {},
   "outputs": [],
   "source": [
    "y = train_data.targets.numpy()\n",
    "X = train_data.data.numpy()\n",
    "y_test = test_data.targets.numpy()\n",
    "X_test = test_data.data.numpy()"
   ]
  },
  {
   "cell_type": "code",
   "execution_count": 8,
   "metadata": {},
   "outputs": [
    {
     "data": {
      "text/plain": [
       "(60000,)"
      ]
     },
     "execution_count": 8,
     "metadata": {},
     "output_type": "execute_result"
    }
   ],
   "source": [
    "train_data.targets.numpy().shape"
   ]
  },
  {
   "cell_type": "code",
   "execution_count": 9,
   "metadata": {},
   "outputs": [
    {
     "data": {
      "text/plain": [
       "builtin_function_or_method"
      ]
     },
     "execution_count": 9,
     "metadata": {},
     "output_type": "execute_result"
    }
   ],
   "source": [
    "type(train_data.targets.numpy)"
   ]
  },
  {
   "cell_type": "code",
   "execution_count": 10,
   "metadata": {},
   "outputs": [],
   "source": [
    "# first, let's filter only those samples with '8' and '3' from both training and test\n",
    "# take only these digits\n",
    "digits = [3, 8]\n",
    "trn38 = X[np.where(np.isin(y, digits))[0]]\n",
    "X_test = X_test[np.where(np.isin(y_test, digits))[0]]\n",
    "\n",
    "y = y[np.where(np.isin(y, digits))[0]]\n",
    "y_test = y_test[np.where(np.isin(y_test, digits))[0]]\n"
   ]
  },
  {
   "cell_type": "code",
   "execution_count": 11,
   "metadata": {},
   "outputs": [],
   "source": [
    "# add constant \"1\" for the bias term\n",
    "N_train = trn38.shape[0]  # number of training samples\n",
    "trn38 = np.concatenate((np.ones((N_train, 1)), trn38.reshape(N_train, -1)), axis=1)\n",
    "N_test = X_test.shape[0]  # number of test samples\n",
    "X_test = np.concatenate((np.ones((N_test, 1)), X_test.reshape(N_test, -1)), axis=1)"
   ]
  },
  {
   "cell_type": "code",
   "execution_count": 12,
   "metadata": {},
   "outputs": [
    {
     "name": "stdout",
     "output_type": "stream",
     "text": [
      "train data shape:  (11982, 785)  test data shape:  (1984, 785) \n",
      "\n"
     ]
    }
   ],
   "source": [
    "\n",
    "# rename the class 3 as \"0\" and the class 8 as \"1\"\n",
    "y[y == digits[0]] = 0\n",
    "y[y == digits[1]] = 1\n",
    "y_test[y_test == digits[0]] = 0\n",
    "y_test[y_test == digits[1]] = 1\n",
    "\n",
    "print(\"train data shape: \", trn38.shape, \" test data shape: \", X_test.shape, \"\\n\")"
   ]
  },
  {
   "cell_type": "markdown",
   "metadata": {},
   "source": [
    "## Split the train set to train-val"
   ]
  },
  {
   "cell_type": "markdown",
   "metadata": {},
   "source": [
    "To compare between models or optimize hyperparameters (e.g., batch-size, regularization term and coefficient, learning rate) we need a validation set. When we have enough data one split is enough.\n",
    "\n",
    "Note that it is important to maintain the same distribution in both train and validation sets. To do so we will use stratified sampling."
   ]
  },
  {
   "cell_type": "code",
   "execution_count": 13,
   "metadata": {},
   "outputs": [
    {
     "name": "stdout",
     "output_type": "stream",
     "text": [
      "train data shape:  (9585, 785)  validation data shape:  (2397, 785) \n",
      "\n"
     ]
    }
   ],
   "source": [
    "from sklearn.model_selection import train_test_split  # I will use sklearn train test split function. Very useful!\n",
    "\n",
    "val_pct = 0.2  # set percentage for validation split\n",
    "random_state = 42  # random seed for reproducibility\n",
    "# all the magic happans inside. Shuffle data, very important!\n",
    "X_train, X_val, y_train, y_val = train_test_split(trn38, y, test_size=val_pct, \n",
    "                                                  random_state=random_state, stratify=y, shuffle=True)\n",
    "\n",
    "print(\"train data shape: \", X_train.shape, \" validation data shape: \", X_val.shape, \"\\n\")"
   ]
  },
  {
   "cell_type": "markdown",
   "metadata": {},
   "source": [
    "## Normalizing the input"
   ]
  },
  {
   "cell_type": "markdown",
   "metadata": {},
   "source": [
    "Convergence is usually faster if:\n",
    "- Inputs are centered around zero\n",
    "- Inputs are scaled such that each feature (pixle) has about the same variance\n",
    "- Inputs are uncorrelated\n",
    "\n",
    "The first two are relatively easy to obtain. The third one is trickier and we will not discuss it.\n",
    "Popular normalization techniques (based on the training data only):\n",
    "- Min-Max normalization: $\\hat{x}_i= \\frac{x_i-min_j(x_i)}{max_j(x_i)-min_j(x_i)}$, where $x_i$ is the i-th feature, and $j$ is an index running over all instances of the i-th feature in the training set.\n",
    "\n",
    "\n",
    "- Z-score normalization: $\\hat{x}_i= \\frac{x_i-\\mu(x_i)}{\\sigma(x_i)}$, where $\\mu(x_i)$ and $\\sigma(x_i)$ are the mean and std of the i-th feature calculated on the training set."
   ]
  },
  {
   "cell_type": "code",
   "execution_count": 14,
   "metadata": {},
   "outputs": [],
   "source": [
    "def normalize(X):\n",
    "    # get min and max per feature (except the first one which corresponds to the bias term)\n",
    "    X_min = np.min(X[:, 1:], axis=0)\n",
    "    X_max = np.max(X[:, 1:], axis=0)\n",
    "    return (X[:, 1:] - X_min)/(X_max - X_min + eps)\n",
    "\n",
    "# here we will do the min-max normalization (since it is easier in this case :-)).\n",
    "eps = 1e-8  # add small epsilon for numerical stability\n",
    "X_train[:, 1:] = normalize(X_train)\n",
    "X_val[:, 1:] = normalize(X_val)\n",
    "X_test[:, 1:] = normalize(X_test)"
   ]
  },
  {
   "cell_type": "markdown",
   "metadata": {},
   "source": [
    "# Binay Logistic Regression Classifier"
   ]
  },
  {
   "cell_type": "markdown",
   "metadata": {},
   "source": [
    "1. **Training data:** $(\\mathrm{x_1}, y_1), ...,(\\mathrm{x_{n}}, y_{n})$ where, $\\mathrm{x_j} \\in \\mathbb{R}^{784}$ and $y_j \\in \\{0, 1\\}$\n",
    "\n",
    "\n",
    "2. **Sigmoid activation:**\n",
    "\n",
    "    \\begin{align}\n",
    "    \\sigma(z) &= \\frac{1}{1 + e^{-z}}\\\\\n",
    "    p(y_j=1 | \\mathrm{x_j}; \\mathrm{w}) &= \\sigma(\\mathrm{w}^T\\mathrm{x_j})\\\\\n",
    "    p(y_j=0 | \\mathrm{x_j}; \\mathrm{w}) &= 1 - \\sigma(\\mathrm{w}^T\\mathrm{x_j})\n",
    "    \\end{align}\n",
    "\n",
    "3. **Log-likelihood:** \n",
    "    \n",
    "    \\begin{align}\n",
    "    L((X,Y);\\mathrm{w}) &= -\\frac{1}{n}\\sum_{j=1}^{j=n} log~p(y_j | \\mathrm{x_j}; \\mathrm{w})\\\\\n",
    "    &= -\\frac{1}{n}\\sum_{j=1}^{j=n} log~[p(y_j = 1| \\mathrm{x_j}; \\mathrm{w})^{y_j} \\cdot (1 - p(y_j = 1| \\mathrm{x_j}; \\mathrm{w}))^{1 - y_j}]\\\\\n",
    "     &= -\\frac{1}{n} \\sum_{j=1}^{j=n} y_j \\cdot \\log~p(y_j = 1 | \\mathrm{x_j}; \\mathrm{w}) + (1 - y_j) \\cdot \\log~p(y_j=0 | \\mathrm{x_j}; \\mathrm{w})\\\\\n",
    "     &= -\\frac{1}{n} \\sum_{j=1}^{j=n} y_j \\cdot \\log~\\sigma(\\mathrm{w}^T\\mathrm{x_j}) + (1 - y_j) \\cdot \\log~(1 - \\sigma(\\mathrm{w}^T\\mathrm{x_j}))\n",
    "    \\end{align}\n",
    "\n",
    "4. **Optimization problem:**\n",
    "\n",
    "    \\begin{align}\n",
    "    \\hat{\\mathrm{w}} &= arg\\,min_{\\mathrm{w}}L((X,Y);\\mathrm{w})\n",
    "    \\end{align}\n",
    "5. **Gradient of the loss function:**\n",
    "\n",
    "    To minimize the loss function $ L((X, Y); \\mathrm{w}) $, we need its gradient with respect to $ \\mathrm{w} $. The derivative is given by:\n",
    "\n",
    "    \\begin{align}\n",
    "    \\nabla_{\\mathrm{w}} L &= -\\frac{1}{n} \\sum_{j=1}^{n} (y_j - p(y_j=1 | \\mathrm{x}_j; \\mathrm{w})) \\mathrm{x}_j,\n",
    "    \\end{align}\n",
    "\n",
    "    where  $ p(y_j=1 | \\mathrm{x}_j; \\mathrm{w}) = \\sigma(\\mathrm{w}^T \\mathrm{x}_j) $\n",
    "\n",
    "    To derive this, we start by differentiating the log-likelihood $ L((X, Y); \\mathrm{w}) $ with respect to $ \\mathrm{w} $. The derivative of the term $ y_j \\log(\\sigma(\\mathrm{w}^T \\mathrm{x}_j)) + (1 - y_j) \\log(1 - \\sigma(\\mathrm{w}^T \\mathrm{x}_j)) $ simplifies to $ (y_j - \\sigma(\\mathrm{w}^T \\mathrm{x}_j)) \\mathrm{x}_j $, resulting in the expression shown above after summing over all data points.\n",
    "\n",
    "    **Gradient descent update rule:**\n",
    "\n",
    "    To update $ \\mathrm{w} $ iteratively, we use:\n",
    "\n",
    "    \\begin{align}\n",
    "    \\mathrm{w}^{t+1} &= \\mathrm{w}^t - \\eta \\nabla_{\\mathrm{w}} L(\\mathrm{w}^t),\n",
    "    \\end{align}\n",
    "\n",
    "    or equivalently:\n",
    "\n",
    "    \\begin{align}\n",
    "    \\mathrm{w}^{t+1} &= \\mathrm{w}^t + \\eta \\frac{1}{n} \\sum_{j=1}^{n} (y_j - p(y_j=1 | \\mathrm{x}_j; \\mathrm{w}^t)) \\mathrm{x}_j.\n",
    "    \\end{align}\n",
    "\n",
    "    **Explanation of terms:**\n",
    "    - $ \\eta $ is the learning rate that determines the step size for updates.\n",
    "    - $ \\mathrm{w}^{t} $ is the parameter vector at iteration $ t $.\n",
    "\n",
    "\n",
    "\n",
    "<!-- 5. **Gradient descent update rule:**\n",
    "\n",
    "    To minimize the loss function $\\mathbf{L((X,Y);\\mathrm{w})}$, we use gradient descent. The gradient of $ \\mathbf{L}$ with respect to $\\mathbf{\\mathrm{w}}$ is:\n",
    "\n",
    "    \\begin{align}\n",
    "    \\nabla_{\\mathbf{\\mathrm{w}}} \\mathbf{L} &= - \\frac{1}{n} \\sum_{j=1}^{n} ( \\mathbf{y}_j - p(\\mathbf{y}_j=1 | \\mathbf{\\mathrm{x}}_j; \\mathbf{\\mathrm{w}})) \\mathbf{\\mathrm{x}}_j,\n",
    "    \\end{align}\n",
    "\n",
    "    where $p(\\mathbf{y}_j=1 | \\mathbf{\\mathrm{x}}_j; \\mathbf{\\mathrm{w}}) = \\sigma(\\mathbf{\\mathrm{w}}^T \\mathbf{\\mathrm{x}}_j)$.\n",
    "\n",
    "    **Update step:**\n",
    "    $$\n",
    "    \\mathbf{w}^{t+1} = \\mathbf{w}^t - \\eta \\nabla_{\\mathbf{w}} \\mathbf{L}(\\mathbf{w}^t),\n",
    "    $$\n",
    "    or equivalently:\n",
    "    $$\n",
    "    \\mathbf{w}^{t+1} = \\mathbf{w}^t + \\eta \\frac{1}{n} \\sum_{j=1}^{n} (\\mathbf{y}_j - p(\\mathbf{y}_j=1 | \\mathbf{x}_j; \\mathbf{w}^t)) \\mathbf{x}_j.\n",
    "    $$\n",
    "\n",
    "\n",
    "    Here, $\\eta$ is the learning rate controlling the update step size. -->\n"
   ]
  },
  {
   "cell_type": "markdown",
   "metadata": {},
   "source": [
    "## Sigmoid activation"
   ]
  },
  {
   "cell_type": "code",
   "execution_count": 15,
   "metadata": {},
   "outputs": [],
   "source": [
    "def sigmoid(z):\n",
    "    return 1/(1 + np.exp(-z))"
   ]
  },
  {
   "cell_type": "code",
   "execution_count": 16,
   "metadata": {},
   "outputs": [
    {
     "data": {
      "image/png": "[encoded data removed]",
      "text/plain": [
       "<Figure size 640x480 with 1 Axes>"
      ]
     },
     "metadata": {},
     "output_type": "display_data"
    }
   ],
   "source": [
    "z = np.linspace(-10, 10, 101)  # generate 101 points evenly spaced samples on the interval [-10, 10]\n",
    "s = sigmoid(z)  # apply sigmoid\n",
    "plt.plot(z, s)\n",
    "plt.title('sigmoid');"
   ]
  },
  {
   "cell_type": "markdown",
   "metadata": {},
   "source": [
    "## CE Loss function"
   ]
  },
  {
   "cell_type": "code",
   "execution_count": 17,
   "metadata": {},
   "outputs": [],
   "source": [
    "def cross_entropy(y_true, y_pred):\n",
    "    '''\n",
    "    Implementation of the cross entropy loss function\n",
    "    y_true: ground truth, of shape (M, )\n",
    "    z: Wx (M, ) \n",
    "    M: number of samples in the batch\n",
    "    Return: scalar\n",
    "    '''\n",
    "    eps = 0.0000001\n",
    "    p_y_given_x = - (y_true * np.log(y_pred + eps) + (1 - y_true) * np.log((1 - y_pred) + eps))\n",
    "    CE_loss = np.mean(p_y_given_x)\n",
    "    return CE_loss"
   ]
  },
  {
   "cell_type": "markdown",
   "metadata": {},
   "source": [
    "## Derivatives"
   ]
  },
  {
   "cell_type": "code",
   "execution_count": 18,
   "metadata": {},
   "outputs": [],
   "source": [
    "def dL_dW(y_true, y_pred, X):\n",
    "    # average over rows\n",
    "    M = X.shape[0]\n",
    "    return - (1 / M) * X.transpose() @ (y_true - y_pred)"
   ]
  },
  {
   "cell_type": "markdown",
   "metadata": {},
   "source": [
    "## Forward pass"
   ]
  },
  {
   "cell_type": "code",
   "execution_count": 19,
   "metadata": {},
   "outputs": [],
   "source": [
    "def test(X, y, W):\n",
    "    N_test = X.shape[0]  # number of training samples\n",
    "        \n",
    "    # matrix-vector multiplication\n",
    "    z = X @ W\n",
    "\n",
    "    # calc. probaility of y_j = 1 for each input (M,)\n",
    "    sig_z = sigmoid(z).reshape(-1)\n",
    "\n",
    "    # calculate loss\n",
    "    test_loss = cross_entropy(y, sig_z)\n",
    "\n",
    "    # calc. accuracy\n",
    "    labels = y.reshape(-1)\n",
    "    preds = np.where(sig_z < 0.5, np.zeros_like(sig_z), np.ones_like(sig_z))\n",
    "    accuracy = np.mean(np.equal(labels, preds))\n",
    "    return accuracy, test_loss"
   ]
  },
  {
   "cell_type": "code",
   "execution_count": 20,
   "metadata": {},
   "outputs": [
    {
     "data": {
      "image/png": "[encoded data removed]",
      "text/plain": [
       "<Figure size 640x480 with 2 Axes>"
      ]
     },
     "metadata": {},
     "output_type": "display_data"
    }
   ],
   "source": [
    "M = 128  # batch size\n",
    "eta = 0.01 # learning rate\n",
    "epochs = 300  # number of times to iterate over the entier dataset\n",
    "N = X_train.shape[0]  # number of training samples\n",
    "d = X_train.shape[1]  # dimension = 784 + 1 (for the bias term)\n",
    "\n",
    "W = np.random.normal(loc=0.0, scale=0.01, size=(d, 1))  # initalize weights iid from a gaussian with small noise\n",
    "train_losses, val_losses, val_accuracy = ([] for i in range(3))\n",
    "\n",
    "# iterations over entire dataset\n",
    "for epoch in range(epochs):\n",
    "    loss = 0\n",
    "       \n",
    "    # batch iterations whithin each dataset iteration \n",
    "    for batch_idx, idx_start in enumerate(range(0, N, M)):\n",
    "        idx_end = min(idx_start + M, N)\n",
    "        X_batch = X_train[idx_start:idx_end, :]  # take all data in the current batch\n",
    "        y_batch = y_train[idx_start:idx_end].reshape(-1, 1)  # take relevant labels\n",
    "        \n",
    "        # matrix-vector multiplication\n",
    "        z = X_batch @ W\n",
    "        \n",
    "        # calc. probaility of y_j = 1 for each input (M,)\n",
    "        sig_z = sigmoid(z)\n",
    "        \n",
    "        # calculate loss\n",
    "        batch_loss = cross_entropy(y_batch, sig_z)\n",
    "        loss += batch_loss\n",
    "        \n",
    "        # compute gradient of the loss w.r.t W\n",
    "        delta_W = dL_dW(y_batch, sig_z, X_batch)\n",
    "        \n",
    "        # update W\n",
    "        W = W - eta * delta_W\n",
    "        \n",
    "    ##### validation ####\n",
    "    val_acc, val_loss = test(X_val, y_val, W)\n",
    "    \n",
    "    # save for plotting\n",
    "    train_losses.append(loss / batch_idx)\n",
    "    val_losses.append(val_loss)\n",
    "    val_accuracy.append(val_acc)\n",
    "\n",
    "# check performance on test set\n",
    "test_acc, test_loss = test(X_test.reshape(X_test.shape[0], -1), y_test, W)\n",
    "\n",
    "# plot loss and accuracy on validation set\n",
    "steps = np.arange(epochs)\n",
    "\n",
    "fig, ax1 = plt.subplots()\n",
    "\n",
    "ax1.set_xlabel('epochs')\n",
    "ax1.set_ylabel('loss')\n",
    "ax1.set_title('test loss: %.3f, test accuracy: %.3f' % (test_loss, test_acc))\n",
    "ax1.plot(steps, train_losses, label=\"train loss\", color='red')\n",
    "ax1.plot(steps, val_losses, label=\"val loss\", color='green')\n",
    "\n",
    "ax2 = ax1.twinx()  # instantiate a second axes that shares the same x-axis\n",
    "ax2.set_ylabel('acccuracy')  # we already handled the x-label with ax1\n",
    "ax2.plot(steps, val_accuracy, label=\"val acc\", color='blue')\n",
    "\n",
    "fig.legend()\n",
    "fig.tight_layout()\n",
    "plt.show()"
   ]
  },
  {
   "cell_type": "markdown",
   "metadata": {},
   "source": [
    "# Analysis"
   ]
  },
  {
   "cell_type": "code",
   "execution_count": 21,
   "metadata": {},
   "outputs": [
    {
     "data": {
      "image/png": "[encoded data removed]",
      "text/plain": [
       "<Figure size 640x480 with 1 Axes>"
      ]
     },
     "metadata": {},
     "output_type": "display_data"
    }
   ],
   "source": [
    "# create plot template\n",
    "ax = plt.subplot(111)\n",
    "title = 'weights'\n",
    "W_wo_bias = W[1:, 0]  # remove bias\n",
    "tmp = (W_wo_bias - np.min(W_wo_bias)) / (np.max(W_wo_bias) - np.min(W_wo_bias))  # scale to 0-1\n",
    "plot_image(tmp.reshape(28,28), title, ax)\n",
    "plt.show()"
   ]
  },
  {
   "cell_type": "code",
   "execution_count": null,
   "metadata": {},
   "outputs": [],
   "source": []
  }
 ],
 "metadata": {
  "kernelspec": {
   "display_name": "sandbox",
   "language": "python",
   "name": "python3"
  },
  "language_info": {
   "codemirror_mode": {
    "name": "ipython",
    "version": 3
   },
   "file_extension": ".py",
   "mimetype": "text/x-python",
   "name": "python",
   "nbconvert_exporter": "python",
   "pygments_lexer": "ipython3",
   "version": "3.8.16"
  }
 },
 "nbformat": 4,
 "nbformat_minor": 4
}
