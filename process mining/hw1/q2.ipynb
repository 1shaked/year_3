{
 "cells": [
  {
   "cell_type": "code",
   "execution_count": 10,
   "id": "a4e54b72",
   "metadata": {},
   "outputs": [
    {
     "data": {
      "text/html": [
       "<div>\n",
       "<style scoped>\n",
       "    .dataframe tbody tr th:only-of-type {\n",
       "        vertical-align: middle;\n",
       "    }\n",
       "\n",
       "    .dataframe tbody tr th {\n",
       "        vertical-align: top;\n",
       "    }\n",
       "\n",
       "    .dataframe thead th {\n",
       "        text-align: right;\n",
       "    }\n",
       "</style>\n",
       "<table border=\"1\" class=\"dataframe\">\n",
       "  <thead>\n",
       "    <tr style=\"text-align: right;\">\n",
       "      <th></th>\n",
       "      <th>case_id</th>\n",
       "      <th>activity</th>\n",
       "      <th>timestamp</th>\n",
       "    </tr>\n",
       "  </thead>\n",
       "  <tbody>\n",
       "    <tr>\n",
       "      <th>0</th>\n",
       "      <td>1</td>\n",
       "      <td>Check Q1 (Lecturer)</td>\n",
       "      <td>2025-06-01 08:00:00.000000</td>\n",
       "    </tr>\n",
       "    <tr>\n",
       "      <th>1</th>\n",
       "      <td>1</td>\n",
       "      <td>Check Q2 (TA1) HALF</td>\n",
       "      <td>2025-06-01 08:46:29.126274</td>\n",
       "    </tr>\n",
       "    <tr>\n",
       "      <th>2</th>\n",
       "      <td>1</td>\n",
       "      <td>Check Q3 (TA1)</td>\n",
       "      <td>2025-06-01 09:32:00.171151</td>\n",
       "    </tr>\n",
       "    <tr>\n",
       "      <th>3</th>\n",
       "      <td>1</td>\n",
       "      <td>Check Q2 (TA2) HALF</td>\n",
       "      <td>2025-06-01 10:26:01.246618</td>\n",
       "    </tr>\n",
       "    <tr>\n",
       "      <th>4</th>\n",
       "      <td>1</td>\n",
       "      <td>Check Q3 (TA2)</td>\n",
       "      <td>2025-06-01 11:05:55.735815</td>\n",
       "    </tr>\n",
       "    <tr>\n",
       "      <th>...</th>\n",
       "      <td>...</td>\n",
       "      <td>...</td>\n",
       "      <td>...</td>\n",
       "    </tr>\n",
       "    <tr>\n",
       "      <th>345</th>\n",
       "      <td>50</td>\n",
       "      <td>Check Q3 (TA1)</td>\n",
       "      <td>2025-06-01 09:11:00.903600</td>\n",
       "    </tr>\n",
       "    <tr>\n",
       "      <th>346</th>\n",
       "      <td>50</td>\n",
       "      <td>Check Q2 (TA2) HALF</td>\n",
       "      <td>2025-06-01 09:31:57.014440</td>\n",
       "    </tr>\n",
       "    <tr>\n",
       "      <th>347</th>\n",
       "      <td>50</td>\n",
       "      <td>Check Q3 (TA2)</td>\n",
       "      <td>2025-06-01 09:58:31.960480</td>\n",
       "    </tr>\n",
       "    <tr>\n",
       "      <th>348</th>\n",
       "      <td>50</td>\n",
       "      <td>Calculate Grade</td>\n",
       "      <td>2025-06-01 10:19:57.898142</td>\n",
       "    </tr>\n",
       "    <tr>\n",
       "      <th>349</th>\n",
       "      <td>50</td>\n",
       "      <td>Publish Grade</td>\n",
       "      <td>2025-06-01 11:14:21.891119</td>\n",
       "    </tr>\n",
       "  </tbody>\n",
       "</table>\n",
       "<p>350 rows × 3 columns</p>\n",
       "</div>"
      ],
      "text/plain": [
       "     case_id             activity                  timestamp\n",
       "0          1  Check Q1 (Lecturer) 2025-06-01 08:00:00.000000\n",
       "1          1  Check Q2 (TA1) HALF 2025-06-01 08:46:29.126274\n",
       "2          1       Check Q3 (TA1) 2025-06-01 09:32:00.171151\n",
       "3          1  Check Q2 (TA2) HALF 2025-06-01 10:26:01.246618\n",
       "4          1       Check Q3 (TA2) 2025-06-01 11:05:55.735815\n",
       "..       ...                  ...                        ...\n",
       "345       50       Check Q3 (TA1) 2025-06-01 09:11:00.903600\n",
       "346       50  Check Q2 (TA2) HALF 2025-06-01 09:31:57.014440\n",
       "347       50       Check Q3 (TA2) 2025-06-01 09:58:31.960480\n",
       "348       50      Calculate Grade 2025-06-01 10:19:57.898142\n",
       "349       50        Publish Grade 2025-06-01 11:14:21.891119\n",
       "\n",
       "[350 rows x 3 columns]"
      ]
     },
     "execution_count": 10,
     "metadata": {},
     "output_type": "execute_result"
    }
   ],
   "source": [
    "import pandas as pd\n",
    "import random\n",
    "from datetime import datetime, timedelta\n",
    "\n",
    "# Set number of exams\n",
    "num_exams = 50\n",
    "low_grade_percentage = 0.10\n",
    "num_low_grades = int(num_exams * low_grade_percentage)\n",
    "\n",
    "# Event structure\n",
    "events = []\n",
    "\n",
    "# Start time\n",
    "base_time = datetime(2025, 6, 1, 8, 0, 0)\n",
    "\n",
    "# Helper to generate a random timedelta between 0.2 and 1 hours\n",
    "def random_time():\n",
    "    return timedelta(hours=random.uniform(0.2, 1))\n",
    "\n",
    "# Generate logs\n",
    "for case_id in range(1, num_exams + 1):\n",
    "    current_time = base_time\n",
    "\n",
    "    # Step 1: Lecturer checks Q1\n",
    "    events.append({\"case_id\": case_id, \"activity\": \"Check Q1 (Lecturer)\", \"timestamp\": current_time})\n",
    "    current_time += random_time()\n",
    "\n",
    "    # Step 2: TA1 checks half of Q2 and Q3\n",
    "    events.append({\"case_id\": case_id, \"activity\": \"Check Q2 (TA1) HALF\", \"timestamp\": current_time})\n",
    "    current_time += random_time()\n",
    "\n",
    "    events.append({\"case_id\": case_id, \"activity\": \"Check Q3 (TA1)\", \"timestamp\": current_time})\n",
    "    current_time += random_time()\n",
    "\n",
    "    # Step 3: TA2 checks other half of Q2 and Q3\n",
    "    events.append({\"case_id\": case_id, \"activity\": \"Check Q2 (TA2) HALF\", \"timestamp\": current_time})\n",
    "    current_time += random_time()\n",
    "\n",
    "    events.append({\"case_id\": case_id, \"activity\": \"Check Q3 (TA2)\", \"timestamp\": current_time})\n",
    "    current_time += random_time()\n",
    "\n",
    "    # Step 4: Calculate grade\n",
    "    events.append({\"case_id\": case_id, \"activity\": \"Calculate Grade\", \"timestamp\": current_time})\n",
    "    current_time += random_time()\n",
    "\n",
    "    # Step 5: Re-check if grade < 50 (simulated for 10% of exams)\n",
    "    if case_id <= num_low_grades:\n",
    "        events.append({\"case_id\": case_id, \"activity\": \"Re-check Exam (Lecturer) And Publish\", \"timestamp\": current_time})\n",
    "        current_time += random_time()\n",
    "    else:\n",
    "        events.append({\"case_id\": case_id, \"activity\": \"Publish Grade\", \"timestamp\": current_time})\n",
    "        current_time += random_time()\n",
    "\n",
    "# Convert to DataFrame\n",
    "df = pd.DataFrame(events)\n",
    "df\n"
   ]
  },
  {
   "cell_type": "code",
   "execution_count": 11,
   "id": "88190534",
   "metadata": {},
   "outputs": [
    {
     "data": {
      "text/plain": [
       "'exam_checking_log.csv'"
      ]
     },
     "execution_count": 11,
     "metadata": {},
     "output_type": "execute_result"
    }
   ],
   "source": [
    "# Save to CSV\n",
    "csv_path = \"exam_checking_log.csv\"\n",
    "df.to_csv(csv_path, index=False)\n",
    "\n",
    "csv_path"
   ]
  },
  {
   "cell_type": "code",
   "execution_count": 12,
   "id": "3762633e",
   "metadata": {},
   "outputs": [
    {
     "data": {
      "image/png": "[encoded data removed]",
      "text/plain": [
       "<IPython.core.display.Image object>"
      ]
     },
     "metadata": {},
     "output_type": "display_data"
    },
    {
     "data": {
      "text/plain": [
       "''"
      ]
     },
     "execution_count": 12,
     "metadata": {},
     "output_type": "execute_result"
    }
   ],
   "source": [
    "import pandas as pd\n",
    "from pm4py.objects.conversion.log import converter as log_converter\n",
    "from pm4py.algo.discovery.alpha import algorithm as alpha_miner\n",
    "from pm4py.visualization.petri_net import visualizer as pn_visualizer\n",
    "\n",
    "# Load your DataFrame from the CSV\n",
    "df = pd.read_csv(\"exam_checking_log.csv\", parse_dates=[\"timestamp\"])\n",
    "\n",
    "# Rename columns to match PM4Py expectations\n",
    "df_pm4py = df.rename(columns={\n",
    "    \"case_id\": \"case:concept:name\",\n",
    "    \"activity\": \"concept:name\",\n",
    "    \"timestamp\": \"time:timestamp\"\n",
    "})\n",
    "\n",
    "# Convert DataFrame to EventLog\n",
    "event_log = log_converter.apply(df_pm4py, parameters={\n",
    "    log_converter.Variants.TO_EVENT_LOG.value.Parameters.CASE_ID_KEY: \"case:concept:name\"\n",
    "})\n",
    "\n",
    "# Apply Alpha Miner\n",
    "net, initial_marking, final_marking = alpha_miner.apply(event_log)\n",
    "\n",
    "# Visualize and export\n",
    "gviz = pn_visualizer.apply(net, initial_marking, final_marking)\n",
    "pn_visualizer.view(gviz)  # View interactively\n",
    "pn_visualizer.save(gviz, \"exam_petri_net_from_df.png\")  # Save as image\n"
   ]
  },
  {
   "cell_type": "code",
   "execution_count": null,
   "id": "2ef82b92",
   "metadata": {},
   "outputs": [],
   "source": []
  },
  {
   "cell_type": "code",
   "execution_count": null,
   "id": "f53f63d4",
   "metadata": {},
   "outputs": [],
   "source": []
  }
 ],
 "metadata": {
  "kernelspec": {
   "display_name": "py310",
   "language": "python",
   "name": "python3"
  },
  "language_info": {
   "codemirror_mode": {
    "name": "ipython",
    "version": 3
   },
   "file_extension": ".py",
   "mimetype": "text/x-python",
   "name": "python",
   "nbconvert_exporter": "python",
   "pygments_lexer": "ipython3",
   "version": "3.10.16"
  }
 },
 "nbformat": 4,
 "nbformat_minor": 5
}
