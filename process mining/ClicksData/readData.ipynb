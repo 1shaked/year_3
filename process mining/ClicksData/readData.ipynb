{
 "cells": [
  {
   "cell_type": "code",
   "execution_count": 2,
   "id": "7709f05c",
   "metadata": {},
   "outputs": [],
   "source": [
    "import pandas as pd\n",
    "import matplotlib.pyplot as plt\n",
    "import seaborn as sns\n",
    "import plotly.express as px\n",
    "import plotly.graph_objects as go\n",
    "import numpy as np\n",
    "from pm4py.objects.conversion.log import converter as log_converter\n",
    "from pm4py.objects.log.util import dataframe_utils\n",
    "from pm4py.algo.discovery.inductive import algorithm as inductive_miner\n",
    "from pm4py.visualization.process_tree import visualizer as pt_visualizer\n",
    "from pm4py.objects.conversion.process_tree import converter as pt_converter\n",
    "FILE = \"BPI2016_Clicks_NOT_Logged_In.csv\"\n"
   ]
  },
  {
   "cell_type": "code",
   "execution_count": 4,
   "id": "25335a91",
   "metadata": {},
   "outputs": [],
   "source": [
    "chunks = pd.read_csv(FILE, encoding='latin1',\n",
    "    chunksize=5_000, delimiter=';')\n",
    "df = next(chunks)\n",
    "\n",
    "df.sort_values(['TIMESTAMP']).to_csv(\"temp.csv\", index=False)"
   ]
  },
  {
   "cell_type": "code",
   "execution_count": 5,
   "id": "0ad10160",
   "metadata": {},
   "outputs": [],
   "source": [
    "# total_df = pd.read_csv(FILE, encoding='latin1', delimiter=';')\n",
    "# # set the page name to be null when the value is PORTAL.wwsbr_javascript.page_js\n",
    "# total_df.loc[total_df['PAGE_NAME'] == 'PORTAL.wwsbr_javascript.page_js', 'PAGE_NAME'] = None\n",
    "# total_df.dropna(subset=['PAGE_NAME'], inplace=True)\n",
    "# # save the to the same file\n",
    "# total_df.to_json('MODIFIED.json', index=False ,orient='records', lines=True)"
   ]
  },
  {
   "cell_type": "code",
   "execution_count": 6,
   "id": "26a86fdb",
   "metadata": {},
   "outputs": [
    {
     "name": "stderr",
     "output_type": "stream",
     "text": [
      "/var/folders/xr/8zbytzc93l76thl9y5ds98dr0000gn/T/ipykernel_2682/2803359812.py:2: DtypeWarning: Columns (12) have mixed types. Specify dtype option on import or set low_memory=False.\n",
      "  total_df = pd.read_csv(FILE, encoding='latin1', delimiter=';')\n"
     ]
    }
   ],
   "source": [
    "# 1. Load CSV with the original delimiter and encoding\n",
    "total_df = pd.read_csv(FILE, encoding='latin1', delimiter=';')\n",
    "\n",
    "# 2. Remove rows with the specific unwanted value in PAGE_NAME\n",
    "total_df = total_df[total_df['PAGE_NAME'] != 'PORTAL.wwsbr_javascript.page_js']\n",
    "# filter out when page_action_detail set it to null when uwvsanlig-webfont.woff or if it contains woff\n",
    "total_df.loc[total_df['page_action_detail'] == 'uwvsanlig-webfont.woff', 'page_action_detail'] = None\n",
    "total_df = total_df[~total_df['page_action_detail'].str.contains('woff', na=False)]\n",
    "# or remove all the PAGE_NAME that contain 'woff'\n",
    "total_df = total_df[~total_df['PAGE_NAME'].str.contains('woff', na=False)]\n",
    "# 3. Save back to the same file, keeping delimiter\n",
    "total_df.to_csv(FILE, index=False, sep=';', encoding='latin1')\n"
   ]
  },
  {
   "cell_type": "code",
   "execution_count": 7,
   "id": "8c2edac6",
   "metadata": {},
   "outputs": [],
   "source": [
    "# csv_row = []\n",
    "# columns = []\n",
    "# with open('BPI2016_Clicks_NOT_Logged_In.csv', 'r', encoding='utf-8') as f:\n",
    "#     for i in range(30_000):\n",
    "#         line = f.readline()\n",
    "#         if i == 0:\n",
    "#             columns = line.split(';')\n",
    "#             continue\n",
    "#         csv_row.append(line.split(';'))\n",
    "\n",
    "# df = pd.DataFrame(csv_row, columns=columns)"
   ]
  },
  {
   "cell_type": "code",
   "execution_count": 8,
   "id": "147dec39",
   "metadata": {},
   "outputs": [],
   "source": [
    "# df = pd.read_csv('BPI2016_Clicks_NOT_Logged_In.csv', nrows=150, delimiter=';')\n",
    "# df = next(chunks)"
   ]
  },
  {
   "cell_type": "code",
   "execution_count": 9,
   "id": "b247ef76",
   "metadata": {},
   "outputs": [
    {
     "data": {
      "text/plain": [
       "VHOST\n",
       "www.werk.nl      3623\n",
       "digid.werk.nl    1377\n",
       "Name: count, dtype: int64"
      ]
     },
     "execution_count": 9,
     "metadata": {},
     "output_type": "execute_result"
    }
   ],
   "source": [
    "df.VHOST.value_counts()"
   ]
  },
  {
   "cell_type": "code",
   "execution_count": 10,
   "id": "664a8191",
   "metadata": {},
   "outputs": [
    {
     "data": {
      "text/plain": [
       "page_action_detail\n",
       "Zoek in werk.nl                                  767\n",
       "beleidsregels                                    169\n",
       "cv                                               161\n",
       "afspiegeling                                     153\n",
       "wajong                                           106\n",
       "                                                ... \n",
       "plaatsingfee intermediar                           1\n",
       "maximale leeftijd inschrijven UWV werkbedrijf      1\n",
       "Werk                                               1\n",
       "practicant                                         1\n",
       "documenten toevoegen                               1\n",
       "Name: count, Length: 6094, dtype: int64"
      ]
     },
     "execution_count": 10,
     "metadata": {},
     "output_type": "execute_result"
    }
   ],
   "source": [
    "# create here \n",
    "total_df.page_action_detail.value_counts()"
   ]
  },
  {
   "cell_type": "code",
   "execution_count": 11,
   "id": "e28dd7da",
   "metadata": {},
   "outputs": [
    {
     "name": "stdout",
     "output_type": "stream",
     "text": [
      "PAGE_NAME\n",
      "(home,)                  905498\n",
      "(werkmap,)               250525\n",
      "(home, home)              73690\n",
      "(timeout.htm,)            69392\n",
      "(ww,)                     30501\n",
      "(onderhoud.htm,)          29567\n",
      "(vacatures,)              22474\n",
      "(werkmap, home)           13191\n",
      "(home, home, home)        12402\n",
      "(bijstandsuitkering,)     12184\n",
      "Name: count, dtype: int64\n",
      "Number of unique traces: 197693\n"
     ]
    }
   ],
   "source": [
    "# Step 1: Sort events by session and time\n",
    "total_df = total_df.sort_values(by=[\"SessionID\", \"TIMESTAMP\"])\n",
    "\n",
    "# Step 2: Group by session and collect the ordered activity list as a tuple\n",
    "traces = total_df.groupby(\"SessionID\")[\"PAGE_NAME\"].apply(tuple)\n",
    "\n",
    "# Step 3: Count how many times each unique trace occurs\n",
    "trace_counts = traces.value_counts()\n",
    "\n",
    "# Step 4: Show top N traces\n",
    "print(trace_counts.head(10))  # top 10 most common traces\n",
    "\n",
    "# Total number of unique traces\n",
    "print(\"Number of unique traces:\", trace_counts.shape[0])"
   ]
  },
  {
   "cell_type": "code",
   "execution_count": 12,
   "id": "e166c3aa",
   "metadata": {},
   "outputs": [
    {
     "name": "stdout",
     "output_type": "stream",
     "text": [
      "page_action_detail\n",
      "(Zoek in werk.nl,)              480\n",
      "(cv,)                            99\n",
      "(beleidsregels,)                 95\n",
      "(afspiegeling,)                  94\n",
      "(werkplein,)                     73\n",
      "(wajong,)                        67\n",
      "(inschrijven,)                   55\n",
      "(ioaw,)                          48\n",
      "(test,)                          48\n",
      "(vaststellingsovereenkomst,)     43\n",
      "Name: count, dtype: int64\n",
      "Number of unique traces: 5687\n"
     ]
    }
   ],
   "source": [
    "# Step 1: Sort events by session and time\n",
    "total_df = total_df.sort_values(by=[\"SessionID\", \"TIMESTAMP\"])\n",
    "\n",
    "# Step 2: Group by session and collect the ordered activity list as a tuple\n",
    "traces = total_df.dropna(subset=[\"page_action_detail\"]).groupby(\"SessionID\")[\"page_action_detail\"].apply(tuple)\n",
    "\n",
    "# Step 3: Count how many times each unique trace occurs\n",
    "trace_counts = traces.value_counts()\n",
    "\n",
    "# Step 4: Show top N traces\n",
    "print(trace_counts.head(10))  # top 10 most common traces\n",
    "\n",
    "# Total number of unique traces\n",
    "print(\"Number of unique traces:\", trace_counts.shape[0])"
   ]
  },
  {
   "cell_type": "code",
   "execution_count": null,
   "id": "11aad3e4",
   "metadata": {},
   "outputs": [
    {
     "name": "stdout",
     "output_type": "stream",
     "text": [
      "PAGE_NAME\n",
      "(home,)                  905498\n",
      "(werkmap,)               250525\n",
      "(home, home)              73690\n",
      "(timeout.htm,)            69392\n",
      "(ww,)                     30501\n",
      "(onderhoud.htm,)          29567\n",
      "(vacatures,)              22474\n",
      "(werkmap, home)           13191\n",
      "(home, home, home)        12402\n",
      "(bijstandsuitkering,)     12184\n",
      "(timeout.htm, home)       10670\n",
      "(Portal (fout),)           7712\n",
      "Name: count, dtype: int64\n"
     ]
    }
   ],
   "source": [
    "print(trace_counts.head(12))  # top 10 most common traces\n"
   ]
  },
  {
   "cell_type": "code",
   "execution_count": null,
   "id": "4337f52a",
   "metadata": {},
   "outputs": [
    {
     "data": {
      "text/plain": [
       "Index(['SessionID', 'IPID', 'TIMESTAMP', 'VHOST', 'URL_FILE', 'PAGE_NAME',\n",
       "       'REF_URL_category', 'page_load_error', 'page_action_detail', 'tip',\n",
       "       'service_detail', 'xps_info', 'page_action_detail_EN',\n",
       "       'service_detail_EN', 'tip_EN'],\n",
       "      dtype='object')"
      ]
     },
     "execution_count": 34,
     "metadata": {},
     "output_type": "execute_result"
    }
   ],
   "source": [
    "df.columns"
   ]
  },
  {
   "cell_type": "code",
   "execution_count": 13,
   "id": "b6440638",
   "metadata": {},
   "outputs": [
    {
     "data": {
      "text/plain": [
       "service_detail\n",
       "2. Uw laatste werkgever        358989\n",
       "4. Gewerkte uren               278448\n",
       "6. Uw arbeidsverleden          152042\n",
       "7. Toeslag                     143056\n",
       "3. Het ontslag                 139273\n",
       "1. Uw persoonlijke gegevens    125123\n",
       "8. Versturen gegevens           89597\n",
       "1. Uw situatie                  78942\n",
       "5. Ander werk/inkomsten         68043\n",
       "3. Uw bezittingen               51833\n",
       "2. Uw inkomsten                 19701\n",
       "6. Overige informatie           15801\n",
       "7. Versturen gegevens           11067\n",
       "4. Uw persoonlijke gegevens      9542\n",
       "5. De arbeidsmarkt               7992\n",
       "2. Toeslag                       2912\n",
       "3. Versturen gegevens            1461\n",
       "Name: count, dtype: int64"
      ]
     },
     "execution_count": 13,
     "metadata": {},
     "output_type": "execute_result"
    }
   ],
   "source": [
    "total_df.service_detail.value_counts()"
   ]
  },
  {
   "cell_type": "code",
   "execution_count": null,
   "id": "a7b4b43c",
   "metadata": {},
   "outputs": [
    {
     "data": {
      "text/plain": [
       "SessionID\n",
       "45798719    98\n",
       "41148561    98\n",
       "53090476    98\n",
       "46499515    98\n",
       "50212713    98\n",
       "            ..\n",
       "40564281    97\n",
       "14596247    97\n",
       "38515358    97\n",
       "35253019    97\n",
       "425783      97\n",
       "Name: count, Length: 100, dtype: int64"
      ]
     },
     "execution_count": 19,
     "metadata": {},
     "output_type": "execute_result"
    }
   ],
   "source": [
    "total_df.SessionID.value_counts()[6000:6100]"
   ]
  },
  {
   "cell_type": "code",
   "execution_count": 15,
   "id": "904127a5",
   "metadata": {},
   "outputs": [
    {
     "data": {
      "text/html": [
       "<div>\n",
       "<style scoped>\n",
       "    .dataframe tbody tr th:only-of-type {\n",
       "        vertical-align: middle;\n",
       "    }\n",
       "\n",
       "    .dataframe tbody tr th {\n",
       "        vertical-align: top;\n",
       "    }\n",
       "\n",
       "    .dataframe thead th {\n",
       "        text-align: right;\n",
       "    }\n",
       "</style>\n",
       "<table border=\"1\" class=\"dataframe\">\n",
       "  <thead>\n",
       "    <tr style=\"text-align: right;\">\n",
       "      <th></th>\n",
       "      <th>SessionID</th>\n",
       "      <th>IPID</th>\n",
       "      <th>TIMESTAMP</th>\n",
       "      <th>VHOST</th>\n",
       "      <th>URL_FILE</th>\n",
       "      <th>PAGE_NAME</th>\n",
       "      <th>REF_URL_category</th>\n",
       "      <th>page_load_error</th>\n",
       "      <th>page_action_detail</th>\n",
       "      <th>tip</th>\n",
       "      <th>service_detail</th>\n",
       "      <th>xps_info</th>\n",
       "      <th>page_action_detail_EN</th>\n",
       "      <th>service_detail_EN</th>\n",
       "      <th>tip_EN</th>\n",
       "    </tr>\n",
       "  </thead>\n",
       "  <tbody>\n",
       "    <tr>\n",
       "      <th>3511888</th>\n",
       "      <td>157</td>\n",
       "      <td>110048</td>\n",
       "      <td>2015-07-21 19:22:35.170000000</td>\n",
       "      <td>www.werk.nl</td>\n",
       "      <td>/werk_nl/werknemer/home</td>\n",
       "      <td>home</td>\n",
       "      <td>NaN</td>\n",
       "      <td>0.0</td>\n",
       "      <td>NaN</td>\n",
       "      <td>NaN</td>\n",
       "      <td>NaN</td>\n",
       "      <td>NaN</td>\n",
       "      <td>NaN</td>\n",
       "      <td>NaN</td>\n",
       "      <td>NaN</td>\n",
       "    </tr>\n",
       "    <tr>\n",
       "      <th>3494204</th>\n",
       "      <td>157</td>\n",
       "      <td>110048</td>\n",
       "      <td>2015-07-21 19:23:01.157000000</td>\n",
       "      <td>www.werk.nl</td>\n",
       "      <td>/werk_nl/werknemer/home</td>\n",
       "      <td>home</td>\n",
       "      <td>NaN</td>\n",
       "      <td>0.0</td>\n",
       "      <td>NaN</td>\n",
       "      <td>NaN</td>\n",
       "      <td>NaN</td>\n",
       "      <td>NaN</td>\n",
       "      <td>NaN</td>\n",
       "      <td>NaN</td>\n",
       "      <td>NaN</td>\n",
       "    </tr>\n",
       "    <tr>\n",
       "      <th>3496615</th>\n",
       "      <td>157</td>\n",
       "      <td>110048</td>\n",
       "      <td>2015-07-21 19:23:57.357000000</td>\n",
       "      <td>www.werk.nl</td>\n",
       "      <td>/werk_nl/werknemer/werkmap</td>\n",
       "      <td>werkmap</td>\n",
       "      <td>NaN</td>\n",
       "      <td>0.0</td>\n",
       "      <td>NaN</td>\n",
       "      <td>NaN</td>\n",
       "      <td>NaN</td>\n",
       "      <td>NaN</td>\n",
       "      <td>NaN</td>\n",
       "      <td>NaN</td>\n",
       "      <td>NaN</td>\n",
       "    </tr>\n",
       "    <tr>\n",
       "      <th>3492998</th>\n",
       "      <td>157</td>\n",
       "      <td>110048</td>\n",
       "      <td>2015-07-21 19:26:45.650000000</td>\n",
       "      <td>www.werk.nl</td>\n",
       "      <td>/werk_nl/werknemer/home</td>\n",
       "      <td>home</td>\n",
       "      <td>NaN</td>\n",
       "      <td>0.0</td>\n",
       "      <td>NaN</td>\n",
       "      <td>NaN</td>\n",
       "      <td>NaN</td>\n",
       "      <td>NaN</td>\n",
       "      <td>NaN</td>\n",
       "      <td>NaN</td>\n",
       "      <td>NaN</td>\n",
       "    </tr>\n",
       "    <tr>\n",
       "      <th>3516134</th>\n",
       "      <td>157</td>\n",
       "      <td>110048</td>\n",
       "      <td>2015-07-21 19:41:52.407000000</td>\n",
       "      <td>www.werk.nl</td>\n",
       "      <td>/werk_nl/werknemer/home</td>\n",
       "      <td>home</td>\n",
       "      <td>NaN</td>\n",
       "      <td>0.0</td>\n",
       "      <td>NaN</td>\n",
       "      <td>NaN</td>\n",
       "      <td>NaN</td>\n",
       "      <td>NaN</td>\n",
       "      <td>NaN</td>\n",
       "      <td>NaN</td>\n",
       "      <td>NaN</td>\n",
       "    </tr>\n",
       "    <tr>\n",
       "      <th>3496333</th>\n",
       "      <td>157</td>\n",
       "      <td>110048</td>\n",
       "      <td>2015-07-21 19:42:36.627000000</td>\n",
       "      <td>www.werk.nl</td>\n",
       "      <td>/werk_nl/werknemer/werkmap</td>\n",
       "      <td>werkmap</td>\n",
       "      <td>NaN</td>\n",
       "      <td>1.0</td>\n",
       "      <td>NaN</td>\n",
       "      <td>NaN</td>\n",
       "      <td>NaN</td>\n",
       "      <td>NaN</td>\n",
       "      <td>NaN</td>\n",
       "      <td>NaN</td>\n",
       "      <td>NaN</td>\n",
       "    </tr>\n",
       "  </tbody>\n",
       "</table>\n",
       "</div>"
      ],
      "text/plain": [
       "         SessionID    IPID                      TIMESTAMP        VHOST  \\\n",
       "3511888        157  110048  2015-07-21 19:22:35.170000000  www.werk.nl   \n",
       "3494204        157  110048  2015-07-21 19:23:01.157000000  www.werk.nl   \n",
       "3496615        157  110048  2015-07-21 19:23:57.357000000  www.werk.nl   \n",
       "3492998        157  110048  2015-07-21 19:26:45.650000000  www.werk.nl   \n",
       "3516134        157  110048  2015-07-21 19:41:52.407000000  www.werk.nl   \n",
       "3496333        157  110048  2015-07-21 19:42:36.627000000  www.werk.nl   \n",
       "\n",
       "                           URL_FILE PAGE_NAME REF_URL_category  \\\n",
       "3511888     /werk_nl/werknemer/home      home              NaN   \n",
       "3494204     /werk_nl/werknemer/home      home              NaN   \n",
       "3496615  /werk_nl/werknemer/werkmap   werkmap              NaN   \n",
       "3492998     /werk_nl/werknemer/home      home              NaN   \n",
       "3516134     /werk_nl/werknemer/home      home              NaN   \n",
       "3496333  /werk_nl/werknemer/werkmap   werkmap              NaN   \n",
       "\n",
       "         page_load_error page_action_detail  tip service_detail xps_info  \\\n",
       "3511888              0.0                NaN  NaN            NaN      NaN   \n",
       "3494204              0.0                NaN  NaN            NaN      NaN   \n",
       "3496615              0.0                NaN  NaN            NaN      NaN   \n",
       "3492998              0.0                NaN  NaN            NaN      NaN   \n",
       "3516134              0.0                NaN  NaN            NaN      NaN   \n",
       "3496333              1.0                NaN  NaN            NaN      NaN   \n",
       "\n",
       "        page_action_detail_EN service_detail_EN  tip_EN  \n",
       "3511888                   NaN               NaN     NaN  \n",
       "3494204                   NaN               NaN     NaN  \n",
       "3496615                   NaN               NaN     NaN  \n",
       "3492998                   NaN               NaN     NaN  \n",
       "3516134                   NaN               NaN     NaN  \n",
       "3496333                   NaN               NaN     NaN  "
      ]
     },
     "execution_count": 15,
     "metadata": {},
     "output_type": "execute_result"
    }
   ],
   "source": [
    "total_df[total_df['SessionID'] == 157] # "
   ]
  },
  {
   "cell_type": "code",
   "execution_count": null,
   "id": "a5d39680",
   "metadata": {},
   "outputs": [],
   "source": []
  },
  {
   "cell_type": "code",
   "execution_count": 12,
   "id": "815c62d7",
   "metadata": {},
   "outputs": [
    {
     "data": {
      "text/plain": [
       "xps_info\n",
       "image_DigiD                                                              2876\n",
       "image_dienstverlening                                                     797\n",
       "download_model_beeindigingsovereenkomst_dienstverband                     422\n",
       "image_online trainingen                                                   289\n",
       "download_model_arbeidsovereenkomst_voor_bepaalde_tijd                     247\n",
       "                                                                         ... \n",
       "download_brochure_groothandel_samenvatting                                  1\n",
       "image_173177                                                                1\n",
       "image_212881                                                                1\n",
       "image_1723035                                                               1\n",
       "download_brochure_sectorbeschrijving_metalelektro_en_metaalnijverheid       1\n",
       "Name: count, Length: 200, dtype: int64"
      ]
     },
     "execution_count": 12,
     "metadata": {},
     "output_type": "execute_result"
    }
   ],
   "source": [
    "df.xps_info.value_counts()"
   ]
  },
  {
   "cell_type": "code",
   "execution_count": 36,
   "id": "946477cf",
   "metadata": {},
   "outputs": [],
   "source": [
    "# df.page_action_detail_EN.value_counts() # ,df.page_action_detail.value_counts() # .isnull().sum()\n",
    "def column_details(series):\n",
    "    print(f\"Unique values: {series.value_counts()}\")\n",
    "    print(f\"Missing values: {series.isnull().sum()}, total unique values : {series.nunique()}\")\n",
    "# df.page_action_detail_EN.isnull().sum() , df.page_action_detail.isnull().sum()"
   ]
  },
  {
   "cell_type": "code",
   "execution_count": null,
   "id": "024be5d6",
   "metadata": {},
   "outputs": [],
   "source": []
  },
  {
   "cell_type": "code",
   "execution_count": null,
   "id": "985d8147",
   "metadata": {},
   "outputs": [],
   "source": []
  },
  {
   "cell_type": "code",
   "execution_count": 37,
   "id": "43eab075",
   "metadata": {},
   "outputs": [],
   "source": [
    "# df.to_csv('temp.csv',index=False)"
   ]
  },
  {
   "cell_type": "code",
   "execution_count": null,
   "id": "a3386967",
   "metadata": {},
   "outputs": [],
   "source": []
  },
  {
   "cell_type": "code",
   "execution_count": null,
   "id": "cfa6dbcf",
   "metadata": {},
   "outputs": [],
   "source": []
  },
  {
   "cell_type": "code",
   "execution_count": 38,
   "id": "5af9aaff",
   "metadata": {},
   "outputs": [],
   "source": [
    "# # remove all the rows where the REF_URL_category is less than 2% of the total rows\n",
    "# percentage_threshold = 0.0002\n",
    "# ref_url_counts = df.REF_URL_category.value_counts()\n",
    "# ref_url_counts = ref_url_counts[ref_url_counts > percentage_threshold * len(df)]\n",
    "# # df = df[df.REF_URL_category.isin(ref_url_counts.index)]\n",
    "# df.REF_URL_category.value_counts()"
   ]
  },
  {
   "cell_type": "code",
   "execution_count": 39,
   "id": "b0d2a3ea",
   "metadata": {},
   "outputs": [],
   "source": [
    "# ref_url_counts.index\n",
    "# df = df[df.REF_URL_category.isin(ref_url_counts.index)]"
   ]
  },
  {
   "cell_type": "code",
   "execution_count": 40,
   "id": "882e93d4",
   "metadata": {},
   "outputs": [],
   "source": [
    "actions = df.page_action_detail.value_counts()\n",
    "# save the actions to a csv file\n",
    "actions.to_csv('actions.csv')"
   ]
  },
  {
   "cell_type": "code",
   "execution_count": 41,
   "id": "31cbb96b",
   "metadata": {},
   "outputs": [
    {
     "data": {
      "text/plain": [
       "page_action_detail\n",
       "Zoek in werk.nl                                 82\n",
       "cv                                              29\n",
       "beleidsregels                                   16\n",
       "afspiegeling                                    14\n",
       "werkverkenner                                   12\n",
       "                                                ..\n",
       "formulieren                                      1\n",
       "afspiegel                                        1\n",
       "binnen welke tijd moet ww worden aangevraagd     1\n",
       "apotheek                                         1\n",
       "Administratief medewerker / servicedesk          1\n",
       "Name: count, Length: 848, dtype: int64"
      ]
     },
     "execution_count": 41,
     "metadata": {},
     "output_type": "execute_result"
    }
   ],
   "source": [
    "df.page_action_detail.value_counts()"
   ]
  },
  {
   "cell_type": "code",
   "execution_count": 42,
   "id": "41f1882c",
   "metadata": {},
   "outputs": [
    {
     "data": {
      "text/plain": [
       "Series([], Name: count, dtype: int64)"
      ]
     },
     "execution_count": 42,
     "metadata": {},
     "output_type": "execute_result"
    }
   ],
   "source": [
    "df.tip.value_counts()\n"
   ]
  },
  {
   "cell_type": "code",
   "execution_count": 43,
   "id": "d08e2843",
   "metadata": {},
   "outputs": [],
   "source": [
    "service_detail_EN = df.service_detail_EN.value_counts()\n",
    "# save the service_detail_EN to a csv file\n",
    "service_detail_EN.to_csv('service_detail_EN.csv')"
   ]
  },
  {
   "cell_type": "code",
   "execution_count": 44,
   "id": "c1aef22a",
   "metadata": {},
   "outputs": [],
   "source": [
    "xps_info = df.xps_info.value_counts()\n",
    "# save the xps_info to a csv file\n",
    "xps_info.to_csv('xps_info.csv')"
   ]
  },
  {
   "cell_type": "code",
   "execution_count": null,
   "id": "3ad581bb",
   "metadata": {},
   "outputs": [],
   "source": []
  },
  {
   "cell_type": "code",
   "execution_count": 45,
   "id": "1e5f32aa",
   "metadata": {},
   "outputs": [
    {
     "name": "stderr",
     "output_type": "stream",
     "text": [
      "/var/folders/27/h86gj_fd3xg23kmxw_95c6kc0000gn/T/ipykernel_4896/947122960.py:5: DtypeWarning: Columns (12) have mixed types. Specify dtype option on import or set low_memory=False.\n",
      "  for chunk in chunks:  # assuming 'chunks' is your TextFileReader object\n",
      "/var/folders/27/h86gj_fd3xg23kmxw_95c6kc0000gn/T/ipykernel_4896/947122960.py:5: DtypeWarning: Columns (12) have mixed types. Specify dtype option on import or set low_memory=False.\n",
      "  for chunk in chunks:  # assuming 'chunks' is your TextFileReader object\n",
      "/var/folders/27/h86gj_fd3xg23kmxw_95c6kc0000gn/T/ipykernel_4896/947122960.py:5: DtypeWarning: Columns (12) have mixed types. Specify dtype option on import or set low_memory=False.\n",
      "  for chunk in chunks:  # assuming 'chunks' is your TextFileReader object\n",
      "/var/folders/27/h86gj_fd3xg23kmxw_95c6kc0000gn/T/ipykernel_4896/947122960.py:5: DtypeWarning: Columns (12) have mixed types. Specify dtype option on import or set low_memory=False.\n",
      "  for chunk in chunks:  # assuming 'chunks' is your TextFileReader object\n",
      "/var/folders/27/h86gj_fd3xg23kmxw_95c6kc0000gn/T/ipykernel_4896/947122960.py:5: DtypeWarning: Columns (12) have mixed types. Specify dtype option on import or set low_memory=False.\n",
      "  for chunk in chunks:  # assuming 'chunks' is your TextFileReader object\n",
      "/var/folders/27/h86gj_fd3xg23kmxw_95c6kc0000gn/T/ipykernel_4896/947122960.py:5: DtypeWarning: Columns (12) have mixed types. Specify dtype option on import or set low_memory=False.\n",
      "  for chunk in chunks:  # assuming 'chunks' is your TextFileReader object\n",
      "/var/folders/27/h86gj_fd3xg23kmxw_95c6kc0000gn/T/ipykernel_4896/947122960.py:5: DtypeWarning: Columns (12) have mixed types. Specify dtype option on import or set low_memory=False.\n",
      "  for chunk in chunks:  # assuming 'chunks' is your TextFileReader object\n",
      "/var/folders/27/h86gj_fd3xg23kmxw_95c6kc0000gn/T/ipykernel_4896/947122960.py:5: DtypeWarning: Columns (12) have mixed types. Specify dtype option on import or set low_memory=False.\n",
      "  for chunk in chunks:  # assuming 'chunks' is your TextFileReader object\n",
      "/var/folders/27/h86gj_fd3xg23kmxw_95c6kc0000gn/T/ipykernel_4896/947122960.py:5: DtypeWarning: Columns (12) have mixed types. Specify dtype option on import or set low_memory=False.\n",
      "  for chunk in chunks:  # assuming 'chunks' is your TextFileReader object\n",
      "/var/folders/27/h86gj_fd3xg23kmxw_95c6kc0000gn/T/ipykernel_4896/947122960.py:5: DtypeWarning: Columns (12) have mixed types. Specify dtype option on import or set low_memory=False.\n",
      "  for chunk in chunks:  # assuming 'chunks' is your TextFileReader object\n",
      "/var/folders/27/h86gj_fd3xg23kmxw_95c6kc0000gn/T/ipykernel_4896/947122960.py:5: DtypeWarning: Columns (12) have mixed types. Specify dtype option on import or set low_memory=False.\n",
      "  for chunk in chunks:  # assuming 'chunks' is your TextFileReader object\n",
      "/var/folders/27/h86gj_fd3xg23kmxw_95c6kc0000gn/T/ipykernel_4896/947122960.py:5: DtypeWarning: Columns (12) have mixed types. Specify dtype option on import or set low_memory=False.\n",
      "  for chunk in chunks:  # assuming 'chunks' is your TextFileReader object\n"
     ]
    }
   ],
   "source": [
    "from collections import defaultdict\n",
    "\n",
    "data_counts = defaultdict(lambda: defaultdict(int))\n",
    "\n",
    "for chunk in chunks:  # assuming 'chunks' is your TextFileReader object\n",
    "    for col in chunk.columns:\n",
    "        value_counts = chunk[col].value_counts()\n",
    "        for val, count in value_counts.items():\n",
    "            data_counts[col][val] += count\n",
    "\n",
    "# Example: print summary for one column\n",
    "# print(data_counts['your_column_name'])"
   ]
  },
  {
   "cell_type": "code",
   "execution_count": 46,
   "id": "dc8e71a3",
   "metadata": {},
   "outputs": [
    {
     "data": {
      "text/plain": [
       "defaultdict(int,\n",
       "            {'2. Your last employer': 334891,\n",
       "             '4. Hours worked': 260117,\n",
       "             '6. Your employment history': 141603,\n",
       "             '3. The dismissal': 130176,\n",
       "             '7. Supplement': 133266,\n",
       "             '1. Your personal details': 116409,\n",
       "             '8. Send data': 83466,\n",
       "             '1. Your situation': 72815,\n",
       "             '5. Other work/income': 63372,\n",
       "             '3. Your possessions': 48065,\n",
       "             '2. Your income': 18222,\n",
       "             '6. Other information': 14681,\n",
       "             '7. Send data': 10288,\n",
       "             '4. Your personal information': 8888,\n",
       "             '5. The labor market': 7423,\n",
       "             '2. Supplement': 2751,\n",
       "             '3. Send data': 1376})"
      ]
     },
     "execution_count": 46,
     "metadata": {},
     "output_type": "execute_result"
    }
   ],
   "source": [
    "data_counts['service_detail_EN']"
   ]
  },
  {
   "cell_type": "code",
   "execution_count": 47,
   "id": "78d90ff7",
   "metadata": {},
   "outputs": [
    {
     "data": {
      "text/plain": [
       "defaultdict(int,\n",
       "            {'2. Uw laatste werkgever': 334891,\n",
       "             '4. Gewerkte uren': 260117,\n",
       "             '6. Uw arbeidsverleden': 141603,\n",
       "             '3. Het ontslag': 130176,\n",
       "             '7. Toeslag': 133266,\n",
       "             '1. Uw persoonlijke gegevens': 116409,\n",
       "             '8. Versturen gegevens': 83466,\n",
       "             '1. Uw situatie': 72815,\n",
       "             '5. Ander werk/inkomsten': 63372,\n",
       "             '3. Uw bezittingen': 48065,\n",
       "             '2. Uw inkomsten': 18222,\n",
       "             '6. Overige informatie': 14681,\n",
       "             '7. Versturen gegevens': 10288,\n",
       "             '4. Uw persoonlijke gegevens': 8888,\n",
       "             '5. De arbeidsmarkt': 7423,\n",
       "             '2. Toeslag': 2751,\n",
       "             '3. Versturen gegevens': 1376})"
      ]
     },
     "execution_count": 47,
     "metadata": {},
     "output_type": "execute_result"
    }
   ],
   "source": [
    "data_counts['service_detail']"
   ]
  },
  {
   "cell_type": "code",
   "execution_count": 48,
   "id": "3dd6f3c7",
   "metadata": {},
   "outputs": [
    {
     "data": {
      "text/plain": [
       "20032.44"
      ]
     },
     "execution_count": 48,
     "metadata": {},
     "output_type": "execute_result"
    }
   ],
   "source": [
    "sum(data_counts['REF_URL_category'].values()) * 0.02"
   ]
  },
  {
   "cell_type": "code",
   "execution_count": 49,
   "id": "3545326f",
   "metadata": {},
   "outputs": [
    {
     "data": {
      "text/plain": [
       "defaultdict(int,\n",
       "            {'Logged Out': 338849,\n",
       "             'Search Engine': 283696,\n",
       "             'UWV': 253026,\n",
       "             'DigID': 89368,\n",
       "             'MyGovernment': 12079,\n",
       "             'Logging In': 5838,\n",
       "             'Mail Client': 7897,\n",
       "             'Job Search Website': 5025,\n",
       "             'FAQ': 2647,\n",
       "             'Competence Atlas': 1569,\n",
       "             'Analysis Tool': 1242,\n",
       "             'Spider': 386})"
      ]
     },
     "execution_count": 49,
     "metadata": {},
     "output_type": "execute_result"
    }
   ],
   "source": [
    "data_counts['REF_URL_category']"
   ]
  },
  {
   "cell_type": "code",
   "execution_count": 50,
   "id": "3b554ecf",
   "metadata": {},
   "outputs": [],
   "source": [
    "# create a function that get the data_counts[column_name] and a threshold and return the values that are greater than the threshold\n",
    "def filter_counts(data_counts , column_name, threshold):\n",
    "    \"\"\"Filter counts for a specific column based on a threshold.\"\"\"\n",
    "    total_counts = sum(data_counts[column_name].values())\n",
    "    if total_counts == 0:\n",
    "        print(f'This is 0 % of the total counts for {column_name}')\n",
    "        return {}\n",
    "    min_count = total_counts * threshold\n",
    "    output = {k: v for k, v in data_counts[column_name].items() if v > min_count}\n",
    "    total_counts_output = sum(output.values())\n",
    "    print(f'This is {total_counts_output / total_counts * 100} % of the total counts for {column_name}')\n",
    "    return output"
   ]
  },
  {
   "cell_type": "code",
   "execution_count": 51,
   "id": "44818505",
   "metadata": {},
   "outputs": [
    {
     "name": "stdout",
     "output_type": "stream",
     "text": [
      "This is 96.3376403473566 % of the total counts for REF_URL_category\n"
     ]
    },
    {
     "data": {
      "text/plain": [
       "{'Logged Out': 338849, 'Search Engine': 283696, 'UWV': 253026, 'DigID': 89368}"
      ]
     },
     "execution_count": 51,
     "metadata": {},
     "output_type": "execute_result"
    }
   ],
   "source": [
    "filter_counts(data_counts , 'REF_URL_category', 0.02)"
   ]
  },
  {
   "cell_type": "code",
   "execution_count": 52,
   "id": "15f20aee",
   "metadata": {},
   "outputs": [
    {
     "data": {
      "text/plain": [
       "Index(['SessionID', 'IPID', 'TIMESTAMP', 'VHOST', 'URL_FILE', 'PAGE_NAME',\n",
       "       'REF_URL_category', 'page_load_error', 'page_action_detail', 'tip',\n",
       "       'service_detail', 'xps_info', 'page_action_detail_EN',\n",
       "       'service_detail_EN', 'tip_EN'],\n",
       "      dtype='object')"
      ]
     },
     "execution_count": 52,
     "metadata": {},
     "output_type": "execute_result"
    }
   ],
   "source": [
    "df.columns"
   ]
  },
  {
   "cell_type": "code",
   "execution_count": 53,
   "id": "6a4ea116",
   "metadata": {},
   "outputs": [
    {
     "ename": "ValueError",
     "evalue": "No objects to concatenate",
     "output_type": "error",
     "traceback": [
      "\u001b[0;31m---------------------------------------------------------------------------\u001b[0m",
      "\u001b[0;31mValueError\u001b[0m                                Traceback (most recent call last)",
      "Cell \u001b[0;32mIn[53], line 17\u001b[0m\n\u001b[1;32m     14\u001b[0m     event_logs\u001b[38;5;241m.\u001b[39mappend(chunk)\n\u001b[1;32m     16\u001b[0m \u001b[38;5;66;03m# Concatenate all\u001b[39;00m\n\u001b[0;32m---> 17\u001b[0m df_logs \u001b[38;5;241m=\u001b[39m \u001b[43mpd\u001b[49m\u001b[38;5;241;43m.\u001b[39;49m\u001b[43mconcat\u001b[49m\u001b[43m(\u001b[49m\u001b[43mevent_logs\u001b[49m\u001b[43m)\u001b[49m\n\u001b[1;32m     18\u001b[0m df_logs \u001b[38;5;241m=\u001b[39m df_logs\u001b[38;5;241m.\u001b[39msort_values(by\u001b[38;5;241m=\u001b[39m[\u001b[38;5;124m\"\u001b[39m\u001b[38;5;124mSessionID\u001b[39m\u001b[38;5;124m\"\u001b[39m, \u001b[38;5;124m\"\u001b[39m\u001b[38;5;124mTIMESTAMP\u001b[39m\u001b[38;5;124m\"\u001b[39m])  \u001b[38;5;66;03m# ensure sorted\u001b[39;00m\n",
      "File \u001b[0;32m/opt/anaconda3/envs/py310/lib/python3.10/site-packages/pandas/core/reshape/concat.py:380\u001b[0m, in \u001b[0;36mconcat\u001b[0;34m(objs, axis, join, ignore_index, keys, levels, names, verify_integrity, sort, copy)\u001b[0m\n\u001b[1;32m    377\u001b[0m \u001b[38;5;28;01melif\u001b[39;00m copy \u001b[38;5;129;01mand\u001b[39;00m using_copy_on_write():\n\u001b[1;32m    378\u001b[0m     copy \u001b[38;5;241m=\u001b[39m \u001b[38;5;28;01mFalse\u001b[39;00m\n\u001b[0;32m--> 380\u001b[0m op \u001b[38;5;241m=\u001b[39m \u001b[43m_Concatenator\u001b[49m\u001b[43m(\u001b[49m\n\u001b[1;32m    381\u001b[0m \u001b[43m    \u001b[49m\u001b[43mobjs\u001b[49m\u001b[43m,\u001b[49m\n\u001b[1;32m    382\u001b[0m \u001b[43m    \u001b[49m\u001b[43maxis\u001b[49m\u001b[38;5;241;43m=\u001b[39;49m\u001b[43maxis\u001b[49m\u001b[43m,\u001b[49m\n\u001b[1;32m    383\u001b[0m \u001b[43m    \u001b[49m\u001b[43mignore_index\u001b[49m\u001b[38;5;241;43m=\u001b[39;49m\u001b[43mignore_index\u001b[49m\u001b[43m,\u001b[49m\n\u001b[1;32m    384\u001b[0m \u001b[43m    \u001b[49m\u001b[43mjoin\u001b[49m\u001b[38;5;241;43m=\u001b[39;49m\u001b[43mjoin\u001b[49m\u001b[43m,\u001b[49m\n\u001b[1;32m    385\u001b[0m \u001b[43m    \u001b[49m\u001b[43mkeys\u001b[49m\u001b[38;5;241;43m=\u001b[39;49m\u001b[43mkeys\u001b[49m\u001b[43m,\u001b[49m\n\u001b[1;32m    386\u001b[0m \u001b[43m    \u001b[49m\u001b[43mlevels\u001b[49m\u001b[38;5;241;43m=\u001b[39;49m\u001b[43mlevels\u001b[49m\u001b[43m,\u001b[49m\n\u001b[1;32m    387\u001b[0m \u001b[43m    \u001b[49m\u001b[43mnames\u001b[49m\u001b[38;5;241;43m=\u001b[39;49m\u001b[43mnames\u001b[49m\u001b[43m,\u001b[49m\n\u001b[1;32m    388\u001b[0m \u001b[43m    \u001b[49m\u001b[43mverify_integrity\u001b[49m\u001b[38;5;241;43m=\u001b[39;49m\u001b[43mverify_integrity\u001b[49m\u001b[43m,\u001b[49m\n\u001b[1;32m    389\u001b[0m \u001b[43m    \u001b[49m\u001b[43mcopy\u001b[49m\u001b[38;5;241;43m=\u001b[39;49m\u001b[43mcopy\u001b[49m\u001b[43m,\u001b[49m\n\u001b[1;32m    390\u001b[0m \u001b[43m    \u001b[49m\u001b[43msort\u001b[49m\u001b[38;5;241;43m=\u001b[39;49m\u001b[43msort\u001b[49m\u001b[43m,\u001b[49m\n\u001b[1;32m    391\u001b[0m \u001b[43m\u001b[49m\u001b[43m)\u001b[49m\n\u001b[1;32m    393\u001b[0m \u001b[38;5;28;01mreturn\u001b[39;00m op\u001b[38;5;241m.\u001b[39mget_result()\n",
      "File \u001b[0;32m/opt/anaconda3/envs/py310/lib/python3.10/site-packages/pandas/core/reshape/concat.py:443\u001b[0m, in \u001b[0;36m_Concatenator.__init__\u001b[0;34m(self, objs, axis, join, keys, levels, names, ignore_index, verify_integrity, copy, sort)\u001b[0m\n\u001b[1;32m    440\u001b[0m \u001b[38;5;28mself\u001b[39m\u001b[38;5;241m.\u001b[39mverify_integrity \u001b[38;5;241m=\u001b[39m verify_integrity\n\u001b[1;32m    441\u001b[0m \u001b[38;5;28mself\u001b[39m\u001b[38;5;241m.\u001b[39mcopy \u001b[38;5;241m=\u001b[39m copy\n\u001b[0;32m--> 443\u001b[0m objs, keys \u001b[38;5;241m=\u001b[39m \u001b[38;5;28;43mself\u001b[39;49m\u001b[38;5;241;43m.\u001b[39;49m\u001b[43m_clean_keys_and_objs\u001b[49m\u001b[43m(\u001b[49m\u001b[43mobjs\u001b[49m\u001b[43m,\u001b[49m\u001b[43m \u001b[49m\u001b[43mkeys\u001b[49m\u001b[43m)\u001b[49m\n\u001b[1;32m    445\u001b[0m \u001b[38;5;66;03m# figure out what our result ndim is going to be\u001b[39;00m\n\u001b[1;32m    446\u001b[0m ndims \u001b[38;5;241m=\u001b[39m \u001b[38;5;28mself\u001b[39m\u001b[38;5;241m.\u001b[39m_get_ndims(objs)\n",
      "File \u001b[0;32m/opt/anaconda3/envs/py310/lib/python3.10/site-packages/pandas/core/reshape/concat.py:505\u001b[0m, in \u001b[0;36m_Concatenator._clean_keys_and_objs\u001b[0;34m(self, objs, keys)\u001b[0m\n\u001b[1;32m    502\u001b[0m     objs_list \u001b[38;5;241m=\u001b[39m \u001b[38;5;28mlist\u001b[39m(objs)\n\u001b[1;32m    504\u001b[0m \u001b[38;5;28;01mif\u001b[39;00m \u001b[38;5;28mlen\u001b[39m(objs_list) \u001b[38;5;241m==\u001b[39m \u001b[38;5;241m0\u001b[39m:\n\u001b[0;32m--> 505\u001b[0m     \u001b[38;5;28;01mraise\u001b[39;00m \u001b[38;5;167;01mValueError\u001b[39;00m(\u001b[38;5;124m\"\u001b[39m\u001b[38;5;124mNo objects to concatenate\u001b[39m\u001b[38;5;124m\"\u001b[39m)\n\u001b[1;32m    507\u001b[0m \u001b[38;5;28;01mif\u001b[39;00m keys \u001b[38;5;129;01mis\u001b[39;00m \u001b[38;5;28;01mNone\u001b[39;00m:\n\u001b[1;32m    508\u001b[0m     objs_list \u001b[38;5;241m=\u001b[39m \u001b[38;5;28mlist\u001b[39m(com\u001b[38;5;241m.\u001b[39mnot_none(\u001b[38;5;241m*\u001b[39mobjs_list))\n",
      "\u001b[0;31mValueError\u001b[0m: No objects to concatenate"
     ]
    }
   ],
   "source": [
    "# Collect all relevant rows into a single DataFrame\n",
    "event_logs = []\n",
    "\n",
    "for chunk in chunks:\n",
    "    # Keep only needed columns\n",
    "    chunk = chunk[[\"SessionID\", \"PAGE_NAME\", \"TIMESTAMP\"]].dropna()\n",
    "\n",
    "    # Optional: remove sessions with only 1 event\n",
    "    session_counts = chunk[\"SessionID\"].value_counts()\n",
    "    valid_sessions = session_counts[session_counts > 1].index\n",
    "    chunk = chunk[chunk[\"SessionID\"].isin(valid_sessions)]\n",
    "\n",
    "    # Append cleaned chunk\n",
    "    event_logs.append(chunk)\n",
    "\n",
    "# Concatenate all\n",
    "df_logs = pd.concat(event_logs)\n",
    "df_logs = df_logs.sort_values(by=[\"SessionID\", \"TIMESTAMP\"])  # ensure sorted"
   ]
  },
  {
   "cell_type": "code",
   "execution_count": 54,
   "id": "c44c20b9",
   "metadata": {},
   "outputs": [
    {
     "ename": "NameError",
     "evalue": "name 'df_logs' is not defined",
     "output_type": "error",
     "traceback": [
      "\u001b[0;31m---------------------------------------------------------------------------\u001b[0m",
      "\u001b[0;31mNameError\u001b[0m                                 Traceback (most recent call last)",
      "Cell \u001b[0;32mIn[54], line 2\u001b[0m\n\u001b[1;32m      1\u001b[0m \u001b[38;5;66;03m# Rename to match pm4py standards\u001b[39;00m\n\u001b[0;32m----> 2\u001b[0m \u001b[43mdf_logs\u001b[49m\u001b[38;5;241m.\u001b[39mcolumns \u001b[38;5;241m=\u001b[39m [\u001b[38;5;124m\"\u001b[39m\u001b[38;5;124mcase:concept:name\u001b[39m\u001b[38;5;124m\"\u001b[39m, \u001b[38;5;124m\"\u001b[39m\u001b[38;5;124mconcept:name\u001b[39m\u001b[38;5;124m\"\u001b[39m, \u001b[38;5;124m\"\u001b[39m\u001b[38;5;124mtime:timestamp\u001b[39m\u001b[38;5;124m\"\u001b[39m]\n\u001b[1;32m      4\u001b[0m \u001b[38;5;66;03m# Ensure correct types\u001b[39;00m\n\u001b[1;32m      5\u001b[0m df_logs \u001b[38;5;241m=\u001b[39m dataframe_utils\u001b[38;5;241m.\u001b[39mconvert_timestamp_columns_in_df(df_logs)\n",
      "\u001b[0;31mNameError\u001b[0m: name 'df_logs' is not defined"
     ]
    }
   ],
   "source": [
    "# Rename to match pm4py standards\n",
    "df_logs.columns = [\"case:concept:name\", \"concept:name\", \"time:timestamp\"]\n",
    "\n",
    "# Ensure correct types\n",
    "df_logs = dataframe_utils.convert_timestamp_columns_in_df(df_logs)\n",
    "# df_logs = dataframe_utils.ensure_datetime_format(df_logs)\n",
    "df_logs[\"case:concept:name\"] = df_logs[\"case:concept:name\"].astype(str)\n",
    "\n",
    "# Convert to event log\n",
    "event_log = log_converter.apply(df_logs)"
   ]
  },
  {
   "cell_type": "code",
   "execution_count": null,
   "id": "113a3529",
   "metadata": {},
   "outputs": [],
   "source": [
    "# Discover the process model\n",
    "process_tree = inductive_miner.apply(event_log)\n",
    "\n",
    "# Visualize the process tree\n",
    "gviz = pt_visualizer.apply(process_tree)\n",
    "pt_visualizer.view(gviz)"
   ]
  },
  {
   "cell_type": "code",
   "execution_count": null,
   "id": "84104f68",
   "metadata": {},
   "outputs": [],
   "source": [
    "# Convert tree to Petri net\n",
    "\n",
    "net, initial_marking, final_marking = pt_converter.apply(process_tree)\n",
    "\n",
    "from pm4py.visualization.petri_net import visualizer as pn_visualizer\n",
    "gviz = pn_visualizer.apply(net, initial_marking, final_marking)\n",
    "pn_visualizer.view(gviz)\n"
   ]
  },
  {
   "cell_type": "code",
   "execution_count": null,
   "id": "263ed6b9",
   "metadata": {},
   "outputs": [],
   "source": []
  },
  {
   "cell_type": "code",
   "execution_count": null,
   "id": "6bea5fb9",
   "metadata": {},
   "outputs": [],
   "source": []
  },
  {
   "cell_type": "code",
   "execution_count": null,
   "id": "0c40cf5f",
   "metadata": {},
   "outputs": [],
   "source": []
  },
  {
   "cell_type": "code",
   "execution_count": null,
   "id": "defc357d",
   "metadata": {},
   "outputs": [],
   "source": []
  },
  {
   "cell_type": "code",
   "execution_count": null,
   "id": "3cb1f0de",
   "metadata": {},
   "outputs": [],
   "source": []
  }
 ],
 "metadata": {
  "kernelspec": {
   "display_name": "ml",
   "language": "python",
   "name": "python3"
  },
  "language_info": {
   "codemirror_mode": {
    "name": "ipython",
    "version": 3
   },
   "file_extension": ".py",
   "mimetype": "text/x-python",
   "name": "python",
   "nbconvert_exporter": "python",
   "pygments_lexer": "ipython3",
   "version": "3.10.11"
  }
 },
 "nbformat": 4,
 "nbformat_minor": 5
}
