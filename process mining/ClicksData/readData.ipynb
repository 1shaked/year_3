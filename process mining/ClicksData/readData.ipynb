{
 "cells": [
  {
   "cell_type": "code",
   "execution_count": 1,
   "id": "7709f05c",
   "metadata": {},
   "outputs": [],
   "source": [
    "import pandas as pd\n",
    "import matplotlib.pyplot as plt\n",
    "import seaborn as sns\n",
    "import plotly.express as px\n",
    "import plotly.graph_objects as go\n",
    "import numpy as np\n"
   ]
  },
  {
   "cell_type": "code",
   "execution_count": 2,
   "id": "25335a91",
   "metadata": {},
   "outputs": [
    {
     "name": "stderr",
     "output_type": "stream",
     "text": [
      "/var/folders/27/h86gj_fd3xg23kmxw_95c6kc0000gn/T/ipykernel_36508/3569668178.py:3: DtypeWarning: Columns (12) have mixed types. Specify dtype option on import or set low_memory=False.\n",
      "  df = next(chunks)\n"
     ]
    }
   ],
   "source": [
    "chunks = pd.read_csv(\"BPI2016_Clicks_NOT_Logged_In.csv\", encoding='latin1',\n",
    "    chunksize=70_0000, delimiter=';')\n",
    "df = next(chunks)"
   ]
  },
  {
   "cell_type": "code",
   "execution_count": 3,
   "id": "8c2edac6",
   "metadata": {},
   "outputs": [],
   "source": [
    "# csv_row = []\n",
    "# columns = []\n",
    "# with open('BPI2016_Clicks_NOT_Logged_In.csv', 'r', encoding='utf-8') as f:\n",
    "#     for i in range(30_000):\n",
    "#         line = f.readline()\n",
    "#         if i == 0:\n",
    "#             columns = line.split(';')\n",
    "#             continue\n",
    "#         csv_row.append(line.split(';'))\n",
    "\n",
    "# df = pd.DataFrame(csv_row, columns=columns)"
   ]
  },
  {
   "cell_type": "code",
   "execution_count": 4,
   "id": "147dec39",
   "metadata": {},
   "outputs": [],
   "source": [
    "# df = pd.read_csv('BPI2016_Clicks_NOT_Logged_In.csv', nrows=150, delimiter=';')\n",
    "# df = next(chunks)"
   ]
  },
  {
   "cell_type": "code",
   "execution_count": 5,
   "id": "b247ef76",
   "metadata": {},
   "outputs": [
    {
     "data": {
      "text/plain": [
       "VHOST\n",
       "www.werk.nl      511248\n",
       "digid.werk.nl    188752\n",
       "Name: count, dtype: int64"
      ]
     },
     "execution_count": 5,
     "metadata": {},
     "output_type": "execute_result"
    }
   ],
   "source": [
    "df.VHOST.value_counts()"
   ]
  },
  {
   "cell_type": "code",
   "execution_count": null,
   "id": "664a8191",
   "metadata": {},
   "outputs": [],
   "source": [
    "# create here "
   ]
  },
  {
   "cell_type": "code",
   "execution_count": 6,
   "id": "4337f52a",
   "metadata": {},
   "outputs": [
    {
     "data": {
      "text/plain": [
       "Index(['SessionID', 'IPID', 'TIMESTAMP', 'VHOST', 'URL_FILE', 'PAGE_NAME',\n",
       "       'REF_URL_category', 'page_load_error', 'page_action_detail', 'tip',\n",
       "       'service_detail', 'xps_info', 'page_action_detail_EN',\n",
       "       'service_detail_EN', 'tip_EN'],\n",
       "      dtype='object')"
      ]
     },
     "execution_count": 6,
     "metadata": {},
     "output_type": "execute_result"
    }
   ],
   "source": [
    "df.columns"
   ]
  },
  {
   "cell_type": "code",
   "execution_count": 17,
   "id": "904127a5",
   "metadata": {},
   "outputs": [
    {
     "data": {
      "text/html": [
       "<div>\n",
       "<style scoped>\n",
       "    .dataframe tbody tr th:only-of-type {\n",
       "        vertical-align: middle;\n",
       "    }\n",
       "\n",
       "    .dataframe tbody tr th {\n",
       "        vertical-align: top;\n",
       "    }\n",
       "\n",
       "    .dataframe thead th {\n",
       "        text-align: right;\n",
       "    }\n",
       "</style>\n",
       "<table border=\"1\" class=\"dataframe\">\n",
       "  <thead>\n",
       "    <tr style=\"text-align: right;\">\n",
       "      <th></th>\n",
       "      <th>SessionID</th>\n",
       "      <th>IPID</th>\n",
       "      <th>TIMESTAMP</th>\n",
       "      <th>VHOST</th>\n",
       "      <th>URL_FILE</th>\n",
       "      <th>PAGE_NAME</th>\n",
       "      <th>REF_URL_category</th>\n",
       "      <th>page_load_error</th>\n",
       "      <th>page_action_detail</th>\n",
       "      <th>tip</th>\n",
       "      <th>service_detail</th>\n",
       "      <th>xps_info</th>\n",
       "      <th>page_action_detail_EN</th>\n",
       "      <th>service_detail_EN</th>\n",
       "      <th>tip_EN</th>\n",
       "    </tr>\n",
       "  </thead>\n",
       "  <tbody>\n",
       "    <tr>\n",
       "      <th>0</th>\n",
       "      <td>9709637</td>\n",
       "      <td>32252</td>\n",
       "      <td>2015-09-09 08:41:16.933000000</td>\n",
       "      <td>www.werk.nl</td>\n",
       "      <td>/werk_nl/werkgever/cvs_zoeken</td>\n",
       "      <td>cvs_zoeken</td>\n",
       "      <td>NaN</td>\n",
       "      <td>0</td>\n",
       "      <td>NaN</td>\n",
       "      <td>NaN</td>\n",
       "      <td>NaN</td>\n",
       "      <td>NaN</td>\n",
       "      <td>NaN</td>\n",
       "      <td>NaN</td>\n",
       "      <td>NaN</td>\n",
       "    </tr>\n",
       "    <tr>\n",
       "      <th>1</th>\n",
       "      <td>24410332</td>\n",
       "      <td>328776</td>\n",
       "      <td>2015-09-09 11:17:33.703000000</td>\n",
       "      <td>www.werk.nl</td>\n",
       "      <td>/werk_nl/werknemer/home</td>\n",
       "      <td>home</td>\n",
       "      <td>NaN</td>\n",
       "      <td>0</td>\n",
       "      <td>NaN</td>\n",
       "      <td>NaN</td>\n",
       "      <td>NaN</td>\n",
       "      <td>NaN</td>\n",
       "      <td>NaN</td>\n",
       "      <td>NaN</td>\n",
       "      <td>NaN</td>\n",
       "    </tr>\n",
       "    <tr>\n",
       "      <th>2</th>\n",
       "      <td>12989875</td>\n",
       "      <td>806282</td>\n",
       "      <td>2015-09-08 18:32:30.523000000</td>\n",
       "      <td>digid.werk.nl</td>\n",
       "      <td>/portal/page/portal/home/diensten/aanvragen-ww</td>\n",
       "      <td>aanvragen-ww</td>\n",
       "      <td>NaN</td>\n",
       "      <td>0</td>\n",
       "      <td>NaN</td>\n",
       "      <td>NaN</td>\n",
       "      <td>2. Uw laatste werkgever</td>\n",
       "      <td>NaN</td>\n",
       "      <td>NaN</td>\n",
       "      <td>2. Your last employer</td>\n",
       "      <td>NaN</td>\n",
       "    </tr>\n",
       "    <tr>\n",
       "      <th>3</th>\n",
       "      <td>4775769</td>\n",
       "      <td>1374967</td>\n",
       "      <td>2015-09-08 12:08:05.763000000</td>\n",
       "      <td>digid.werk.nl</td>\n",
       "      <td>/portal/page/portal/home/diensten/aanvragen-tw</td>\n",
       "      <td>aanvragen-tw</td>\n",
       "      <td>NaN</td>\n",
       "      <td>0</td>\n",
       "      <td>NaN</td>\n",
       "      <td>NaN</td>\n",
       "      <td>NaN</td>\n",
       "      <td>NaN</td>\n",
       "      <td>NaN</td>\n",
       "      <td>NaN</td>\n",
       "      <td>NaN</td>\n",
       "    </tr>\n",
       "    <tr>\n",
       "      <th>4</th>\n",
       "      <td>27370352</td>\n",
       "      <td>805833</td>\n",
       "      <td>2015-09-09 10:41:02.817000000</td>\n",
       "      <td>www.werk.nl</td>\n",
       "      <td>/werk_nl/werknemer/uitkering-aanvragen/ww</td>\n",
       "      <td>ww</td>\n",
       "      <td>UWV</td>\n",
       "      <td>0</td>\n",
       "      <td>NaN</td>\n",
       "      <td>NaN</td>\n",
       "      <td>NaN</td>\n",
       "      <td>NaN</td>\n",
       "      <td>NaN</td>\n",
       "      <td>NaN</td>\n",
       "      <td>NaN</td>\n",
       "    </tr>\n",
       "  </tbody>\n",
       "</table>\n",
       "</div>"
      ],
      "text/plain": [
       "   SessionID     IPID                      TIMESTAMP          VHOST  \\\n",
       "0    9709637    32252  2015-09-09 08:41:16.933000000    www.werk.nl   \n",
       "1   24410332   328776  2015-09-09 11:17:33.703000000    www.werk.nl   \n",
       "2   12989875   806282  2015-09-08 18:32:30.523000000  digid.werk.nl   \n",
       "3    4775769  1374967  2015-09-08 12:08:05.763000000  digid.werk.nl   \n",
       "4   27370352   805833  2015-09-09 10:41:02.817000000    www.werk.nl   \n",
       "\n",
       "                                         URL_FILE     PAGE_NAME  \\\n",
       "0                   /werk_nl/werkgever/cvs_zoeken    cvs_zoeken   \n",
       "1                         /werk_nl/werknemer/home          home   \n",
       "2  /portal/page/portal/home/diensten/aanvragen-ww  aanvragen-ww   \n",
       "3  /portal/page/portal/home/diensten/aanvragen-tw  aanvragen-tw   \n",
       "4       /werk_nl/werknemer/uitkering-aanvragen/ww            ww   \n",
       "\n",
       "  REF_URL_category  page_load_error page_action_detail  tip  \\\n",
       "0              NaN                0                NaN  NaN   \n",
       "1              NaN                0                NaN  NaN   \n",
       "2              NaN                0                NaN  NaN   \n",
       "3              NaN                0                NaN  NaN   \n",
       "4              UWV                0                NaN  NaN   \n",
       "\n",
       "            service_detail xps_info page_action_detail_EN  \\\n",
       "0                      NaN      NaN                   NaN   \n",
       "1                      NaN      NaN                   NaN   \n",
       "2  2. Uw laatste werkgever      NaN                   NaN   \n",
       "3                      NaN      NaN                   NaN   \n",
       "4                      NaN      NaN                   NaN   \n",
       "\n",
       "       service_detail_EN  tip_EN  \n",
       "0                    NaN     NaN  \n",
       "1                    NaN     NaN  \n",
       "2  2. Your last employer     NaN  \n",
       "3                    NaN     NaN  \n",
       "4                    NaN     NaN  "
      ]
     },
     "execution_count": 17,
     "metadata": {},
     "output_type": "execute_result"
    }
   ],
   "source": [
    "df.head()"
   ]
  },
  {
   "cell_type": "code",
   "execution_count": 32,
   "id": "946477cf",
   "metadata": {},
   "outputs": [],
   "source": [
    "# df.page_action_detail_EN.value_counts() # ,df.page_action_detail.value_counts() # .isnull().sum()\n",
    "def column_details(series):\n",
    "    print(f\"Unique values: {series.value_counts()}\")\n",
    "    print(f\"Missing values: {series.isnull().sum()}, total unique values : {series.nunique()}\")\n",
    "# df.page_action_detail_EN.isnull().sum() , df.page_action_detail.isnull().sum()"
   ]
  },
  {
   "cell_type": "code",
   "execution_count": null,
   "id": "024be5d6",
   "metadata": {},
   "outputs": [],
   "source": []
  },
  {
   "cell_type": "code",
   "execution_count": null,
   "id": "985d8147",
   "metadata": {},
   "outputs": [],
   "source": []
  },
  {
   "cell_type": "code",
   "execution_count": 44,
   "id": "43eab075",
   "metadata": {},
   "outputs": [],
   "source": [
    "# df.to_csv('temp.csv',index=False)"
   ]
  },
  {
   "cell_type": "code",
   "execution_count": null,
   "id": "a3386967",
   "metadata": {},
   "outputs": [],
   "source": []
  },
  {
   "cell_type": "code",
   "execution_count": null,
   "id": "cfa6dbcf",
   "metadata": {},
   "outputs": [],
   "source": []
  },
  {
   "cell_type": "code",
   "execution_count": 45,
   "id": "5af9aaff",
   "metadata": {},
   "outputs": [],
   "source": [
    "# # remove all the rows where the REF_URL_category is less than 2% of the total rows\n",
    "# percentage_threshold = 0.0002\n",
    "# ref_url_counts = df.REF_URL_category.value_counts()\n",
    "# ref_url_counts = ref_url_counts[ref_url_counts > percentage_threshold * len(df)]\n",
    "# # df = df[df.REF_URL_category.isin(ref_url_counts.index)]\n",
    "# df.REF_URL_category.value_counts()"
   ]
  },
  {
   "cell_type": "code",
   "execution_count": 11,
   "id": "b0d2a3ea",
   "metadata": {},
   "outputs": [
    {
     "data": {
      "text/plain": [
       "Index(['Search Engine', 'Logged Out', 'UWV', 'DigID', 'MyGovernment',\n",
       "       'Logging In', 'Mail Client', 'Job Search Website', 'FAQ'],\n",
       "      dtype='object', name='REF_URL_category')"
      ]
     },
     "execution_count": 11,
     "metadata": {},
     "output_type": "execute_result"
    }
   ],
   "source": [
    "ref_url_counts.index\n",
    "# df = df[df.REF_URL_category.isin(ref_url_counts.index)]"
   ]
  },
  {
   "cell_type": "code",
   "execution_count": 12,
   "id": "882e93d4",
   "metadata": {},
   "outputs": [],
   "source": [
    "actions = df.page_action_detail.value_counts()\n",
    "# save the actions to a csv file\n",
    "actions.to_csv('actions.csv')"
   ]
  },
  {
   "cell_type": "code",
   "execution_count": 13,
   "id": "31cbb96b",
   "metadata": {},
   "outputs": [
    {
     "data": {
      "text/plain": [
       "page_action_detail\n",
       "Zoek in werk.nl                                 82\n",
       "cv                                              29\n",
       "beleidsregels                                   16\n",
       "afspiegeling                                    14\n",
       "werkverkenner                                   12\n",
       "                                                ..\n",
       "formulieren                                      1\n",
       "afspiegel                                        1\n",
       "binnen welke tijd moet ww worden aangevraagd     1\n",
       "apotheek                                         1\n",
       "Administratief medewerker / servicedesk          1\n",
       "Name: count, Length: 848, dtype: int64"
      ]
     },
     "execution_count": 13,
     "metadata": {},
     "output_type": "execute_result"
    }
   ],
   "source": [
    "df.page_action_detail.value_counts()"
   ]
  },
  {
   "cell_type": "code",
   "execution_count": 14,
   "id": "41f1882c",
   "metadata": {},
   "outputs": [
    {
     "data": {
      "text/plain": [
       "Series([], Name: count, dtype: int64)"
      ]
     },
     "execution_count": 14,
     "metadata": {},
     "output_type": "execute_result"
    }
   ],
   "source": [
    "df.tip.value_counts()\n"
   ]
  },
  {
   "cell_type": "code",
   "execution_count": 15,
   "id": "d08e2843",
   "metadata": {},
   "outputs": [],
   "source": [
    "service_detail_EN = df.service_detail_EN.value_counts()\n",
    "# save the service_detail_EN to a csv file\n",
    "service_detail_EN.to_csv('service_detail_EN.csv')"
   ]
  },
  {
   "cell_type": "code",
   "execution_count": 16,
   "id": "c1aef22a",
   "metadata": {},
   "outputs": [],
   "source": [
    "xps_info = df.xps_info.value_counts()\n",
    "# save the xps_info to a csv file\n",
    "xps_info.to_csv('xps_info.csv')"
   ]
  },
  {
   "cell_type": "code",
   "execution_count": null,
   "id": "3ad581bb",
   "metadata": {},
   "outputs": [],
   "source": []
  },
  {
   "cell_type": "code",
   "execution_count": 34,
   "id": "1e5f32aa",
   "metadata": {},
   "outputs": [
    {
     "name": "stderr",
     "output_type": "stream",
     "text": [
      "/var/folders/27/h86gj_fd3xg23kmxw_95c6kc0000gn/T/ipykernel_36508/947122960.py:5: DtypeWarning: Columns (12) have mixed types. Specify dtype option on import or set low_memory=False.\n",
      "  for chunk in chunks:  # assuming 'chunks' is your TextFileReader object\n",
      "/var/folders/27/h86gj_fd3xg23kmxw_95c6kc0000gn/T/ipykernel_36508/947122960.py:5: DtypeWarning: Columns (12) have mixed types. Specify dtype option on import or set low_memory=False.\n",
      "  for chunk in chunks:  # assuming 'chunks' is your TextFileReader object\n",
      "/var/folders/27/h86gj_fd3xg23kmxw_95c6kc0000gn/T/ipykernel_36508/947122960.py:5: DtypeWarning: Columns (12) have mixed types. Specify dtype option on import or set low_memory=False.\n",
      "  for chunk in chunks:  # assuming 'chunks' is your TextFileReader object\n",
      "/var/folders/27/h86gj_fd3xg23kmxw_95c6kc0000gn/T/ipykernel_36508/947122960.py:5: DtypeWarning: Columns (12) have mixed types. Specify dtype option on import or set low_memory=False.\n",
      "  for chunk in chunks:  # assuming 'chunks' is your TextFileReader object\n",
      "/var/folders/27/h86gj_fd3xg23kmxw_95c6kc0000gn/T/ipykernel_36508/947122960.py:5: DtypeWarning: Columns (12) have mixed types. Specify dtype option on import or set low_memory=False.\n",
      "  for chunk in chunks:  # assuming 'chunks' is your TextFileReader object\n",
      "/var/folders/27/h86gj_fd3xg23kmxw_95c6kc0000gn/T/ipykernel_36508/947122960.py:5: DtypeWarning: Columns (12) have mixed types. Specify dtype option on import or set low_memory=False.\n",
      "  for chunk in chunks:  # assuming 'chunks' is your TextFileReader object\n",
      "/var/folders/27/h86gj_fd3xg23kmxw_95c6kc0000gn/T/ipykernel_36508/947122960.py:5: DtypeWarning: Columns (12) have mixed types. Specify dtype option on import or set low_memory=False.\n",
      "  for chunk in chunks:  # assuming 'chunks' is your TextFileReader object\n",
      "/var/folders/27/h86gj_fd3xg23kmxw_95c6kc0000gn/T/ipykernel_36508/947122960.py:5: DtypeWarning: Columns (12) have mixed types. Specify dtype option on import or set low_memory=False.\n",
      "  for chunk in chunks:  # assuming 'chunks' is your TextFileReader object\n",
      "/var/folders/27/h86gj_fd3xg23kmxw_95c6kc0000gn/T/ipykernel_36508/947122960.py:5: DtypeWarning: Columns (12) have mixed types. Specify dtype option on import or set low_memory=False.\n",
      "  for chunk in chunks:  # assuming 'chunks' is your TextFileReader object\n",
      "/var/folders/27/h86gj_fd3xg23kmxw_95c6kc0000gn/T/ipykernel_36508/947122960.py:5: DtypeWarning: Columns (12) have mixed types. Specify dtype option on import or set low_memory=False.\n",
      "  for chunk in chunks:  # assuming 'chunks' is your TextFileReader object\n",
      "/var/folders/27/h86gj_fd3xg23kmxw_95c6kc0000gn/T/ipykernel_36508/947122960.py:5: DtypeWarning: Columns (12) have mixed types. Specify dtype option on import or set low_memory=False.\n",
      "  for chunk in chunks:  # assuming 'chunks' is your TextFileReader object\n",
      "/var/folders/27/h86gj_fd3xg23kmxw_95c6kc0000gn/T/ipykernel_36508/947122960.py:5: DtypeWarning: Columns (12) have mixed types. Specify dtype option on import or set low_memory=False.\n",
      "  for chunk in chunks:  # assuming 'chunks' is your TextFileReader object\n",
      "/var/folders/27/h86gj_fd3xg23kmxw_95c6kc0000gn/T/ipykernel_36508/947122960.py:5: DtypeWarning: Columns (12) have mixed types. Specify dtype option on import or set low_memory=False.\n",
      "  for chunk in chunks:  # assuming 'chunks' is your TextFileReader object\n",
      "/var/folders/27/h86gj_fd3xg23kmxw_95c6kc0000gn/T/ipykernel_36508/947122960.py:5: DtypeWarning: Columns (12) have mixed types. Specify dtype option on import or set low_memory=False.\n",
      "  for chunk in chunks:  # assuming 'chunks' is your TextFileReader object\n",
      "/var/folders/27/h86gj_fd3xg23kmxw_95c6kc0000gn/T/ipykernel_36508/947122960.py:5: DtypeWarning: Columns (12) have mixed types. Specify dtype option on import or set low_memory=False.\n",
      "  for chunk in chunks:  # assuming 'chunks' is your TextFileReader object\n",
      "/var/folders/27/h86gj_fd3xg23kmxw_95c6kc0000gn/T/ipykernel_36508/947122960.py:5: DtypeWarning: Columns (12) have mixed types. Specify dtype option on import or set low_memory=False.\n",
      "  for chunk in chunks:  # assuming 'chunks' is your TextFileReader object\n",
      "/var/folders/27/h86gj_fd3xg23kmxw_95c6kc0000gn/T/ipykernel_36508/947122960.py:5: DtypeWarning: Columns (12) have mixed types. Specify dtype option on import or set low_memory=False.\n",
      "  for chunk in chunks:  # assuming 'chunks' is your TextFileReader object\n",
      "/var/folders/27/h86gj_fd3xg23kmxw_95c6kc0000gn/T/ipykernel_36508/947122960.py:5: DtypeWarning: Columns (12) have mixed types. Specify dtype option on import or set low_memory=False.\n",
      "  for chunk in chunks:  # assuming 'chunks' is your TextFileReader object\n",
      "/var/folders/27/h86gj_fd3xg23kmxw_95c6kc0000gn/T/ipykernel_36508/947122960.py:5: DtypeWarning: Columns (12) have mixed types. Specify dtype option on import or set low_memory=False.\n",
      "  for chunk in chunks:  # assuming 'chunks' is your TextFileReader object\n",
      "/var/folders/27/h86gj_fd3xg23kmxw_95c6kc0000gn/T/ipykernel_36508/947122960.py:5: DtypeWarning: Columns (12) have mixed types. Specify dtype option on import or set low_memory=False.\n",
      "  for chunk in chunks:  # assuming 'chunks' is your TextFileReader object\n",
      "/var/folders/27/h86gj_fd3xg23kmxw_95c6kc0000gn/T/ipykernel_36508/947122960.py:5: DtypeWarning: Columns (12) have mixed types. Specify dtype option on import or set low_memory=False.\n",
      "  for chunk in chunks:  # assuming 'chunks' is your TextFileReader object\n",
      "/var/folders/27/h86gj_fd3xg23kmxw_95c6kc0000gn/T/ipykernel_36508/947122960.py:5: DtypeWarning: Columns (12) have mixed types. Specify dtype option on import or set low_memory=False.\n",
      "  for chunk in chunks:  # assuming 'chunks' is your TextFileReader object\n",
      "/var/folders/27/h86gj_fd3xg23kmxw_95c6kc0000gn/T/ipykernel_36508/947122960.py:5: DtypeWarning: Columns (12) have mixed types. Specify dtype option on import or set low_memory=False.\n",
      "  for chunk in chunks:  # assuming 'chunks' is your TextFileReader object\n"
     ]
    }
   ],
   "source": [
    "from collections import defaultdict\n",
    "\n",
    "data_counts = defaultdict(lambda: defaultdict(int))\n",
    "\n",
    "for chunk in chunks:  # assuming 'chunks' is your TextFileReader object\n",
    "    for col in chunk.columns:\n",
    "        value_counts = chunk[col].value_counts()\n",
    "        for val, count in value_counts.items():\n",
    "            data_counts[col][val] += count\n",
    "\n",
    "# Example: print summary for one column\n",
    "# print(data_counts['your_column_name'])"
   ]
  },
  {
   "cell_type": "code",
   "execution_count": 42,
   "id": "dc8e71a3",
   "metadata": {},
   "outputs": [
    {
     "data": {
      "text/plain": [
       "defaultdict(int,\n",
       "            {'2. Your last employer': 334891,\n",
       "             '4. Hours worked': 260117,\n",
       "             '6. Your employment history': 141603,\n",
       "             '3. The dismissal': 130176,\n",
       "             '7. Supplement': 133266,\n",
       "             '1. Your personal details': 116409,\n",
       "             '8. Send data': 83466,\n",
       "             '1. Your situation': 72815,\n",
       "             '5. Other work/income': 63372,\n",
       "             '3. Your possessions': 48065,\n",
       "             '2. Your income': 18222,\n",
       "             '6. Other information': 14681,\n",
       "             '7. Send data': 10288,\n",
       "             '4. Your personal information': 8888,\n",
       "             '5. The labor market': 7423,\n",
       "             '2. Supplement': 2751,\n",
       "             '3. Send data': 1376})"
      ]
     },
     "execution_count": 42,
     "metadata": {},
     "output_type": "execute_result"
    }
   ],
   "source": [
    "data_counts['service_detail_EN']"
   ]
  },
  {
   "cell_type": "code",
   "execution_count": 43,
   "id": "78d90ff7",
   "metadata": {},
   "outputs": [
    {
     "data": {
      "text/plain": [
       "defaultdict(int,\n",
       "            {'2. Uw laatste werkgever': 334891,\n",
       "             '4. Gewerkte uren': 260117,\n",
       "             '6. Uw arbeidsverleden': 141603,\n",
       "             '3. Het ontslag': 130176,\n",
       "             '7. Toeslag': 133266,\n",
       "             '1. Uw persoonlijke gegevens': 116409,\n",
       "             '8. Versturen gegevens': 83466,\n",
       "             '1. Uw situatie': 72815,\n",
       "             '5. Ander werk/inkomsten': 63372,\n",
       "             '3. Uw bezittingen': 48065,\n",
       "             '2. Uw inkomsten': 18222,\n",
       "             '6. Overige informatie': 14681,\n",
       "             '7. Versturen gegevens': 10288,\n",
       "             '4. Uw persoonlijke gegevens': 8888,\n",
       "             '5. De arbeidsmarkt': 7423,\n",
       "             '2. Toeslag': 2751,\n",
       "             '3. Versturen gegevens': 1376})"
      ]
     },
     "execution_count": 43,
     "metadata": {},
     "output_type": "execute_result"
    }
   ],
   "source": [
    "data_counts['service_detail']"
   ]
  },
  {
   "cell_type": "code",
   "execution_count": 50,
   "id": "3dd6f3c7",
   "metadata": {},
   "outputs": [
    {
     "data": {
      "text/plain": [
       "20032.44"
      ]
     },
     "execution_count": 50,
     "metadata": {},
     "output_type": "execute_result"
    }
   ],
   "source": [
    "sum(data_counts['REF_URL_category'].values()) * 0.02"
   ]
  },
  {
   "cell_type": "code",
   "execution_count": 52,
   "id": "3545326f",
   "metadata": {},
   "outputs": [
    {
     "data": {
      "text/plain": [
       "defaultdict(int,\n",
       "            {'Logged Out': 338849,\n",
       "             'Search Engine': 283696,\n",
       "             'UWV': 253026,\n",
       "             'DigID': 89368,\n",
       "             'MyGovernment': 12079,\n",
       "             'Logging In': 5838,\n",
       "             'Mail Client': 7897,\n",
       "             'Job Search Website': 5025,\n",
       "             'FAQ': 2647,\n",
       "             'Competence Atlas': 1569,\n",
       "             'Analysis Tool': 1242,\n",
       "             'Spider': 386})"
      ]
     },
     "execution_count": 52,
     "metadata": {},
     "output_type": "execute_result"
    }
   ],
   "source": [
    "data_counts['REF_URL_category']"
   ]
  },
  {
   "cell_type": "code",
   "execution_count": 58,
   "id": "3b554ecf",
   "metadata": {},
   "outputs": [],
   "source": [
    "# create a function that get the data_counts[column_name] and a threshold and return the values that are greater than the threshold\n",
    "def filter_counts(data_counts , column_name, threshold):\n",
    "    \"\"\"Filter counts for a specific column based on a threshold.\"\"\"\n",
    "    total_counts = sum(data_counts[column_name].values())\n",
    "    if total_counts == 0:\n",
    "        print(f'This is 0 % of the total counts for {column_name}')\n",
    "        return {}\n",
    "    min_count = total_counts * threshold\n",
    "    output = {k: v for k, v in data_counts[column_name].items() if v > min_count}\n",
    "    total_counts_output = sum(output.values())\n",
    "    print(f'This is {total_counts_output / total_counts * 100} % of the total counts for {column_name}')\n",
    "    return output"
   ]
  },
  {
   "cell_type": "code",
   "execution_count": 59,
   "id": "44818505",
   "metadata": {},
   "outputs": [
    {
     "name": "stdout",
     "output_type": "stream",
     "text": [
      "This is 96.3376403473566 % of the total counts for REF_URL_category\n"
     ]
    },
    {
     "data": {
      "text/plain": [
       "{'Logged Out': 338849, 'Search Engine': 283696, 'UWV': 253026, 'DigID': 89368}"
      ]
     },
     "execution_count": 59,
     "metadata": {},
     "output_type": "execute_result"
    }
   ],
   "source": [
    "filter_counts(data_counts , 'REF_URL_category', 0.02)"
   ]
  },
  {
   "cell_type": "code",
   "execution_count": 61,
   "id": "15f20aee",
   "metadata": {},
   "outputs": [
    {
     "data": {
      "text/plain": [
       "Index(['SessionID', 'IPID', 'TIMESTAMP', 'VHOST', 'URL_FILE', 'PAGE_NAME',\n",
       "       'REF_URL_category', 'page_load_error', 'page_action_detail', 'tip',\n",
       "       'service_detail', 'xps_info', 'page_action_detail_EN',\n",
       "       'service_detail_EN', 'tip_EN'],\n",
       "      dtype='object')"
      ]
     },
     "execution_count": 61,
     "metadata": {},
     "output_type": "execute_result"
    }
   ],
   "source": [
    "df.columns"
   ]
  },
  {
   "cell_type": "code",
   "execution_count": null,
   "id": "6a4ea116",
   "metadata": {},
   "outputs": [
    {
     "data": {
      "text/plain": [
       "defaultdict(int, {0: 8521275, 1: 108143})"
      ]
     },
     "execution_count": 64,
     "metadata": {},
     "output_type": "execute_result"
    }
   ],
   "source": [
    "data_counts['page_load_error']"
   ]
  },
  {
   "cell_type": "code",
   "execution_count": null,
   "id": "c44c20b9",
   "metadata": {},
   "outputs": [],
   "source": []
  }
 ],
 "metadata": {
  "kernelspec": {
   "display_name": "py310",
   "language": "python",
   "name": "python3"
  },
  "language_info": {
   "codemirror_mode": {
    "name": "ipython",
    "version": 3
   },
   "file_extension": ".py",
   "mimetype": "text/x-python",
   "name": "python",
   "nbconvert_exporter": "python",
   "pygments_lexer": "ipython3",
   "version": "3.10.16"
  }
 },
 "nbformat": 4,
 "nbformat_minor": 5
}
