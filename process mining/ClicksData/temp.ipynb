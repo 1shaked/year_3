{
 "cells": [
  {
   "cell_type": "code",
   "execution_count": 1,
   "id": "2a0c460f",
   "metadata": {},
   "outputs": [
    {
     "name": "stdout",
     "output_type": "stream",
     "text": [
      "Intel MKL WARNING: Support of Intel(R) Streaming SIMD Extensions 4.2 (Intel(R) SSE4.2) enabled only processors has been deprecated. Intel oneAPI Math Kernel Library 2025.0 will require Intel(R) Advanced Vector Extensions (Intel(R) AVX) instructions.\n",
      "Intel MKL WARNING: Support of Intel(R) Streaming SIMD Extensions 4.2 (Intel(R) SSE4.2) enabled only processors has been deprecated. Intel oneAPI Math Kernel Library 2025.0 will require Intel(R) Advanced Vector Extensions (Intel(R) AVX) instructions.\n"
     ]
    }
   ],
   "source": [
    "import pandas as pd"
   ]
  },
  {
   "cell_type": "code",
   "execution_count": 2,
   "id": "9cf5c259",
   "metadata": {},
   "outputs": [
    {
     "data": {
      "text/html": [
       "<div>\n",
       "<style scoped>\n",
       "    .dataframe tbody tr th:only-of-type {\n",
       "        vertical-align: middle;\n",
       "    }\n",
       "\n",
       "    .dataframe tbody tr th {\n",
       "        vertical-align: top;\n",
       "    }\n",
       "\n",
       "    .dataframe thead th {\n",
       "        text-align: right;\n",
       "    }\n",
       "</style>\n",
       "<table border=\"1\" class=\"dataframe\">\n",
       "  <thead>\n",
       "    <tr style=\"text-align: right;\">\n",
       "      <th></th>\n",
       "      <th>algorithm</th>\n",
       "      <th>top_n</th>\n",
       "      <th>fitness_tok.perc_fit_traces</th>\n",
       "      <th>fitness_tok.average_trace_fitness</th>\n",
       "      <th>fitness_tok.log_fitness</th>\n",
       "      <th>fitness_tok.percentage_of_fitting_traces</th>\n",
       "      <th>fitness_align.perc_fit_traces</th>\n",
       "      <th>fitness_align.average_trace_fitness</th>\n",
       "      <th>fitness_align.average_fitness</th>\n",
       "      <th>fitness_align.log_fitness</th>\n",
       "      <th>fitness_align.percentage_of_fitting_traces</th>\n",
       "      <th>precision_token_replay</th>\n",
       "      <th>precision_alignments</th>\n",
       "      <th>generalization_tbr</th>\n",
       "    </tr>\n",
       "  </thead>\n",
       "  <tbody>\n",
       "    <tr>\n",
       "      <th>0</th>\n",
       "      <td>alpha_miner</td>\n",
       "      <td>10</td>\n",
       "      <td>54.226983</td>\n",
       "      <td>0.930646</td>\n",
       "      <td>0.943669</td>\n",
       "      <td>54.226983</td>\n",
       "      <td>54.226983</td>\n",
       "      <td>0.881929</td>\n",
       "      <td>0.881929</td>\n",
       "      <td>0.895645</td>\n",
       "      <td>54.226983</td>\n",
       "      <td>0.906336</td>\n",
       "      <td>0.906336</td>\n",
       "      <td>0.603859</td>\n",
       "    </tr>\n",
       "    <tr>\n",
       "      <th>1</th>\n",
       "      <td>inductive_miner</td>\n",
       "      <td>10</td>\n",
       "      <td>80.341633</td>\n",
       "      <td>0.981456</td>\n",
       "      <td>0.981739</td>\n",
       "      <td>80.341633</td>\n",
       "      <td>80.341633</td>\n",
       "      <td>0.965859</td>\n",
       "      <td>0.965859</td>\n",
       "      <td>0.967851</td>\n",
       "      <td>80.341633</td>\n",
       "      <td>0.728653</td>\n",
       "      <td>0.728653</td>\n",
       "      <td>0.928440</td>\n",
       "    </tr>\n",
       "    <tr>\n",
       "      <th>2</th>\n",
       "      <td>heuristics_miner</td>\n",
       "      <td>10</td>\n",
       "      <td>54.226983</td>\n",
       "      <td>0.930646</td>\n",
       "      <td>0.943669</td>\n",
       "      <td>54.226983</td>\n",
       "      <td>54.226983</td>\n",
       "      <td>0.881929</td>\n",
       "      <td>0.881929</td>\n",
       "      <td>0.895645</td>\n",
       "      <td>54.226983</td>\n",
       "      <td>0.906336</td>\n",
       "      <td>0.906336</td>\n",
       "      <td>0.603859</td>\n",
       "    </tr>\n",
       "  </tbody>\n",
       "</table>\n",
       "</div>"
      ],
      "text/plain": [
       "          algorithm  top_n  fitness_tok.perc_fit_traces  \\\n",
       "0       alpha_miner     10                    54.226983   \n",
       "1   inductive_miner     10                    80.341633   \n",
       "2  heuristics_miner     10                    54.226983   \n",
       "\n",
       "   fitness_tok.average_trace_fitness  fitness_tok.log_fitness  \\\n",
       "0                           0.930646                 0.943669   \n",
       "1                           0.981456                 0.981739   \n",
       "2                           0.930646                 0.943669   \n",
       "\n",
       "   fitness_tok.percentage_of_fitting_traces  fitness_align.perc_fit_traces  \\\n",
       "0                                 54.226983                      54.226983   \n",
       "1                                 80.341633                      80.341633   \n",
       "2                                 54.226983                      54.226983   \n",
       "\n",
       "   fitness_align.average_trace_fitness  fitness_align.average_fitness  \\\n",
       "0                             0.881929                       0.881929   \n",
       "1                             0.965859                       0.965859   \n",
       "2                             0.881929                       0.881929   \n",
       "\n",
       "   fitness_align.log_fitness  fitness_align.percentage_of_fitting_traces  \\\n",
       "0                   0.895645                                   54.226983   \n",
       "1                   0.967851                                   80.341633   \n",
       "2                   0.895645                                   54.226983   \n",
       "\n",
       "   precision_token_replay  precision_alignments  generalization_tbr  \n",
       "0                0.906336              0.906336            0.603859  \n",
       "1                0.728653              0.728653            0.928440  \n",
       "2                0.906336              0.906336            0.603859  "
      ]
     },
     "execution_count": 2,
     "metadata": {},
     "output_type": "execute_result"
    }
   ],
   "source": [
    "df = pd.read_csv(\"temp_conf.csv\")\n",
    "df.head()"
   ]
  },
  {
   "cell_type": "code",
   "execution_count": 5,
   "id": "384f4ee2",
   "metadata": {},
   "outputs": [],
   "source": [
    "# round all the numeric columns to 2 decimal places , if the values are greater than 5 then round to 1 decimal place\n",
    "for col in df.select_dtypes(include=['float64', 'int64']).columns:\n",
    "    df[col] = df[col].apply(lambda x: round(x) if x > 5 else round(x, 2))"
   ]
  },
  {
   "cell_type": "code",
   "execution_count": 7,
   "id": "f790030d",
   "metadata": {},
   "outputs": [
    {
     "name": "stdout",
     "output_type": "stream",
     "text": [
      "File saved successfully with rounded values.\n"
     ]
    }
   ],
   "source": [
    "df.to_csv(\"temp_conf.csv\", index=False)\n",
    "print(\"File saved successfully with rounded values.\")"
   ]
  },
  {
   "cell_type": "code",
   "execution_count": null,
   "id": "b4245d61",
   "metadata": {},
   "outputs": [],
   "source": []
  }
 ],
 "metadata": {
  "kernelspec": {
   "display_name": "ml",
   "language": "python",
   "name": "python3"
  },
  "language_info": {
   "codemirror_mode": {
    "name": "ipython",
    "version": 3
   },
   "file_extension": ".py",
   "mimetype": "text/x-python",
   "name": "python",
   "nbconvert_exporter": "python",
   "pygments_lexer": "ipython3",
   "version": "3.10.11"
  }
 },
 "nbformat": 4,
 "nbformat_minor": 5
}
