{
 "cells": [
  {
   "cell_type": "code",
   "execution_count": 3,
   "metadata": {},
   "outputs": [],
   "source": [
    "import pandas as pd\n",
    "\n",
    "import statsmodels.stats.multicomp as mc\n",
    "import matplotlib.pyplot as plt\n",
    "import statsmodels.api as sm\n",
    "import numpy as np\n",
    "from scipy.stats import t, chi2"
   ]
  },
  {
   "cell_type": "code",
   "execution_count": 4,
   "metadata": {},
   "outputs": [
    {
     "data": {
      "text/html": [
       "<div>\n",
       "<style scoped>\n",
       "    .dataframe tbody tr th:only-of-type {\n",
       "        vertical-align: middle;\n",
       "    }\n",
       "\n",
       "    .dataframe tbody tr th {\n",
       "        vertical-align: top;\n",
       "    }\n",
       "\n",
       "    .dataframe thead th {\n",
       "        text-align: right;\n",
       "    }\n",
       "</style>\n",
       "<table border=\"1\" class=\"dataframe\">\n",
       "  <thead>\n",
       "    <tr style=\"text-align: right;\">\n",
       "      <th></th>\n",
       "      <th>English_Plant</th>\n",
       "      <th>Mexico_Plant</th>\n",
       "      <th>Vietnam_Plant</th>\n",
       "      <th>China_Plant</th>\n",
       "    </tr>\n",
       "  </thead>\n",
       "  <tbody>\n",
       "    <tr>\n",
       "      <th>0</th>\n",
       "      <td>98</td>\n",
       "      <td>93</td>\n",
       "      <td>79</td>\n",
       "      <td>89</td>\n",
       "    </tr>\n",
       "    <tr>\n",
       "      <th>1</th>\n",
       "      <td>95</td>\n",
       "      <td>95</td>\n",
       "      <td>84</td>\n",
       "      <td>92</td>\n",
       "    </tr>\n",
       "    <tr>\n",
       "      <th>2</th>\n",
       "      <td>96</td>\n",
       "      <td>91</td>\n",
       "      <td>67</td>\n",
       "      <td>85</td>\n",
       "    </tr>\n",
       "    <tr>\n",
       "      <th>3</th>\n",
       "      <td>91</td>\n",
       "      <td>91</td>\n",
       "      <td>83</td>\n",
       "      <td>87</td>\n",
       "    </tr>\n",
       "    <tr>\n",
       "      <th>4</th>\n",
       "      <td>99</td>\n",
       "      <td>92</td>\n",
       "      <td>77</td>\n",
       "      <td>84</td>\n",
       "    </tr>\n",
       "  </tbody>\n",
       "</table>\n",
       "</div>"
      ],
      "text/plain": [
       "   English_Plant  Mexico_Plant  Vietnam_Plant  China_Plant\n",
       "0             98            93             79           89\n",
       "1             95            95             84           92\n",
       "2             96            91             67           85\n",
       "3             91            91             83           87\n",
       "4             99            92             77           84"
      ]
     },
     "execution_count": 4,
     "metadata": {},
     "output_type": "execute_result"
    }
   ],
   "source": [
    "# Creating the DataFrame\n",
    "data = {\n",
    "    \"English_Plant\": [98, 95, 96, 91, 99],\n",
    "    \"Mexico_Plant\": [93, 95, 91, 91, 92],\n",
    "    \"Vietnam_Plant\": [79, 84, 67, 83, 77],\n",
    "    \"China_Plant\": [89, 92, 85, 87, 84]\n",
    "}\n",
    "\n",
    "df = pd.DataFrame(data)\n",
    "\n",
    "# Display the DataFrame\n",
    "df"
   ]
  },
  {
   "cell_type": "code",
   "execution_count": 5,
   "metadata": {},
   "outputs": [],
   "source": [
    "df_melt = df.melt(var_name='plant', value_name='score')"
   ]
  },
  {
   "cell_type": "code",
   "execution_count": 6,
   "metadata": {},
   "outputs": [
    {
     "name": "stdout",
     "output_type": "stream",
     "text": [
      "        Multiple Comparison of Means - Tukey HSD, FWER=0.05         \n",
      "====================================================================\n",
      "    group1        group2    meandiff p-adj   lower    upper   reject\n",
      "--------------------------------------------------------------------\n",
      "  China_Plant English_Plant      8.4 0.0257   0.8956  15.9044   True\n",
      "  China_Plant  Mexico_Plant      5.0 0.2643  -2.5044  12.5044  False\n",
      "  China_Plant Vietnam_Plant     -9.4 0.0119 -16.9044  -1.8956   True\n",
      "English_Plant  Mexico_Plant     -3.4 0.5782 -10.9044   4.1044  False\n",
      "English_Plant Vietnam_Plant    -17.8    0.0 -25.3044 -10.2956   True\n",
      " Mexico_Plant Vietnam_Plant    -14.4 0.0003 -21.9044  -6.8956   True\n",
      "--------------------------------------------------------------------\n"
     ]
    }
   ],
   "source": [
    "# Perform Tukey's HSD Test as a substitute for Duncan's Test\n",
    "comp = mc.MultiComparison(df_melt['score'], df_melt['plant'])\n",
    "tukey_result = comp.tukeyhsd()\n",
    "\n",
    "# Print the results of Tukey's test\n",
    "print(tukey_result.summary())"
   ]
  },
  {
   "cell_type": "code",
   "execution_count": 7,
   "metadata": {},
   "outputs": [
    {
     "name": "stdout",
     "output_type": "stream",
     "text": [
      "Deviations:\n",
      "   English_Plant  Mexico_Plant  Vietnam_Plant  China_Plant\n",
      "0            2.2           0.6            1.0          1.6\n",
      "1           -0.8           2.6            6.0          4.6\n",
      "2            0.2          -1.4          -11.0         -2.4\n",
      "3           -4.8          -1.4            5.0         -0.4\n",
      "4            3.2          -0.4           -1.0         -3.4\n",
      "\n",
      "Z-scores (normalized deviations):\n",
      "   English_Plant  Mexico_Plant  Vietnam_Plant  China_Plant\n",
      "0       0.706377      0.358569       0.147442     0.498542\n",
      "1      -0.256865      1.553797       0.884652     1.433307\n",
      "2       0.064216     -0.836660      -1.621862    -0.747812\n",
      "3      -1.541187     -0.836660       0.737210    -0.124635\n",
      "4       1.027458     -0.239046      -0.147442    -1.059401\n"
     ]
    }
   ],
   "source": [
    "# Calculate group means\n",
    "group_means = df.mean()\n",
    "\n",
    "# Calculate deviations for all scores\n",
    "deviations = df.apply(lambda col: col - group_means[col.name], axis=0)\n",
    "\n",
    "# Calculate standard deviation for each group\n",
    "group_std = df.std()\n",
    "\n",
    "# Normalize deviations by standard deviation (z-scores)\n",
    "z_scores = deviations.apply(lambda col: col / group_std[col.name], axis=0)\n",
    "\n",
    "# Display deviations and z-scores\n",
    "print(\"Deviations:\")\n",
    "print(deviations)\n",
    "print(\"\\nZ-scores (normalized deviations):\")\n",
    "print(z_scores)"
   ]
  },
  {
   "cell_type": "code",
   "execution_count": 8,
   "metadata": {},
   "outputs": [
    {
     "data": {
      "image/png": "[encoded data removed]",
      "text/plain": [
       "<Figure size 640x480 with 1 Axes>"
      ]
     },
     "metadata": {},
     "output_type": "display_data"
    }
   ],
   "source": [
    "all_scores = df.values.flatten()\n",
    "\n",
    "# Generate the QQ plot\n",
    "sm.qqplot(all_scores, line='s')\n",
    "\n",
    "# Add title and display the plot\n",
    "plt.title('QQ Plot of Quality Scores')\n",
    "plt.show()"
   ]
  },
  {
   "cell_type": "code",
   "execution_count": 9,
   "metadata": {},
   "outputs": [
    {
     "name": "stdout",
     "output_type": "stream",
     "text": [
      "Overall Mean (ȳ): 88.4\n",
      "Means per Plant (ȳ_i): {'English_Plant': 95.8, 'Mexico_Plant': 92.4, 'Vietnam_Plant': 78.0, 'China_Plant': 87.4}\n",
      "MSE: 17.2\n",
      "Confidence Interval for μ: (86.43408070084448, 90.36591929915554)\n",
      "Confidence Intervals for τ_i: {'English_Plant': (3.0040708088094767, 11.795929191190506), 'Mexico_Plant': (-0.39592919119051473, 8.395929191190515), 'Vietnam_Plant': (-14.79592919119052, -6.004070808809491), 'China_Plant': (-5.395929191190515, 3.3959291911905147)}\n",
      "Confidence Interval for σ^2: (9.540532290242052, 39.8398048771261)\n"
     ]
    }
   ],
   "source": [
    "# Overall mean (ȳ)\n",
    "overall_mean = df.values.flatten().mean()\n",
    "\n",
    "# Mean for each plant (ȳ_i)\n",
    "means_per_plant = df.mean()\n",
    "\n",
    "# Total Mean Square Error (MSE)\n",
    "n, a = df.shape  # n: number of observations per plant, a: number of plants\n",
    "N = n * a  # Total number of observations\n",
    "residuals = df.subtract(means_per_plant, axis=1)\n",
    "SSE = (residuals**2).sum().sum()\n",
    "MSE = SSE / (N - a)\n",
    "\n",
    "# Confidence Intervals for Overall Mean (μ)\n",
    "alpha = 0.05  # 95% confidence level\n",
    "t_critical = t.ppf(1 - alpha / 2, df=N - a)\n",
    "ci_mu_lower = overall_mean - t_critical * np.sqrt(MSE / N)\n",
    "ci_mu_upper = overall_mean + t_critical * np.sqrt(MSE / N)\n",
    "\n",
    "# Confidence Intervals for Treatment Effects (τ_i)\n",
    "ci_tau = {}\n",
    "for plant, mean in means_per_plant.items():\n",
    "    ci_tau_lower = mean - overall_mean - t_critical * np.sqrt(MSE * (1/n + 1/N))\n",
    "    ci_tau_upper = mean - overall_mean + t_critical * np.sqrt(MSE * (1/n + 1/N))\n",
    "    ci_tau[plant] = (ci_tau_lower, ci_tau_upper)\n",
    "\n",
    "# Confidence Intervals for Variance (σ^2)\n",
    "chi2_lower = chi2.ppf(alpha / 2, df=(N - a))\n",
    "chi2_upper = chi2.ppf(1 - alpha / 2, df=(N - a))\n",
    "ci_variance_lower = (N - a) * MSE / chi2_upper\n",
    "ci_variance_upper = (N - a) * MSE / chi2_lower\n",
    "\n",
    "# Displaying Results\n",
    "results = {\n",
    "    \"Overall Mean (ȳ)\": overall_mean,\n",
    "    \"Means per Plant (ȳ_i)\": means_per_plant.to_dict(),\n",
    "    \"MSE\": MSE,\n",
    "    \"Confidence Interval for μ\": (ci_mu_lower, ci_mu_upper),\n",
    "    \"Confidence Intervals for τ_i\": ci_tau,\n",
    "    \"Confidence Interval for σ^2\": (ci_variance_lower, ci_variance_upper),\n",
    "}\n",
    "\n",
    "# Display results\n",
    "for key, value in results.items():\n",
    "    print(f\"{key}: {value}\")"
   ]
  },
  {
   "cell_type": "code",
   "execution_count": 10,
   "metadata": {},
   "outputs": [
    {
     "data": {
      "text/plain": [
       "{'Mean Square for Treatments (MS_tr)': 299.86666666666673,\n",
       " 'Variance Ratio (σ_τ^2 / σ^2)': 16.434108527131787,\n",
       " 'Standard Deviation Ratio (σ_τ / σ)': 1.8129593777650832}"
      ]
     },
     "execution_count": 10,
     "metadata": {},
     "output_type": "execute_result"
    }
   ],
   "source": [
    "# Mean Square for Treatments (MS_tr)\n",
    "treatment_mean_diffs = means_per_plant - overall_mean\n",
    "SSTr = n * (treatment_mean_diffs**2).sum()\n",
    "MS_tr = SSTr / (a - 1)\n",
    "\n",
    "# Ratio of variances (σ_τ^2 / σ^2)\n",
    "variance_ratio = (MS_tr / MSE) - 1\n",
    "std_ratio = np.sqrt(variance_ratio / n)  # √(σ_τ^2 / σ^2)\n",
    "\n",
    "# Displaying the results\n",
    "ratio_results = {\n",
    "    \"Mean Square for Treatments (MS_tr)\": MS_tr,\n",
    "    \"Variance Ratio (σ_τ^2 / σ^2)\": variance_ratio,\n",
    "    \"Standard Deviation Ratio (σ_τ / σ)\": std_ratio,\n",
    "}\n",
    "\n",
    "ratio_results\n"
   ]
  },
  {
   "cell_type": "code",
   "execution_count": null,
   "metadata": {},
   "outputs": [],
   "source": []
  }
 ],
 "metadata": {
  "kernelspec": {
   "display_name": "py310",
   "language": "python",
   "name": "python3"
  },
  "language_info": {
   "codemirror_mode": {
    "name": "ipython",
    "version": 3
   },
   "file_extension": ".py",
   "mimetype": "text/x-python",
   "name": "python",
   "nbconvert_exporter": "python",
   "pygments_lexer": "ipython3",
   "version": "3.10.0"
  }
 },
 "nbformat": 4,
 "nbformat_minor": 2
}
