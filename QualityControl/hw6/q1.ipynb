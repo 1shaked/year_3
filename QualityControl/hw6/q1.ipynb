{
 "cells": [
  {
   "cell_type": "code",
   "execution_count": 27,
   "metadata": {},
   "outputs": [],
   "source": [
    "import pandas as pd\n",
    "import statsmodels.api as sm\n",
    "from statsmodels.formula.api import ols\n",
    "from scipy.stats import f_oneway\n",
    "from scipy.stats import norm\n",
    "import statsmodels.stats.multicomp as mc\n"
   ]
  },
  {
   "cell_type": "code",
   "execution_count": 28,
   "metadata": {},
   "outputs": [],
   "source": [
    "# Manually creating the table based on the provided image\n",
    "data = [\n",
    "    [6.7, 14.2, 11.5, 8.6],\n",
    "    [9.1, 13.9, 12.7, 14.1],\n",
    "    [4.8, 12.5, 16.3, 9.4],\n",
    "    [5.6, 9.6, 14.4, 12.0],\n",
    "    [7.2, 11.2, 15.1, 7.9],\n",
    "    [5.1, 13.1, 9.3, 13.3],\n",
    "    [8.8, 18.6, 8.9, 11.4],\n",
    "    [7.4, 16.2, 14.5, 11.7]\n",
    "]\n",
    "\n",
    "# Creating a DataFrame\n",
    "df = pd.DataFrame(data, columns=[\"control\", \"z\", \"y\", \"x\"])"
   ]
  },
  {
   "cell_type": "code",
   "execution_count": 29,
   "metadata": {},
   "outputs": [
    {
     "data": {
      "text/html": [
       "<div>\n",
       "<style scoped>\n",
       "    .dataframe tbody tr th:only-of-type {\n",
       "        vertical-align: middle;\n",
       "    }\n",
       "\n",
       "    .dataframe tbody tr th {\n",
       "        vertical-align: top;\n",
       "    }\n",
       "\n",
       "    .dataframe thead th {\n",
       "        text-align: right;\n",
       "    }\n",
       "</style>\n",
       "<table border=\"1\" class=\"dataframe\">\n",
       "  <thead>\n",
       "    <tr style=\"text-align: right;\">\n",
       "      <th></th>\n",
       "      <th>control</th>\n",
       "      <th>z</th>\n",
       "      <th>y</th>\n",
       "      <th>x</th>\n",
       "    </tr>\n",
       "  </thead>\n",
       "  <tbody>\n",
       "    <tr>\n",
       "      <th>0</th>\n",
       "      <td>6.7</td>\n",
       "      <td>14.2</td>\n",
       "      <td>11.5</td>\n",
       "      <td>8.6</td>\n",
       "    </tr>\n",
       "    <tr>\n",
       "      <th>1</th>\n",
       "      <td>9.1</td>\n",
       "      <td>13.9</td>\n",
       "      <td>12.7</td>\n",
       "      <td>14.1</td>\n",
       "    </tr>\n",
       "    <tr>\n",
       "      <th>2</th>\n",
       "      <td>4.8</td>\n",
       "      <td>12.5</td>\n",
       "      <td>16.3</td>\n",
       "      <td>9.4</td>\n",
       "    </tr>\n",
       "    <tr>\n",
       "      <th>3</th>\n",
       "      <td>5.6</td>\n",
       "      <td>9.6</td>\n",
       "      <td>14.4</td>\n",
       "      <td>12.0</td>\n",
       "    </tr>\n",
       "    <tr>\n",
       "      <th>4</th>\n",
       "      <td>7.2</td>\n",
       "      <td>11.2</td>\n",
       "      <td>15.1</td>\n",
       "      <td>7.9</td>\n",
       "    </tr>\n",
       "    <tr>\n",
       "      <th>5</th>\n",
       "      <td>5.1</td>\n",
       "      <td>13.1</td>\n",
       "      <td>9.3</td>\n",
       "      <td>13.3</td>\n",
       "    </tr>\n",
       "    <tr>\n",
       "      <th>6</th>\n",
       "      <td>8.8</td>\n",
       "      <td>18.6</td>\n",
       "      <td>8.9</td>\n",
       "      <td>11.4</td>\n",
       "    </tr>\n",
       "    <tr>\n",
       "      <th>7</th>\n",
       "      <td>7.4</td>\n",
       "      <td>16.2</td>\n",
       "      <td>14.5</td>\n",
       "      <td>11.7</td>\n",
       "    </tr>\n",
       "  </tbody>\n",
       "</table>\n",
       "</div>"
      ],
      "text/plain": [
       "   control     z     y     x\n",
       "0      6.7  14.2  11.5   8.6\n",
       "1      9.1  13.9  12.7  14.1\n",
       "2      4.8  12.5  16.3   9.4\n",
       "3      5.6   9.6  14.4  12.0\n",
       "4      7.2  11.2  15.1   7.9\n",
       "5      5.1  13.1   9.3  13.3\n",
       "6      8.8  18.6   8.9  11.4\n",
       "7      7.4  16.2  14.5  11.7"
      ]
     },
     "execution_count": 29,
     "metadata": {},
     "output_type": "execute_result"
    }
   ],
   "source": [
    "df"
   ]
  },
  {
   "cell_type": "code",
   "execution_count": 30,
   "metadata": {},
   "outputs": [
    {
     "data": {
      "text/plain": [
       "F_onewayResult(statistic=2.0661816712134993, pvalue=0.17257203321426834)"
      ]
     },
     "execution_count": 30,
     "metadata": {},
     "output_type": "execute_result"
    }
   ],
   "source": [
    "\n",
    "# Perform ANOVA test between Col2 and Col3\n",
    "anova_result = f_oneway(df['x'], df['y'])\n",
    "\n",
    "# Display the ANOVA test results\n",
    "anova_result\n"
   ]
  },
  {
   "cell_type": "code",
   "execution_count": 31,
   "metadata": {},
   "outputs": [
    {
     "name": "stdout",
     "output_type": "stream",
     "text": [
      "The p-value is 0.1726 which is less than 0.05, so we reject the null hypothesis.\n"
     ]
    }
   ],
   "source": [
    "print(f'The p-value is {anova_result.pvalue:.4f} which is less than 0.05, so we reject the null hypothesis.')"
   ]
  },
  {
   "cell_type": "code",
   "execution_count": 32,
   "metadata": {},
   "outputs": [],
   "source": [
    "avg_z = df['z'].mean()\n",
    "std_z = df['z'].std()"
   ]
  },
  {
   "cell_type": "code",
   "execution_count": 33,
   "metadata": {},
   "outputs": [
    {
     "data": {
      "text/plain": [
       "(13.6625, 2.813202293269566)"
      ]
     },
     "execution_count": 33,
     "metadata": {},
     "output_type": "execute_result"
    }
   ],
   "source": [
    "avg_z, std_z"
   ]
  },
  {
   "cell_type": "code",
   "execution_count": 34,
   "metadata": {},
   "outputs": [
    {
     "name": "stdout",
     "output_type": "stream",
     "text": [
      "The probability of a value in the z column being more then the 14.37 is 0.4002\n"
     ]
    }
   ],
   "source": [
    "# assume avg_z is the mean of the z column and std_z is the standard deviation of the z column\n",
    "# calculate the z-score for each value in the z column\n",
    "z_scores = (14.374 - avg_z) / std_z\n",
    "p_less_avg = norm.cdf(z_scores)\n",
    "p_greater_avg = 1 - p_less_avg\n",
    "print(f'The probability of a value in the z column being more then the 14.37 is {p_greater_avg.mean():.4f}')"
   ]
  },
  {
   "cell_type": "code",
   "execution_count": null,
   "metadata": {},
   "outputs": [],
   "source": []
  },
  {
   "cell_type": "code",
   "execution_count": 35,
   "metadata": {},
   "outputs": [
    {
     "name": "stdout",
     "output_type": "stream",
     "text": [
      "Values: [6.7, 9.1, 4.8, 5.6, 7.2, 5.1, 8.8, 7.4, 14.2, 13.9, 12.5, 9.6, 11.2, 13.1, 18.6, 16.2, 11.5, 12.7, 16.3, 14.4, 15.1, 9.3, 8.9, 14.5, 8.6, 14.1, 9.4, 12.0, 7.9, 13.3, 11.4, 11.7]\n",
      "Labels: ['control', 'control', 'control', 'control', 'control', 'control', 'control', 'control', 'z', 'z', 'z', 'z', 'z', 'z', 'z', 'z', 'y', 'y', 'y', 'y', 'y', 'y', 'y', 'y', 'x', 'x', 'x', 'x', 'x', 'x', 'x', 'x']\n"
     ]
    }
   ],
   "source": [
    "values = list(df['control'].values) + list(df['z'].values) + list(df['y'].values) + list(df['x'].values)\n",
    "labels = ['control' for _  in df['control'].values] + ['z' for _  in df['z'].values] + ['y' for _  in df['y'].values] + ['x' for _  in df['x'].values]\n",
    "print(f'Values: {values}')\n",
    "print(f'Labels: {labels}')"
   ]
  },
  {
   "cell_type": "code",
   "execution_count": 38,
   "metadata": {},
   "outputs": [
    {
     "name": "stdout",
     "output_type": "stream",
     "text": [
      " Multiple Comparison of Means - Tukey HSD, FWER=0.05 \n",
      "=====================================================\n",
      " group1 group2 meandiff p-adj   lower   upper  reject\n",
      "-----------------------------------------------------\n",
      "control      x   4.2125 0.0076  0.9478  7.4772   True\n",
      "control      y      6.0 0.0001  2.7353  9.2647   True\n",
      "control      z    6.825    0.0  3.5603 10.0897   True\n",
      "      x      y   1.7875 0.4539 -1.4772  5.0522  False\n",
      "      x      z   2.6125 0.1522 -0.6522  5.8772  False\n",
      "      y      z    0.825 0.9001 -2.4397  4.0897  False\n",
      "-----------------------------------------------------\n"
     ]
    }
   ],
   "source": [
    "# Perform Tukey's HSD Test\n",
    "comp = mc.MultiComparison(values, labels)\n",
    "tukey_result = comp.tukeyhsd()\n",
    "\n",
    "# Print the test results\n",
    "print(tukey_result.summary())\n"
   ]
  },
  {
   "cell_type": "code",
   "execution_count": null,
   "metadata": {},
   "outputs": [],
   "source": []
  },
  {
   "cell_type": "code",
   "execution_count": null,
   "metadata": {},
   "outputs": [],
   "source": []
  }
 ],
 "metadata": {
  "kernelspec": {
   "display_name": "py310",
   "language": "python",
   "name": "python3"
  },
  "language_info": {
   "codemirror_mode": {
    "name": "ipython",
    "version": 3
   },
   "file_extension": ".py",
   "mimetype": "text/x-python",
   "name": "python",
   "nbconvert_exporter": "python",
   "pygments_lexer": "ipython3",
   "version": "3.10.0"
  }
 },
 "nbformat": 4,
 "nbformat_minor": 2
}
