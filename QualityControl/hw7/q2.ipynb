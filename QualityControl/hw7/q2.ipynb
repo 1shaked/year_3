{
 "cells": [
  {
   "cell_type": "code",
   "execution_count": 5,
   "metadata": {},
   "outputs": [],
   "source": [
    "import pandas as pd\n",
    "import statsmodels.api as sm\n",
    "from statsmodels.formula.api import ols\n",
    "from scipy.stats import t\n",
    "\n"
   ]
  },
  {
   "cell_type": "code",
   "execution_count": 6,
   "metadata": {},
   "outputs": [],
   "source": [
    "\n",
    "# Step 1: Organize the data\n",
    "data = pd.DataFrame({\n",
    "    \"exam_score\": [93, 89, 88, 91, 86, 92, 97, 93, 79, 84, 94, 94],\n",
    "    \"university\": [\"A\", \"A\", \"B\", \"A\", \"A\", \"C\", \"C\", \"B\", \"A\", \"B\", \"C\", \"A\"],\n",
    "    \"degree\": [\"Software Engineering\", \"Software Engineering\", \"Computer Science\", \"Software Engineering\", \"Software Engineering\", \"Computer Science\", \"Computer Science\", \"Computer Science\", \"Software Engineering\", \"Computer Science\", \"Software Engineering\", \"Software Engineering\"],\n",
    "    \"age\": [35, 30, 28, 34, 26, 37, 39, 36, 24, 29, 29, 29],\n",
    "    \"experience\": [1, 2, 3, 2, 1, 4, 5, 5, 1, 2, 2, 3]\n",
    "})\n",
    "\n"
   ]
  },
  {
   "cell_type": "code",
   "execution_count": 7,
   "metadata": {},
   "outputs": [
    {
     "name": "stdout",
     "output_type": "stream",
     "text": [
      "One-Way ANOVA Results:\n",
      "                sum_sq   df         F    PR(>F)\n",
      "university   75.333333  2.0  1.640323  0.246943\n",
      "Residual    206.666667  9.0       NaN       NaN\n"
     ]
    }
   ],
   "source": [
    "# Step 2: Specify the One-Way ANOVA model\n",
    "formula = \"exam_score ~ university\"\n",
    "model = ols(formula, data=data).fit()\n",
    "\n",
    "# Step 3: Perform the ANOVA\n",
    "table = sm.stats.anova_lm(model, typ=2)  # Type II sums of squares\n",
    "print(\"One-Way ANOVA Results:\")\n",
    "print(table)"
   ]
  },
  {
   "cell_type": "code",
   "execution_count": 8,
   "metadata": {},
   "outputs": [
    {
     "name": "stdout",
     "output_type": "stream",
     "text": [
      "One-Way ANOVA Results:\n",
      "              sum_sq    df         F    PR(>F)\n",
      "degree      5.485714   1.0  0.198388  0.665512\n",
      "Residual  276.514286  10.0       NaN       NaN\n"
     ]
    }
   ],
   "source": [
    "# Step 2: Specify the One-Way ANOVA model\n",
    "formula = \"exam_score ~ degree\"\n",
    "model = ols(formula, data=data).fit()\n",
    "\n",
    "# Step 3: Perform the ANOVA\n",
    "table = sm.stats.anova_lm(model, typ=2)  # Type II sums of squares\n",
    "print(\"One-Way ANOVA Results:\")\n",
    "print(table)"
   ]
  },
  {
   "cell_type": "code",
   "execution_count": 13,
   "metadata": {},
   "outputs": [
    {
     "name": "stdout",
     "output_type": "stream",
     "text": [
      "One-Way ANOVA Results:\n",
      "            df      sum_sq     mean_sq          F    PR(>F)\n",
      "age        1.0  160.234332  160.234332  13.159237  0.004631\n",
      "Residual  10.0  121.765668   12.176567        NaN       NaN\n"
     ]
    }
   ],
   "source": [
    "# Step 2: Specify the One-Way ANOVA model\n",
    "formula = \"exam_score ~ age\"\n",
    "model = ols(formula, data=data).fit()\n",
    "\n",
    "# Step 3: Perform the ANOVA\n",
    "table = sm.stats.anova_lm(model, typ=2)  # Type II sums of squares\n",
    "print(\"One-Way ANOVA Results:\")\n",
    "print(table)"
   ]
  },
  {
   "cell_type": "code",
   "execution_count": 14,
   "metadata": {},
   "outputs": [
    {
     "name": "stdout",
     "output_type": "stream",
     "text": [
      "One-Way ANOVA Results:\n",
      "                sum_sq    df         F    PR(>F)\n",
      "experience  100.538182   1.0  5.540459  0.040377\n",
      "Residual    181.461818  10.0       NaN       NaN\n"
     ]
    }
   ],
   "source": [
    "# Step 2: Specify the One-Way ANOVA model\n",
    "formula = \"exam_score ~ experience\"\n",
    "model = ols(formula, data=data).fit()\n",
    "\n",
    "# Step 3: Perform the ANOVA\n",
    "table = sm.stats.anova_lm(model, typ=2)  # Type II sums of squares\n",
    "print(\"One-Way ANOVA Results:\")\n",
    "print(table)"
   ]
  },
  {
   "cell_type": "code",
   "execution_count": 9,
   "metadata": {},
   "outputs": [
    {
     "name": "stdout",
     "output_type": "stream",
     "text": [
      "                        sum_sq   df          F    PR(>F)\n",
      "degree                     NaN  1.0        NaN       NaN\n",
      "university         3892.823264  2.0  75.405778  0.000024\n",
      "degree:university   649.554726  2.0  12.582174  0.007541\n",
      "Residual            206.500000  8.0        NaN       NaN\n"
     ]
    },
    {
     "name": "stderr",
     "output_type": "stream",
     "text": [
      "/opt/anaconda3/envs/py310/lib/python3.10/site-packages/statsmodels/base/model.py:1894: ValueWarning: covariance of constraints does not have full rank. The number of constraints is 1, but rank is 0\n",
      "  warnings.warn('covariance of constraints does not have full '\n",
      "/opt/anaconda3/envs/py310/lib/python3.10/site-packages/statsmodels/base/model.py:1923: RuntimeWarning: invalid value encountered in divide\n",
      "  F /= J\n",
      "/opt/anaconda3/envs/py310/lib/python3.10/site-packages/statsmodels/base/model.py:1894: ValueWarning: covariance of constraints does not have full rank. The number of constraints is 2, but rank is 1\n",
      "  warnings.warn('covariance of constraints does not have full '\n",
      "/opt/anaconda3/envs/py310/lib/python3.10/site-packages/statsmodels/base/model.py:1894: ValueWarning: covariance of constraints does not have full rank. The number of constraints is 2, but rank is 1\n",
      "  warnings.warn('covariance of constraints does not have full '\n"
     ]
    }
   ],
   "source": [
    "# Step 2: Specify the Two-Way ANOVA model with interaction\n",
    "formula = \"exam_score ~ degree + university + degree:university\"\n",
    "model = ols(formula, data=data).fit()\n",
    "\n",
    "# Step 3: Perform the ANOVA\n",
    "table = sm.stats.anova_lm(model, typ=2)  # Type II sums of squares\n",
    "print(table)"
   ]
  },
  {
   "cell_type": "code",
   "execution_count": 12,
   "metadata": {},
   "outputs": [
    {
     "name": "stdout",
     "output_type": "stream",
     "text": [
      "                   sum_sq   df         F    PR(>F)\n",
      "age             62.885478  1.0  5.251571  0.051135\n",
      "experience       3.189327  1.0  0.266341  0.619754\n",
      "age:experience  22.779521  1.0  1.902320  0.205146\n",
      "Residual        95.796819  8.0       NaN       NaN\n"
     ]
    }
   ],
   "source": [
    "# Step 2: Specify the Two-Way ANOVA model with interaction\n",
    "formula = \"exam_score ~ age + experience + age:experience\"\n",
    "model = ols(formula, data=data).fit()\n",
    "\n",
    "# Step 3: Perform the ANOVA\n",
    "table = sm.stats.anova_lm(model, typ=2)  # Type II sums of squares\n",
    "print(table)"
   ]
  },
  {
   "cell_type": "code",
   "execution_count": null,
   "metadata": {},
   "outputs": [],
   "source": []
  }
 ],
 "metadata": {
  "kernelspec": {
   "display_name": "py310",
   "language": "python",
   "name": "python3"
  },
  "language_info": {
   "codemirror_mode": {
    "name": "ipython",
    "version": 3
   },
   "file_extension": ".py",
   "mimetype": "text/x-python",
   "name": "python",
   "nbconvert_exporter": "python",
   "pygments_lexer": "ipython3",
   "version": "3.10.0"
  }
 },
 "nbformat": 4,
 "nbformat_minor": 2
}
