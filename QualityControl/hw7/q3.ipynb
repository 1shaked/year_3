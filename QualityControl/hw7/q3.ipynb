{
 "cells": [
  {
   "cell_type": "code",
   "execution_count": 11,
   "metadata": {},
   "outputs": [],
   "source": [
    "import pandas as pd\n",
    "import statsmodels.api as sm\n",
    "from statsmodels.formula.api import ols\n",
    "from statsmodels.formula.api import mixedlm\n",
    "\n",
    "from scipy.stats import f_oneway\n",
    "data = [\n",
    "    {\"branch\": \"Rehovot\", \"server\": \"Shira\", \"tips\": 20},\n",
    "    {\"branch\": \"Rehovot\", \"server\": \"Shira\", \"tips\": 21},\n",
    "    {\"branch\": \"Rehovot\", \"server\": \"Shira\", \"tips\": 27},\n",
    "    {\"branch\": \"Rehovot\", \"server\": \"Shira\", \"tips\": 40},\n",
    "    {\"branch\": \"Rehovot\", \"server\": \"Shira\", \"tips\": 30},\n",
    "    {\"branch\": \"Rehovot\", \"server\": \"Shira\", \"tips\": 20},\n",
    "    {\"branch\": \"Rehovot\", \"server\": \"Sharon\", \"tips\": 23},\n",
    "    {\"branch\": \"Rehovot\", \"server\": \"Sharon\", \"tips\": 31},\n",
    "    {\"branch\": \"Rehovot\", \"server\": \"Sharon\", \"tips\": 31},\n",
    "    {\"branch\": \"Rehovot\", \"server\": \"Sharon\", \"tips\": 24},\n",
    "    {\"branch\": \"Rehovot\", \"server\": \"Sharon\", \"tips\": 38},\n",
    "    {\"branch\": \"Rehovot\", \"server\": \"Sharon\", \"tips\": 21},\n",
    "    {\"branch\": \"Herzliya\", \"server\": \"Sivan\", \"tips\": 30},\n",
    "    {\"branch\": \"Herzliya\", \"server\": \"Sivan\", \"tips\": 31},\n",
    "    {\"branch\": \"Herzliya\", \"server\": \"Sivan\", \"tips\": 36},\n",
    "    {\"branch\": \"Herzliya\", \"server\": \"Sivan\", \"tips\": 29},\n",
    "    {\"branch\": \"Herzliya\", \"server\": \"Sivan\", \"tips\": 31},\n",
    "    {\"branch\": \"Herzliya\", \"server\": \"Sivan\", \"tips\": 31},\n",
    "    {\"branch\": \"Herzliya\", \"server\": \"Sapir\", \"tips\": 36},\n",
    "    {\"branch\": \"Herzliya\", \"server\": \"Sapir\", \"tips\": 50},\n",
    "    {\"branch\": \"Herzliya\", \"server\": \"Sapir\", \"tips\": 36},\n",
    "    {\"branch\": \"Herzliya\", \"server\": \"Sapir\", \"tips\": 38},\n",
    "    {\"branch\": \"Herzliya\", \"server\": \"Sapir\", \"tips\": 50},\n",
    "    {\"branch\": \"Herzliya\", \"server\": \"Sapir\", \"tips\": 50},\n",
    "    {\"branch\": \"Tel Aviv\", \"server\": \"Alon\", \"tips\": 30},\n",
    "    {\"branch\": \"Tel Aviv\", \"server\": \"Alon\", \"tips\": 35},\n",
    "    {\"branch\": \"Tel Aviv\", \"server\": \"Alon\", \"tips\": 59},\n",
    "    {\"branch\": \"Tel Aviv\", \"server\": \"Alon\", \"tips\": 30},\n",
    "    {\"branch\": \"Tel Aviv\", \"server\": \"Alon\", \"tips\": 69},\n",
    "    {\"branch\": \"Tel Aviv\", \"server\": \"Alon\", \"tips\": 52},\n",
    "    {\"branch\": \"Tel Aviv\", \"server\": \"Ella\", \"tips\": 58},\n",
    "    {\"branch\": \"Tel Aviv\", \"server\": \"Ella\", \"tips\": 61},\n",
    "    {\"branch\": \"Tel Aviv\", \"server\": \"Ella\", \"tips\": 42},\n",
    "    {\"branch\": \"Tel Aviv\", \"server\": \"Ella\", \"tips\": 52},\n",
    "    {\"branch\": \"Tel Aviv\", \"server\": \"Ella\", \"tips\": 65},\n",
    "    {\"branch\": \"Tel Aviv\", \"server\": \"Ella\", \"tips\": 63}\n",
    "]\n",
    "\n",
    "# Step 1: Organize the data\n",
    "data = pd.DataFrame(data)\n",
    "# df = data"
   ]
  },
  {
   "cell_type": "code",
   "execution_count": 6,
   "metadata": {},
   "outputs": [
    {
     "name": "stdout",
     "output_type": "stream",
     "text": [
      "One-Way ANOVA Results for Branches:\n",
      "F-Statistic: 17.389, P-Value: 0.0000070\n"
     ]
    }
   ],
   "source": [
    "# Step 2: One-Way ANOVA for branches\n",
    "branch_means = data.groupby(\"branch\")[\"tips\"].mean()\n",
    "branch_groups = [group[\"tips\"].values for _, group in data.groupby(\"branch\")]\n",
    "\n",
    "# Perform One-Way ANOVA\n",
    "f_stat, p_value = f_oneway(*branch_groups)\n",
    "print(\"One-Way ANOVA Results for Branches:\")\n",
    "print(f\"F-Statistic: {f_stat:.3f}, P-Value: {p_value:.7f}\")"
   ]
  },
  {
   "cell_type": "code",
   "execution_count": 7,
   "metadata": {},
   "outputs": [
    {
     "name": "stdout",
     "output_type": "stream",
     "text": [
      "\n",
      "Two-Way ANOVA Results:\n",
      "                          sum_sq    df          F    PR(>F)\n",
      "C(branch)                    NaN   2.0        NaN       NaN\n",
      "C(server)            4603.152308   5.0  10.832363  0.002557\n",
      "C(branch):C(server)  1810.052910  10.0   2.129752  0.117293\n",
      "Residual             2549.666667  30.0        NaN       NaN\n"
     ]
    },
    {
     "name": "stderr",
     "output_type": "stream",
     "text": [
      "/opt/anaconda3/envs/py310/lib/python3.10/site-packages/statsmodels/base/model.py:1894: ValueWarning: covariance of constraints does not have full rank. The number of constraints is 2, but rank is 0\n",
      "  warnings.warn('covariance of constraints does not have full '\n",
      "/opt/anaconda3/envs/py310/lib/python3.10/site-packages/statsmodels/base/model.py:1923: RuntimeWarning: invalid value encountered in divide\n",
      "  F /= J\n",
      "/opt/anaconda3/envs/py310/lib/python3.10/site-packages/statsmodels/base/model.py:1894: ValueWarning: covariance of constraints does not have full rank. The number of constraints is 5, but rank is 1\n",
      "  warnings.warn('covariance of constraints does not have full '\n",
      "/opt/anaconda3/envs/py310/lib/python3.10/site-packages/statsmodels/base/model.py:1894: ValueWarning: covariance of constraints does not have full rank. The number of constraints is 10, but rank is 3\n",
      "  warnings.warn('covariance of constraints does not have full '\n"
     ]
    }
   ],
   "source": [
    "# Step 3: Two-Way ANOVA for branches and servers\n",
    "formula = \"tips ~ C(branch) + C(server) + C(branch):C(server)\"\n",
    "model = ols(formula, data=data).fit()\n",
    "two_way_table = sm.stats.anova_lm(model, typ=2)\n",
    "\n",
    "print(\"\\nTwo-Way ANOVA Results:\")\n",
    "print(two_way_table)\n"
   ]
  },
  {
   "cell_type": "code",
   "execution_count": 8,
   "metadata": {},
   "outputs": [
    {
     "data": {
      "text/plain": [
       "[array([30, 31, 36, 29, 31, 31, 36, 50, 36, 38, 50, 50]),\n",
       " array([20, 21, 27, 40, 30, 20, 23, 31, 31, 24, 38, 21]),\n",
       " array([30, 35, 59, 30, 69, 52, 58, 61, 42, 52, 65, 63])]"
      ]
     },
     "execution_count": 8,
     "metadata": {},
     "output_type": "execute_result"
    }
   ],
   "source": [
    "branch_groups"
   ]
  },
  {
   "cell_type": "code",
   "execution_count": 10,
   "metadata": {},
   "outputs": [
    {
     "name": "stdout",
     "output_type": "stream",
     "text": [
      "One-Way ANOVA Results:\n",
      "               sum_sq    df          F    PR(>F)\n",
      "server    4336.888889   5.0  10.205779  0.000009\n",
      "Residual  2549.666667  30.0        NaN       NaN\n"
     ]
    }
   ],
   "source": [
    "# Step 2: Specify the One-Way ANOVA model\n",
    "formula = \"tips ~ server\"\n",
    "model = ols(formula, data=data).fit()\n",
    "\n",
    "# Step 3: Perform the ANOVA\n",
    "table = sm.stats.anova_lm(model, typ=2)  # Type II sums of squares\n",
    "print(\"One-Way ANOVA Results:\")\n",
    "print(table)"
   ]
  },
  {
   "cell_type": "code",
   "execution_count": 12,
   "metadata": {},
   "outputs": [
    {
     "name": "stdout",
     "output_type": "stream",
     "text": [
      "             Mixed Linear Model Regression Results\n",
      "===============================================================\n",
      "Model:                MixedLM   Dependent Variable:   tips     \n",
      "No. Observations:     36        Method:               REML     \n",
      "No. Groups:           6         Scale:                84.9887  \n",
      "Min. group size:      6         Log-Likelihood:       -125.5754\n",
      "Max. group size:      6         Converged:            Yes      \n",
      "Mean group size:      6.0                                      \n",
      "---------------------------------------------------------------\n",
      "                    Coef.  Std.Err.   z    P>|z|  [0.025 0.975]\n",
      "---------------------------------------------------------------\n",
      "Intercept           37.333    4.724  7.903 0.000  28.075 46.592\n",
      "branch[T.Rehovot]  -10.167    6.681 -1.522 0.128 -23.260  2.927\n",
      "branch[T.Tel Aviv]  14.000    6.681  2.096 0.036   0.906 27.094\n",
      "Group Var           30.466    4.146                            \n",
      "===============================================================\n",
      "\n"
     ]
    }
   ],
   "source": [
    "# Fit a Mixed-Effects Model\n",
    "# Random effect: server (nested within branch)\n",
    "model = mixedlm(\"tips ~ branch\", data, groups=data[\"server\"])\n",
    "result = model.fit()\n",
    "\n",
    "print(result.summary())"
   ]
  },
  {
   "cell_type": "code",
   "execution_count": null,
   "metadata": {},
   "outputs": [],
   "source": []
  },
  {
   "cell_type": "code",
   "execution_count": null,
   "metadata": {},
   "outputs": [],
   "source": []
  },
  {
   "cell_type": "code",
   "execution_count": null,
   "metadata": {},
   "outputs": [],
   "source": []
  },
  {
   "cell_type": "code",
   "execution_count": null,
   "metadata": {},
   "outputs": [],
   "source": []
  }
 ],
 "metadata": {
  "kernelspec": {
   "display_name": "py310",
   "language": "python",
   "name": "python3"
  },
  "language_info": {
   "codemirror_mode": {
    "name": "ipython",
    "version": 3
   },
   "file_extension": ".py",
   "mimetype": "text/x-python",
   "name": "python",
   "nbconvert_exporter": "python",
   "pygments_lexer": "ipython3",
   "version": "3.10.0"
  }
 },
 "nbformat": 4,
 "nbformat_minor": 2
}
