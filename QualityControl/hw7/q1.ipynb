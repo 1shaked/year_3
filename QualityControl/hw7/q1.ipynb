{
 "cells": [
  {
   "cell_type": "code",
   "execution_count": 4,
   "metadata": {},
   "outputs": [],
   "source": [
    "import pandas as pd\n",
    "import statsmodels.api as sm\n",
    "from statsmodels.formula.api import ols\n",
    "from scipy.stats import t\n"
   ]
  },
  {
   "cell_type": "code",
   "execution_count": 3,
   "metadata": {},
   "outputs": [
    {
     "name": "stdout",
     "output_type": "stream",
     "text": [
      "                                      sum_sq    df          F    PR(>F)\n",
      "production_method                2242.666667   1.0   4.572671  0.045012\n",
      "aircraft_type                    8437.500000   1.0  17.203589  0.000498\n",
      "production_method:aircraft_type  3700.166667   1.0   7.544432  0.012436\n",
      "Residual                         9809.000000  20.0        NaN       NaN\n"
     ]
    }
   ],
   "source": [
    "# Step 1: Organize the data\n",
    "data = pd.DataFrame({\n",
    "    \"fatigue_resistance\": [\n",
    "        355, 395, 323, 356, 393, 327,  # Group A, F-15\n",
    "        415, 403, 446, 410, 409, 440,  # Group A, F-16\n",
    "        392, 350, 348, 389, 353, 350,  # Group B, F-15\n",
    "        396, 375, 357, 390, 380, 360   # Group B, F-16\n",
    "    ],\n",
    "    \"production_method\": [\n",
    "        \"A\", \"A\", \"A\", \"A\", \"A\", \"A\",  # Group A\n",
    "        \"A\", \"A\", \"A\", \"A\", \"A\", \"A\",  # Group A\n",
    "        \"B\", \"B\", \"B\", \"B\", \"B\", \"B\",  # Group B\n",
    "        \"B\", \"B\", \"B\", \"B\", \"B\", \"B\"   # Group B\n",
    "    ],\n",
    "    \"aircraft_type\": [\n",
    "        \"F-15\", \"F-15\", \"F-15\", \"F-15\", \"F-15\", \"F-15\",  # F-15\n",
    "        \"F-16\", \"F-16\", \"F-16\", \"F-16\", \"F-16\", \"F-16\",  # F-16\n",
    "        \"F-15\", \"F-15\", \"F-15\", \"F-15\", \"F-15\", \"F-15\",  # F-15\n",
    "        \"F-16\", \"F-16\", \"F-16\", \"F-16\", \"F-16\", \"F-16\"   # F-16\n",
    "    ]\n",
    "})\n",
    "\n",
    "# Step 2: Specify the Two-Way ANOVA model with interaction\n",
    "formula = \"fatigue_resistance ~ production_method + aircraft_type + production_method:aircraft_type\"\n",
    "model = ols(formula, data=data).fit()\n",
    "\n",
    "# Step 3: Perform the ANOVA\n",
    "table = sm.stats.anova_lm(model, typ=2)  # Type II sums of squares\n",
    "print(table)"
   ]
  },
  {
   "cell_type": "code",
   "execution_count": 5,
   "metadata": {},
   "outputs": [
    {
     "name": "stdout",
     "output_type": "stream",
     "text": [
      "95% Confidence Intervals:\n",
      "('A', 'F-15'): (331.8007891579079, 384.53254417542547)\n",
      "('A', 'F-16'): (405.22111869430194, 435.77888130569806)\n",
      "('B', 'F-15'): (345.8958033212458, 381.43753001208756)\n",
      "('B', 'F-16'): (362.98027041367243, 389.6863962529942)\n"
     ]
    }
   ],
   "source": [
    "\n",
    "# Step 4: Construct 95% confidence intervals for group means\n",
    "means = data.groupby([\"production_method\", \"aircraft_type\"]).mean()[\"fatigue_resistance\"]\n",
    "stderr = data.groupby([\"production_method\", \"aircraft_type\"]).sem()[\"fatigue_resistance\"]\n",
    "\n",
    "df_residual = model.df_resid  # Residual degrees of freedom\n",
    "alpha = 0.05\n",
    "critical_t = t.ppf(1 - alpha / 2, df_residual)  # Two-tailed critical t-value\n",
    "\n",
    "conf_intervals = {}\n",
    "for group in means.index:\n",
    "    mean = means[group]\n",
    "    se = stderr[group]\n",
    "    margin_of_error = critical_t * se\n",
    "    conf_intervals[group] = (mean - margin_of_error, mean + margin_of_error)\n",
    "\n",
    "print(\"95% Confidence Intervals:\")\n",
    "for group, ci in conf_intervals.items():\n",
    "    print(f\"{group}: {ci}\")\n"
   ]
  },
  {
   "cell_type": "code",
   "execution_count": 6,
   "metadata": {},
   "outputs": [
    {
     "name": "stdout",
     "output_type": "stream",
     "text": [
      "\n",
      "One-Way ANOVA Results for Aircraft Type:\n",
      "                     sum_sq    df          F    PR(>F)\n",
      "aircraft_type   8437.500000   1.0  11.784343  0.002377\n",
      "Residual       15751.833333  22.0        NaN       NaN\n"
     ]
    }
   ],
   "source": [
    "# Repeat for aircraft_type if needed\n",
    "formula_one_way_aircraft = \"fatigue_resistance ~ aircraft_type\"\n",
    "model_one_way_aircraft = ols(formula_one_way_aircraft, data=data).fit()\n",
    "one_way_table_aircraft = sm.stats.anova_lm(model_one_way_aircraft, typ=2)\n",
    "\n",
    "print(\"\\nOne-Way ANOVA Results for Aircraft Type:\")\n",
    "print(one_way_table_aircraft)\n"
   ]
  },
  {
   "cell_type": "code",
   "execution_count": null,
   "metadata": {},
   "outputs": [],
   "source": []
  }
 ],
 "metadata": {
  "kernelspec": {
   "display_name": "py310",
   "language": "python",
   "name": "python3"
  },
  "language_info": {
   "codemirror_mode": {
    "name": "ipython",
    "version": 3
   },
   "file_extension": ".py",
   "mimetype": "text/x-python",
   "name": "python",
   "nbconvert_exporter": "python",
   "pygments_lexer": "ipython3",
   "version": "3.10.0"
  }
 },
 "nbformat": 4,
 "nbformat_minor": 2
}
