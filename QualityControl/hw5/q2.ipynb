{
 "cells": [
  {
   "cell_type": "code",
   "execution_count": 2,
   "metadata": {},
   "outputs": [],
   "source": [
    "import pandas as pd"
   ]
  },
  {
   "cell_type": "code",
   "execution_count": 3,
   "metadata": {},
   "outputs": [
    {
     "data": {
      "text/html": [
       "<div>\n",
       "<style scoped>\n",
       "    .dataframe tbody tr th:only-of-type {\n",
       "        vertical-align: middle;\n",
       "    }\n",
       "\n",
       "    .dataframe tbody tr th {\n",
       "        vertical-align: top;\n",
       "    }\n",
       "\n",
       "    .dataframe thead th {\n",
       "        text-align: right;\n",
       "    }\n",
       "</style>\n",
       "<table border=\"1\" class=\"dataframe\">\n",
       "  <thead>\n",
       "    <tr style=\"text-align: right;\">\n",
       "      <th></th>\n",
       "      <th>sample</th>\n",
       "      <th>c1</th>\n",
       "      <th>c2</th>\n",
       "      <th>c3</th>\n",
       "    </tr>\n",
       "  </thead>\n",
       "  <tbody>\n",
       "    <tr>\n",
       "      <th>0</th>\n",
       "      <td>1</td>\n",
       "      <td>14.20</td>\n",
       "      <td>12.85</td>\n",
       "      <td>14.15</td>\n",
       "    </tr>\n",
       "    <tr>\n",
       "      <th>1</th>\n",
       "      <td>2</td>\n",
       "      <td>14.30</td>\n",
       "      <td>13.65</td>\n",
       "      <td>13.90</td>\n",
       "    </tr>\n",
       "    <tr>\n",
       "      <th>2</th>\n",
       "      <td>3</td>\n",
       "      <td>15.00</td>\n",
       "      <td>13.40</td>\n",
       "      <td>13.65</td>\n",
       "    </tr>\n",
       "    <tr>\n",
       "      <th>3</th>\n",
       "      <td>4</td>\n",
       "      <td>14.60</td>\n",
       "      <td>14.20</td>\n",
       "      <td>13.60</td>\n",
       "    </tr>\n",
       "    <tr>\n",
       "      <th>4</th>\n",
       "      <td>5</td>\n",
       "      <td>14.55</td>\n",
       "      <td>12.75</td>\n",
       "      <td>13.20</td>\n",
       "    </tr>\n",
       "    <tr>\n",
       "      <th>5</th>\n",
       "      <td>6</td>\n",
       "      <td>15.15</td>\n",
       "      <td>13.35</td>\n",
       "      <td>13.20</td>\n",
       "    </tr>\n",
       "    <tr>\n",
       "      <th>6</th>\n",
       "      <td>7</td>\n",
       "      <td>14.60</td>\n",
       "      <td>12.50</td>\n",
       "      <td>14.05</td>\n",
       "    </tr>\n",
       "    <tr>\n",
       "      <th>7</th>\n",
       "      <td>8</td>\n",
       "      <td>14.55</td>\n",
       "      <td>12.80</td>\n",
       "      <td>13.80</td>\n",
       "    </tr>\n",
       "  </tbody>\n",
       "</table>\n",
       "</div>"
      ],
      "text/plain": [
       "   sample     c1     c2     c3\n",
       "0       1  14.20  12.85  14.15\n",
       "1       2  14.30  13.65  13.90\n",
       "2       3  15.00  13.40  13.65\n",
       "3       4  14.60  14.20  13.60\n",
       "4       5  14.55  12.75  13.20\n",
       "5       6  15.15  13.35  13.20\n",
       "6       7  14.60  12.50  14.05\n",
       "7       8  14.55  12.80  13.80"
      ]
     },
     "execution_count": 3,
     "metadata": {},
     "output_type": "execute_result"
    }
   ],
   "source": [
    "df = pd.read_excel('q2.xlsx')\n",
    "df"
   ]
  },
  {
   "cell_type": "code",
   "execution_count": 4,
   "metadata": {},
   "outputs": [
    {
     "name": "stdout",
     "output_type": "stream",
     "text": [
      "    sample type  value\n",
      "0        1   c1  14.20\n",
      "1        2   c1  14.30\n",
      "2        3   c1  15.00\n",
      "3        4   c1  14.60\n",
      "4        5   c1  14.55\n",
      "5        6   c1  15.15\n",
      "6        7   c1  14.60\n",
      "7        8   c1  14.55\n",
      "8        1   c2  12.85\n",
      "9        2   c2  13.65\n",
      "10       3   c2  13.40\n",
      "11       4   c2  14.20\n",
      "12       5   c2  12.75\n",
      "13       6   c2  13.35\n",
      "14       7   c2  12.50\n",
      "15       8   c2  12.80\n",
      "16       1   c3  14.15\n",
      "17       2   c3  13.90\n",
      "18       3   c3  13.65\n",
      "19       4   c3  13.60\n",
      "20       5   c3  13.20\n",
      "21       6   c3  13.20\n",
      "22       7   c3  14.05\n",
      "23       8   c3  13.80\n"
     ]
    }
   ],
   "source": [
    "# Reshape the table using melt\n",
    "melted_df = pd.melt(df, id_vars=['sample'], value_vars=['c1', 'c2', 'c3'],\n",
    "                   var_name='type', value_name='value')\n",
    "\n",
    "# Display the transformed table\n",
    "print(melted_df)"
   ]
  },
  {
   "cell_type": "code",
   "execution_count": 5,
   "metadata": {},
   "outputs": [
    {
     "name": "stdout",
     "output_type": "stream",
     "text": [
      "            sum_sq    df          F    PR(>F)\n",
      "type      8.427708   2.0  23.040765  0.000005\n",
      "Residual  3.840625  21.0        NaN       NaN\n"
     ]
    }
   ],
   "source": [
    "import pandas as pd\n",
    "import statsmodels.api as sm\n",
    "from statsmodels.formula.api import ols\n",
    "\n",
    "\n",
    "# Fit the ANOVA model\n",
    "model = ols('value ~ type', data=melted_df).fit()\n",
    "anova_table = sm.stats.anova_lm(model, typ=2)\n",
    "\n",
    "print(anova_table)\n",
    "\n"
   ]
  },
  {
   "cell_type": "code",
   "execution_count": 6,
   "metadata": {},
   "outputs": [
    {
     "data": {
      "text/html": [
       "<div>\n",
       "<style scoped>\n",
       "    .dataframe tbody tr th:only-of-type {\n",
       "        vertical-align: middle;\n",
       "    }\n",
       "\n",
       "    .dataframe tbody tr th {\n",
       "        vertical-align: top;\n",
       "    }\n",
       "\n",
       "    .dataframe thead th {\n",
       "        text-align: right;\n",
       "    }\n",
       "</style>\n",
       "<table border=\"1\" class=\"dataframe\">\n",
       "  <thead>\n",
       "    <tr style=\"text-align: right;\">\n",
       "      <th></th>\n",
       "      <th>sum_sq</th>\n",
       "      <th>df</th>\n",
       "      <th>F</th>\n",
       "      <th>PR(&gt;F)</th>\n",
       "    </tr>\n",
       "  </thead>\n",
       "  <tbody>\n",
       "    <tr>\n",
       "      <th>type</th>\n",
       "      <td>8.427708</td>\n",
       "      <td>2.0</td>\n",
       "      <td>23.040765</td>\n",
       "      <td>0.000005</td>\n",
       "    </tr>\n",
       "    <tr>\n",
       "      <th>Residual</th>\n",
       "      <td>3.840625</td>\n",
       "      <td>21.0</td>\n",
       "      <td>NaN</td>\n",
       "      <td>NaN</td>\n",
       "    </tr>\n",
       "  </tbody>\n",
       "</table>\n",
       "</div>"
      ],
      "text/plain": [
       "            sum_sq    df          F    PR(>F)\n",
       "type      8.427708   2.0  23.040765  0.000005\n",
       "Residual  3.840625  21.0        NaN       NaN"
      ]
     },
     "execution_count": 6,
     "metadata": {},
     "output_type": "execute_result"
    }
   ],
   "source": [
    "anova_table"
   ]
  },
  {
   "cell_type": "code",
   "execution_count": 7,
   "metadata": {},
   "outputs": [
    {
     "name": "stdout",
     "output_type": "stream",
     "text": [
      "\n",
      "Mean Square Error (MSE): 0.18288690476190483\n"
     ]
    }
   ],
   "source": [
    "# Extract MSE (Mean Square Error) from the Residual row\n",
    "mse = anova_table.loc['Residual', 'sum_sq'] / anova_table.loc['Residual', 'df']\n",
    "print(f\"\\nMean Square Error (MSE): {mse}\")"
   ]
  },
  {
   "cell_type": "code",
   "execution_count": 8,
   "metadata": {},
   "outputs": [],
   "source": [
    "# get the t distribution\n",
    "from scipy.stats import t\n",
    "from math import sqrt\n",
    "a = len(melted_df['type'].unique())\n",
    "N = len(melted_df)\n",
    "alpha = 0.05\n",
    "t_val = t.ppf(1 - alpha/2, N - a)\n",
    "# get the t value with \n",
    "interval_mean_groups = t_val  * sqrt(mse * (1/len(df) - 1/ N))\n",
    "interval_mean = t_val  * sqrt(mse /N )"
   ]
  },
  {
   "cell_type": "code",
   "execution_count": 9,
   "metadata": {},
   "outputs": [
    {
     "name": "stdout",
     "output_type": "stream",
     "text": [
      "\n",
      "Confidence interval for mean: (13.651794983226946,14.014871683439722)\n"
     ]
    }
   ],
   "source": [
    "# confidence interval for mean\n",
    "mu = melted_df['value'].mean()\n",
    "print(f\"\\nConfidence interval for mean: ({mu - interval_mean},{mu + interval_mean})\")"
   ]
  },
  {
   "cell_type": "code",
   "execution_count": null,
   "metadata": {},
   "outputs": [],
   "source": []
  },
  {
   "cell_type": "code",
   "execution_count": 10,
   "metadata": {},
   "outputs": [
    {
     "name": "stdout",
     "output_type": "stream",
     "text": [
      "\n",
      "Confidence interval for mean of c1:\n",
      "for group c1 the interval is => (14.362016003188712,14.875483996811289)\n",
      "\n",
      "Confidence interval for mean of c2:\n",
      "for group c2 the interval is => (12.930766003188712,13.444233996811288)\n",
      "\n",
      "Confidence interval for mean of c3:\n",
      "for group c3 the interval is => (13.437016003188711,13.950483996811288)\n"
     ]
    }
   ],
   "source": [
    "for group in melted_df['type'].unique():\n",
    "    print(f\"\\nConfidence interval for mean of {group}:\")\n",
    "    group_values = melted_df[melted_df['type'] == group]['value']\n",
    "    group_mean = group_values.mean()\n",
    "    print(f\"for group {group} the interval is => ({group_mean - interval_mean_groups},{group_mean + interval_mean_groups})\")"
   ]
  },
  {
   "cell_type": "code",
   "execution_count": 13,
   "metadata": {},
   "outputs": [
    {
     "name": "stdout",
     "output_type": "stream",
     "text": [
      "\n",
      "The sigma range is \n",
      "down: 0.37349637050050705\n",
      "----------------------------------------------------------------  \n",
      "up: 0.1082510339449627\n",
      "\n"
     ]
    }
   ],
   "source": [
    "# get the chi square value\n",
    "from scipy.stats import chi2\n",
    "chi_square_up = chi2.ppf(1 - alpha / 2, N  - a)\n",
    "chi_square_down = chi2.ppf(alpha/2, N - a)\n",
    "mse * (N - a) / (a - 1)\n",
    "up_val = mse * (N - a) / chi_square_up\n",
    "down_val = mse * (N - a) / chi_square_down\n",
    "print(f'''\n",
    "The sigma range is \n",
    "down: {down_val}\n",
    "----------------------------------------------------------------  \n",
    "up: {up_val}\n",
    "''')"
   ]
  },
  {
   "cell_type": "code",
   "execution_count": null,
   "metadata": {},
   "outputs": [],
   "source": []
  }
 ],
 "metadata": {
  "kernelspec": {
   "display_name": "py310",
   "language": "python",
   "name": "python3"
  },
  "language_info": {
   "codemirror_mode": {
    "name": "ipython",
    "version": 3
   },
   "file_extension": ".py",
   "mimetype": "text/x-python",
   "name": "python",
   "nbconvert_exporter": "python",
   "pygments_lexer": "ipython3",
   "version": "3.10.0"
  }
 },
 "nbformat": 4,
 "nbformat_minor": 2
}
